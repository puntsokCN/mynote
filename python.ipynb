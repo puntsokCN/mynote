{
 "cells": [
  {
   "cell_type": "markdown",
   "metadata": {},
   "source": [
    "# python 简洁之美"
   ]
  },
  {
   "cell_type": "markdown",
   "metadata": {},
   "source": [
    "## 一行代码交换a,b"
   ]
  },
  {
   "cell_type": "code",
   "execution_count": 1,
   "metadata": {},
   "outputs": [
    {
     "data": {
      "text/plain": [
       "(4, 1)"
      ]
     },
     "execution_count": 1,
     "metadata": {},
     "output_type": "execute_result"
    }
   ],
   "source": [
    "a, b = 1, 4\n",
    "\n",
    "a, b = b, a\n",
    "a,b"
   ]
  },
  {
   "cell_type": "markdown",
   "metadata": {},
   "source": [
    "## 一行代码反转列表"
   ]
  },
  {
   "cell_type": "code",
   "execution_count": 2,
   "metadata": {},
   "outputs": [
    {
     "data": {
      "text/plain": [
       "[3, 2, 1]"
      ]
     },
     "execution_count": 2,
     "metadata": {},
     "output_type": "execute_result"
    }
   ],
   "source": [
    "[1,2,3][::-1] "
   ]
  },
  {
   "cell_type": "markdown",
   "metadata": {},
   "source": [
    "## 一行代码合并两个字典"
   ]
  },
  {
   "cell_type": "code",
   "execution_count": 3,
   "metadata": {},
   "outputs": [
    {
     "data": {
      "text/plain": [
       "{'a': 1, 'b': 2, 'c': 3}"
      ]
     },
     "execution_count": 3,
     "metadata": {},
     "output_type": "execute_result"
    }
   ],
   "source": [
    "{**{'a':1,'b':2}, **{'c':3}}"
   ]
  },
  {
   "cell_type": "markdown",
   "metadata": {},
   "source": [
    "## 一行代码列表去重"
   ]
  },
  {
   "cell_type": "code",
   "execution_count": 4,
   "metadata": {},
   "outputs": [
    {
     "data": {
      "text/plain": [
       "{1, 2, 3}"
      ]
     },
     "execution_count": 4,
     "metadata": {},
     "output_type": "execute_result"
    }
   ],
   "source": [
    "set([1,2,2,3,3,3])"
   ]
  },
  {
   "cell_type": "markdown",
   "metadata": {},
   "source": [
    "## 一行代码求多个列表中的最大值"
   ]
  },
  {
   "cell_type": "code",
   "execution_count": 5,
   "metadata": {},
   "outputs": [
    {
     "data": {
      "text/plain": [
       "5"
      ]
     },
     "execution_count": 5,
     "metadata": {},
     "output_type": "execute_result"
    }
   ],
   "source": [
    "max(max([ [1,2,3], [5,1], [4] ], key=lambda v: max(v))) "
   ]
  },
  {
   "cell_type": "markdown",
   "metadata": {},
   "source": [
    "## 一行代码生成逆序序列"
   ]
  },
  {
   "cell_type": "code",
   "execution_count": 6,
   "metadata": {},
   "outputs": [
    {
     "data": {
      "text/plain": [
       "[10, 9, 8, 7, 6, 5, 4, 3, 2, 1, 0]"
      ]
     },
     "execution_count": 6,
     "metadata": {},
     "output_type": "execute_result"
    }
   ],
   "source": [
    "list(range(10,-1,-1))"
   ]
  },
  {
   "cell_type": "markdown",
   "metadata": {},
   "source": [
    "# python概览"
   ]
  },
  {
   "cell_type": "markdown",
   "metadata": {},
   "source": [
    "## 任务"
   ]
  },
  {
   "cell_type": "markdown",
   "metadata": {},
   "source": [
    "假设由于每种原因你现在需要去记录人们的信息。你想写个程序来这些人的详细信息。也就是说你想把这些记录存在数据库中，以便在电脑中永久存储这些信息。  \n",
    "\n",
    "你可以找到现成的数据库管理软件来管理对应的数据库。但是你可以亲自编写这样一个程序，可以完全控制它的运行方式，于是就这样入python的坑........."
   ]
  },
  {
   "cell_type": "markdown",
   "metadata": {},
   "source": [
    "## 第一步 表示记录"
   ]
  },
  {
   "cell_type": "markdown",
   "metadata": {},
   "source": [
    "如果我们想在数据库中存储记录，就要确定以什么样的数据类型来存储。通常使用列表和字典这样的内建对象类型就够用了。"
   ]
  },
  {
   "cell_type": "markdown",
   "metadata": {},
   "source": [
    "### 试用 List"
   ]
  },
  {
   "cell_type": "markdown",
   "metadata": {},
   "source": [
    "#### 新建记录"
   ]
  },
  {
   "cell_type": "code",
   "execution_count": 7,
   "metadata": {},
   "outputs": [],
   "source": [
    "bob = [\"Bob Smith\", 42, 20000, \"software\"]\n",
    "sue = [\"Sue James\", 30, 30000, \"hardware\"]"
   ]
  },
  {
   "cell_type": "markdown",
   "metadata": {},
   "source": [
    "#### 通过对列表的访问，处理可以容易地处理记录"
   ]
  },
  {
   "cell_type": "code",
   "execution_count": 8,
   "metadata": {},
   "outputs": [
    {
     "data": {
      "text/plain": [
       "'Smith'"
      ]
     },
     "execution_count": 8,
     "metadata": {},
     "output_type": "execute_result"
    }
   ],
   "source": [
    "#　Bob　姓啥？\n",
    "bob[0].split()[-1]"
   ]
  },
  {
   "cell_type": "code",
   "execution_count": 9,
   "metadata": {},
   "outputs": [
    {
     "data": {
      "text/plain": [
       "['Sue James', 30, 37500.0, 'hardware']"
      ]
     },
     "execution_count": 9,
     "metadata": {},
     "output_type": "execute_result"
    }
   ],
   "source": [
    "# 给 sue 涨薪 25%\n",
    "sue[2] *= 1.25\n",
    "sue"
   ]
  },
  {
   "cell_type": "markdown",
   "metadata": {},
   "source": [
    "#### 数据库列表"
   ]
  },
  {
   "cell_type": "markdown",
   "metadata": {},
   "source": [
    "为了把 Bob 和 Sue 存储在一起，我们可以简单地把他们放入一个新的列表里，形成一个简单的数据库"
   ]
  },
  {
   "cell_type": "code",
   "execution_count": 10,
   "metadata": {},
   "outputs": [
    {
     "name": "stdout",
     "output_type": "stream",
     "text": [
      "['Bob Smith', 42, 20000, 'software']\n",
      "['Sue James', 30, 37500.0, 'hardware']\n"
     ]
    }
   ],
   "source": [
    "people = [bob, sue]\n",
    "# 查看一个这个数据库的内容\n",
    "for person in people:\n",
    "    print(person)"
   ]
  },
  {
   "cell_type": "markdown",
   "metadata": {},
   "source": [
    "通过操作数据库来处理记录"
   ]
  },
  {
   "cell_type": "code",
   "execution_count": 11,
   "metadata": {},
   "outputs": [
    {
     "name": "stdout",
     "output_type": "stream",
     "text": [
      "Smith\n",
      "James\n"
     ]
    }
   ],
   "source": [
    "# 给每人涨薪 20%\n",
    "for person in people:\n",
    "    print(person[0].split()[-1])  # 打印姓氏\n",
    "    person[2] *= 1.20   # 涨薪水"
   ]
  },
  {
   "cell_type": "code",
   "execution_count": 12,
   "metadata": {},
   "outputs": [
    {
     "name": "stdout",
     "output_type": "stream",
     "text": [
      "24000.0\n",
      "45000.0\n"
     ]
    }
   ],
   "source": [
    "# 检查一下有没有涨薪水\n",
    "for person in people:\n",
    "    print(person[2])"
   ]
  },
  {
   "cell_type": "markdown",
   "metadata": {},
   "source": [
    "#### 使用python迭代工具从记录中获取各种值。例如获取列表解析、map和生成器表达式"
   ]
  },
  {
   "cell_type": "code",
   "execution_count": 13,
   "metadata": {},
   "outputs": [
    {
     "data": {
      "text/plain": [
       "[24000.0, 45000.0]"
      ]
     },
     "execution_count": 13,
     "metadata": {},
     "output_type": "execute_result"
    }
   ],
   "source": [
    "# 获取员工的薪水列表\n",
    "# 列表解析\n",
    "pays = [person[2] for person in people]\n",
    "pays"
   ]
  },
  {
   "cell_type": "code",
   "execution_count": 14,
   "metadata": {},
   "outputs": [
    {
     "data": {
      "text/plain": [
       "[24000.0, 45000.0]"
      ]
     },
     "execution_count": 14,
     "metadata": {},
     "output_type": "execute_result"
    }
   ],
   "source": [
    "# map\n",
    "pays = map((lambda x: x[2]), people)\n",
    "list(pays)"
   ]
  },
  {
   "cell_type": "code",
   "execution_count": 15,
   "metadata": {},
   "outputs": [
    {
     "data": {
      "text/plain": [
       "69000.0"
      ]
     },
     "execution_count": 15,
     "metadata": {},
     "output_type": "execute_result"
    }
   ],
   "source": [
    "# # 查看公司应付员工薪水总额\n",
    "# 生成器表达式， sum为内建函数\n",
    "sum(person[2] for person in people)"
   ]
  },
  {
   "cell_type": "markdown",
   "metadata": {},
   "source": [
    "#### Field标签"
   ]
  },
  {
   "cell_type": "markdown",
   "metadata": {},
   "source": [
    "通过对列表的位置来访问字段导致我们一直需要记住列表每个位置的含义，这样编码麻烦而且代码可读性也差，最好把字段名和字段的值关联起来，也就是咱们给列表的每个位置起个名字。"
   ]
  },
  {
   "cell_type": "code",
   "execution_count": 16,
   "metadata": {},
   "outputs": [],
   "source": [
    "NAME, AGE, PAY, JOB = range(4)\n",
    "kobe = [\"Kobe Bryant\", 60, 60000, \"spokesperson\"]"
   ]
  },
  {
   "cell_type": "code",
   "execution_count": 17,
   "metadata": {},
   "outputs": [
    {
     "data": {
      "text/plain": [
       "'Kobe Bryant'"
      ]
     },
     "execution_count": 17,
     "metadata": {},
     "output_type": "execute_result"
    }
   ],
   "source": [
    "# 查看姓名\n",
    "kobe[NAME]"
   ]
  },
  {
   "cell_type": "code",
   "execution_count": 18,
   "metadata": {},
   "outputs": [
    {
     "data": {
      "text/plain": [
       "(3, 'spokesperson')"
      ]
     },
     "execution_count": 18,
     "metadata": {},
     "output_type": "execute_result"
    }
   ],
   "source": [
    "# 查看职位\n",
    "JOB, kobe[JOB]  "
   ]
  },
  {
   "cell_type": "markdown",
   "metadata": {},
   "source": [
    "这样兄弟萌就解决了可读性问题，但是我们发现数据记录和字段名并非是关联在一起的，这样随着时间的前进，后来的编码人员对数据结构进行变化时，如果忘了对字段变量做相应的维护的话，它们将会失去同步。  \n",
    "\n",
    "而且字段名是独立的变量，没有从记录到其字段名的直接映射。  \n",
    "\n",
    "我们可以尝试利用元组的列表来解决这个问题，其中每个元组保存字段名和值，更加理想的是，使用列表的列表允许进行更新的，（元组是不可变的）"
   ]
  },
  {
   "cell_type": "code",
   "execution_count": 19,
   "metadata": {},
   "outputs": [],
   "source": [
    "bob = [['name', \"Bob Smith\"], [\"age\", 42], [\"pay\", 30000]]\n",
    "sue = [['name', \"Sue James\"], [\"age\", 46], [\"pay\", 40000]]\n",
    "people = [bob, sue]"
   ]
  },
  {
   "cell_type": "markdown",
   "metadata": {},
   "source": [
    "但是这样我们依然需要通过列表的index值来获取数据。"
   ]
  },
  {
   "cell_type": "code",
   "execution_count": 20,
   "metadata": {},
   "outputs": [
    {
     "data": {
      "text/plain": [
       "['Bob Smith', 'Sue James']"
      ]
     },
     "execution_count": 20,
     "metadata": {},
     "output_type": "execute_result"
    }
   ],
   "source": [
    "# 收集人员姓名\n",
    "[person[0][1] for person in people]"
   ]
  },
  {
   "cell_type": "markdown",
   "metadata": {},
   "source": [
    "实际上仅仅是增加了一层额外的位置索引。更好的办法是，可以在循环中检查字段名字来找到我们想要的属性"
   ]
  },
  {
   "cell_type": "code",
   "execution_count": 21,
   "metadata": {},
   "outputs": [
    {
     "name": "stdout",
     "output_type": "stream",
     "text": [
      "Bob Smith\n",
      "Sue James\n"
     ]
    }
   ],
   "source": [
    "for person in people:\n",
    "    for (name, value) in person:\n",
    "        if name == \"name\" :\n",
    "            print(value)"
   ]
  },
  {
   "cell_type": "markdown",
   "metadata": {},
   "source": [
    "我们可以抽取其中的逻辑写个函数接口来做项工作，以后调用函数进行复用就可以了"
   ]
  },
  {
   "cell_type": "code",
   "execution_count": 22,
   "metadata": {},
   "outputs": [],
   "source": [
    "def field(record, label):\n",
    "    \"\"\"\n",
    "    record: 记录变量名\n",
    "    label： 字段名\n",
    "    \"\"\"\n",
    "    for(fname, fvalue) in record:\n",
    "        if fname == label:  # 根据名字来寻找字段名\n",
    "            return fvalue"
   ]
  },
  {
   "cell_type": "code",
   "execution_count": 23,
   "metadata": {},
   "outputs": [
    {
     "data": {
      "text/plain": [
       "'Bob Smith'"
      ]
     },
     "execution_count": 23,
     "metadata": {},
     "output_type": "execute_result"
    }
   ],
   "source": [
    "# 获取姓名\n",
    "field(bob, \"name\")"
   ]
  },
  {
   "cell_type": "code",
   "execution_count": 24,
   "metadata": {},
   "outputs": [
    {
     "name": "stdout",
     "output_type": "stream",
     "text": [
      "42\n",
      "46\n"
     ]
    }
   ],
   "source": [
    "# 打印所有年龄\n",
    "for rec in people:\n",
    "    print(field(rec, \"age\"))   #简化了代码，提升了可读性"
   ]
  },
  {
   "cell_type": "markdown",
   "metadata": {},
   "source": [
    "如果继续探索下去，最终会实现一套将字段名映射到字段值的完善的记录接口函数。"
   ]
  },
  {
   "cell_type": "markdown",
   "metadata": {},
   "source": [
    "#### 持久存储问题"
   ]
  },
  {
   "cell_type": "markdown",
   "metadata": {},
   "source": [
    "列表的确可以用作我们的人员数据库，而且的确它也满足一些小程序的需要。但是他是在内存中，一旦python的进程退出，这些数据就会从内存中消失。"
   ]
  },
  {
   "cell_type": "markdown",
   "metadata": {},
   "source": [
    "### 试用字典"
   ]
  },
  {
   "cell_type": "markdown",
   "metadata": {},
   "source": [
    "#### 新建字典数据表示"
   ]
  },
  {
   "cell_type": "markdown",
   "metadata": {},
   "source": [
    "虽然列表的记录表示方式能够使用，但是我们知道内建的字典对象在关联属性的名字和值方面会更高效和方便"
   ]
  },
  {
   "cell_type": "code",
   "execution_count": 25,
   "metadata": {},
   "outputs": [],
   "source": [
    "bob = {\"name\":\"Bob Smith\", \"age\":42, \"pay\":30000, \"job\":\"dev\"}\n",
    "sue = {\"name\":\"sue James\", \"age\":46, \"pay\":40000, \"job\":\"mng\"}"
   ]
  },
  {
   "cell_type": "code",
   "execution_count": 26,
   "metadata": {},
   "outputs": [
    {
     "data": {
      "text/plain": [
       "'Bob Smith'"
      ]
     },
     "execution_count": 26,
     "metadata": {},
     "output_type": "execute_result"
    }
   ],
   "source": [
    "# 相比list我们不再需要记住index值偏移量对应的含义\n",
    "bob[\"name\"]"
   ]
  },
  {
   "cell_type": "code",
   "execution_count": 27,
   "metadata": {},
   "outputs": [
    {
     "name": "stdout",
     "output_type": "stream",
     "text": [
      "40000\n",
      "44000.0\n"
     ]
    }
   ],
   "source": [
    "# 涨薪  \n",
    "print(sue[\"pay\"])\n",
    "sue[\"pay\"] *= 1.10\n",
    "print(sue[\"pay\"])\n",
    "\n",
    "# 代码可读性也大大地好\n",
    "# 字段名和值之间的映射关系也稳定，也不用担心它们之间会失联"
   ]
  },
  {
   "cell_type": "markdown",
   "metadata": {},
   "source": [
    "#### 其他建立字典的方法"
   ]
  },
  {
   "cell_type": "markdown",
   "metadata": {},
   "source": [
    "可以使用关键词参数和类型构造函数，主要所有的键是字符串"
   ]
  },
  {
   "cell_type": "code",
   "execution_count": 28,
   "metadata": {},
   "outputs": [
    {
     "data": {
      "text/plain": [
       "{'name': 'Bob Smith', 'age': 42, 'pay': 30000, 'job': 'dev'}"
      ]
     },
     "execution_count": 28,
     "metadata": {},
     "output_type": "execute_result"
    }
   ],
   "source": [
    "bob = dict(name=\"Bob Smith\", age=42, pay=30000, job=\"dev\")\n",
    "sue = dict(name=\"Sue Jones\", age=45, pay=40000, job=\"hdw\")\n",
    "bob"
   ]
  },
  {
   "cell_type": "markdown",
   "metadata": {},
   "source": [
    "或者一次一个字段地填写（字典的键是伪随机排列的呦）"
   ]
  },
  {
   "cell_type": "code",
   "execution_count": 29,
   "metadata": {},
   "outputs": [],
   "source": [
    "wade = {}"
   ]
  },
  {
   "cell_type": "code",
   "execution_count": 30,
   "metadata": {},
   "outputs": [
    {
     "data": {
      "text/plain": [
       "{'name': 'D.Wade'}"
      ]
     },
     "execution_count": 30,
     "metadata": {},
     "output_type": "execute_result"
    }
   ],
   "source": [
    "wade[\"name\"] = \"D.Wade\"\n",
    "wade"
   ]
  },
  {
   "cell_type": "code",
   "execution_count": 31,
   "metadata": {},
   "outputs": [
    {
     "data": {
      "text/plain": [
       "{'name': 'D.Wade', 'age': '40'}"
      ]
     },
     "execution_count": 31,
     "metadata": {},
     "output_type": "execute_result"
    }
   ],
   "source": [
    "wade[\"age\"] = \"40\"\n",
    "wade"
   ]
  },
  {
   "cell_type": "markdown",
   "metadata": {},
   "source": [
    "或者用zip函数将 名/值 两个列表链在一起"
   ]
  },
  {
   "cell_type": "code",
   "execution_count": 32,
   "metadata": {},
   "outputs": [
    {
     "data": {
      "text/plain": [
       "[('name', 'L.J'),\n",
       " ('age', '35'),\n",
       " ('pay', '35000000$'),\n",
       " ('job', 'basketball player')]"
      ]
     },
     "execution_count": 32,
     "metadata": {},
     "output_type": "execute_result"
    }
   ],
   "source": [
    "keys = [\"name\", \"age\", \"pay\", \"job\"]\n",
    "values = [\"L.J\", \"35\", \"35000000$\", \"basketball player\"] \n",
    "\n",
    "# 1\n",
    "list(zip(keys, values))"
   ]
  },
  {
   "cell_type": "code",
   "execution_count": 33,
   "metadata": {},
   "outputs": [
    {
     "data": {
      "text/plain": [
       "{'name': 'L.J', 'age': '35', 'pay': '35000000$', 'job': 'basketball player'}"
      ]
     },
     "execution_count": 33,
     "metadata": {},
     "output_type": "execute_result"
    }
   ],
   "source": [
    "# 2\n",
    "dict(zip(keys, values))"
   ]
  },
  {
   "cell_type": "markdown",
   "metadata": {},
   "source": [
    "甚至可以通过一个键序列和所有键的可选初始值来创造字典（便于初始化空字典）"
   ]
  },
  {
   "cell_type": "code",
   "execution_count": 34,
   "metadata": {},
   "outputs": [
    {
     "data": {
      "text/plain": [
       "{'name': '?', 'job': '?', 'age': '?'}"
      ]
     },
     "execution_count": 34,
     "metadata": {},
     "output_type": "execute_result"
    }
   ],
   "source": [
    "# 先把结构创建出来，然后可以在慢慢填入\n",
    "fields = {\"name\", \"age\", \"job\"}\n",
    "record = dict.fromkeys(fields, \"?\")\n",
    "record"
   ]
  },
  {
   "cell_type": "markdown",
   "metadata": {},
   "source": [
    "#### 字典列表数据库"
   ]
  },
  {
   "cell_type": "markdown",
   "metadata": {},
   "source": [
    "不管怎样实现字典，仍然需要把基于字典的数据记录会聚在一起，形成数据库。我们依然使用列表"
   ]
  },
  {
   "cell_type": "code",
   "execution_count": 35,
   "metadata": {},
   "outputs": [
    {
     "data": {
      "text/plain": [
       "{'name': 'Bob Smith', 'age': 42, 'pay': 30000, 'job': 'dev'}"
      ]
     },
     "execution_count": 35,
     "metadata": {},
     "output_type": "execute_result"
    }
   ],
   "source": [
    "bob"
   ]
  },
  {
   "cell_type": "code",
   "execution_count": 36,
   "metadata": {},
   "outputs": [
    {
     "data": {
      "text/plain": [
       "{'name': 'Sue Jones', 'age': 45, 'pay': 40000, 'job': 'hdw'}"
      ]
     },
     "execution_count": 36,
     "metadata": {},
     "output_type": "execute_result"
    }
   ],
   "source": [
    "sue"
   ]
  },
  {
   "cell_type": "code",
   "execution_count": 37,
   "metadata": {},
   "outputs": [
    {
     "name": "stdout",
     "output_type": "stream",
     "text": [
      "Bob Smith 30000\n",
      "Sue Jones 40000\n"
     ]
    }
   ],
   "source": [
    "people = [bob, sue]\n",
    "for person in people:\n",
    "    print(person[\"name\"], person[\"pay\"])"
   ]
  },
  {
   "cell_type": "markdown",
   "metadata": {},
   "source": [
    "对数据库可以使用迭代工具"
   ]
  },
  {
   "cell_type": "code",
   "execution_count": 38,
   "metadata": {},
   "outputs": [
    {
     "data": {
      "text/plain": [
       "['Bob Smith', 'Sue Jones']"
      ]
     },
     "execution_count": 38,
     "metadata": {},
     "output_type": "execute_result"
    }
   ],
   "source": [
    "# 人员有哪些\n",
    "names = [person[\"name\"] for person in people]\n",
    "names"
   ]
  },
  {
   "cell_type": "code",
   "execution_count": 39,
   "metadata": {},
   "outputs": [
    {
     "data": {
      "text/plain": [
       "['Bob Smith', 'Sue Jones']"
      ]
     },
     "execution_count": 39,
     "metadata": {},
     "output_type": "execute_result"
    }
   ],
   "source": [
    "# map\n",
    "list(map((lambda x: x[\"name\"]), people))"
   ]
  },
  {
   "cell_type": "code",
   "execution_count": 40,
   "metadata": {},
   "outputs": [
    {
     "data": {
      "text/plain": [
       "70000"
      ]
     },
     "execution_count": 40,
     "metadata": {},
     "output_type": "execute_result"
    }
   ],
   "source": [
    "# 总共应付人员薪水\n",
    "sum(person[\"pay\"] for person in people)"
   ]
  },
  {
   "cell_type": "code",
   "execution_count": 41,
   "metadata": {},
   "outputs": [],
   "source": [
    "db = {}                 # 数据库\n",
    "db[\"bob\"] = bob         # 引用字典的字典\n",
    "db[\"sue\"] = sue"
   ]
  },
  {
   "cell_type": "markdown",
   "metadata": {},
   "source": [
    "由于字典是python对象，所以数据库中的记录可以用python语法进行增删改查"
   ]
  },
  {
   "cell_type": "code",
   "execution_count": 42,
   "metadata": {},
   "outputs": [],
   "source": [
    "for person in people:\n",
    "    person[\"pay\"] *= 1.10  # 为所有人员加薪"
   ]
  },
  {
   "cell_type": "markdown",
   "metadata": {},
   "source": [
    "#### 嵌套结构"
   ]
  },
  {
   "cell_type": "code",
   "execution_count": 43,
   "metadata": {},
   "outputs": [
    {
     "name": "stdout",
     "output_type": "stream",
     "text": [
      "Smith\n",
      "Jones\n"
     ]
    }
   ],
   "source": [
    "# 现在抽取姓氏时\n",
    "for person in people:\n",
    "    print(person[\"name\"].split()[-1])"
   ]
  },
  {
   "cell_type": "markdown",
   "metadata": {},
   "source": [
    "通过再进一步结构化我们的记录，可以避免上述列子中这样的抽取姓氏的代码"
   ]
  },
  {
   "cell_type": "code",
   "execution_count": 44,
   "metadata": {},
   "outputs": [],
   "source": [
    "# 将字典、列表、元组嵌套在另一个字典中\n",
    "bob2 = {\"name\":{\"first\":\"bob\", \"last\":\"Smith\"},\n",
    "        \"age\":42,\n",
    "        \"job\":[\"software\", \"dancer\"],\n",
    "        \"pay\":(30000, 20000),\n",
    "       }"
   ]
  },
  {
   "cell_type": "code",
   "execution_count": 45,
   "metadata": {},
   "outputs": [
    {
     "data": {
      "text/plain": [
       "{'first': 'bob', 'last': 'Smith'}"
      ]
     },
     "execution_count": 45,
     "metadata": {},
     "output_type": "execute_result"
    }
   ],
   "source": [
    "# 获取全名\n",
    "bob2[\"name\"]"
   ]
  },
  {
   "cell_type": "code",
   "execution_count": 46,
   "metadata": {},
   "outputs": [
    {
     "data": {
      "text/plain": [
       "'Smith'"
      ]
     },
     "execution_count": 46,
     "metadata": {},
     "output_type": "execute_result"
    }
   ],
   "source": [
    "# 获取bob的姓\n",
    "bob2[\"name\"][\"last\"]"
   ]
  },
  {
   "cell_type": "code",
   "execution_count": 47,
   "metadata": {},
   "outputs": [
    {
     "name": "stdout",
     "output_type": "stream",
     "text": [
      "software\n",
      "dancer\n"
     ]
    }
   ],
   "source": [
    "# bob 的所有工作\n",
    "for job in bob2[\"job\"] : print(job) "
   ]
  },
  {
   "cell_type": "code",
   "execution_count": 48,
   "metadata": {},
   "outputs": [],
   "source": [
    "# bob 又增加了一个工作\n",
    "bob2[\"job\"].append(\"lol player\")"
   ]
  },
  {
   "cell_type": "code",
   "execution_count": 49,
   "metadata": {},
   "outputs": [
    {
     "data": {
      "text/plain": [
       "['software', 'dancer', 'lol player']"
      ]
     },
     "execution_count": 49,
     "metadata": {},
     "output_type": "execute_result"
    }
   ],
   "source": [
    "bob2[\"job\"]"
   ]
  },
  {
   "cell_type": "markdown",
   "metadata": {},
   "source": [
    "#### 字典的字典"
   ]
  },
  {
   "cell_type": "markdown",
   "metadata": {},
   "source": [
    "我们对基于字典的人员数据库做最后一次改进，可以从字典中多挖掘一些字典的好处。  \n",
    "\n",
    "我们使用字典表示数据库本身，"
   ]
  },
  {
   "cell_type": "code",
   "execution_count": 50,
   "metadata": {},
   "outputs": [],
   "source": [
    "bob = dict(name=\"Bob Smith\", age=42, pay=30000, job=\"dev\")\n",
    "sue = dict(name=\"Sue Jones\", age=45, pay=40000, job=\"hdw\")"
   ]
  },
  {
   "cell_type": "code",
   "execution_count": 51,
   "metadata": {},
   "outputs": [],
   "source": [
    "db = {} # 建立一个数据库"
   ]
  },
  {
   "cell_type": "code",
   "execution_count": 52,
   "metadata": {},
   "outputs": [],
   "source": [
    "# 引用字典的字典\n",
    "db[\"bob\"] = bob \n",
    "db[\"sue\"] = sue"
   ]
  },
  {
   "cell_type": "code",
   "execution_count": 53,
   "metadata": {},
   "outputs": [
    {
     "data": {
      "text/plain": [
       "'Bob Smith'"
      ]
     },
     "execution_count": 53,
     "metadata": {},
     "output_type": "execute_result"
    }
   ],
   "source": [
    "db[\"bob\"][\"name\"]"
   ]
  },
  {
   "cell_type": "code",
   "execution_count": 54,
   "metadata": {},
   "outputs": [
    {
     "data": {
      "text/plain": [
       "44000.0"
      ]
     },
     "execution_count": 54,
     "metadata": {},
     "output_type": "execute_result"
    }
   ],
   "source": [
    "db[\"sue\"][\"pay\"] * 1.1  # 涨薪"
   ]
  },
  {
   "cell_type": "code",
   "execution_count": 55,
   "metadata": {},
   "outputs": [
    {
     "data": {
      "text/plain": [
       "{'bob': {'name': 'Bob Smith', 'age': 42, 'pay': 30000, 'job': 'dev'},\n",
       " 'sue': {'name': 'Sue Jones', 'age': 45, 'pay': 40000, 'job': 'hdw'}}"
      ]
     },
     "execution_count": 55,
     "metadata": {},
     "output_type": "execute_result"
    }
   ],
   "source": [
    "# 这样的结构可以直接访问一条记录，而不必循环中寻找到它。\n",
    "db #查看数据库"
   ]
  },
  {
   "cell_type": "code",
   "execution_count": 56,
   "metadata": {},
   "outputs": [
    {
     "name": "stdout",
     "output_type": "stream",
     "text": [
      "{'bob': {'age': 42, 'job': 'dev', 'name': 'Bob Smith', 'pay': 30000},\n",
      " 'sue': {'age': 45, 'job': 'hdw', 'name': 'Sue Jones', 'pay': 40000}}\n"
     ]
    }
   ],
   "source": [
    "# python的pprint可以让输出更易于阅读\n",
    "import pprint\n",
    "pprint.pprint(db)"
   ]
  },
  {
   "cell_type": "markdown",
   "metadata": {},
   "source": [
    "如果仍然需要逐条记录地访问数据库，可以使用for循环和字典的迭代器"
   ]
  },
  {
   "cell_type": "code",
   "execution_count": 57,
   "metadata": {},
   "outputs": [
    {
     "name": "stdout",
     "output_type": "stream",
     "text": [
      "['Bob Smith', 'Sue Jones'] ['Bob Smith', 'Sue Jones']\n"
     ]
    }
   ],
   "source": [
    "# 迭代起\n",
    "x = [db[key][\"name\"] for key in db]\n",
    "y = [rec[\"name\"] for rec in db.values()]\n",
    "print(x, y)"
   ]
  },
  {
   "cell_type": "markdown",
   "metadata": {},
   "source": [
    "#### 数据库增删改查"
   ]
  },
  {
   "cell_type": "code",
   "execution_count": 58,
   "metadata": {},
   "outputs": [
    {
     "data": {
      "text/plain": [
       "2"
      ]
     },
     "execution_count": 58,
     "metadata": {},
     "output_type": "execute_result"
    }
   ],
   "source": [
    "#　数据库的记录总数\n",
    "len(db)"
   ]
  },
  {
   "cell_type": "code",
   "execution_count": 59,
   "metadata": {},
   "outputs": [
    {
     "name": "stdout",
     "output_type": "stream",
     "text": [
      "{'bob': {'age': 42, 'job': 'dev', 'name': 'Bob Smith', 'pay': 30000},\n",
      " 'sue': {'age': 45, 'job': 'hdw', 'name': 'Sue Jones', 'pay': 40000},\n",
      " 'tom': {'age': 50, 'job': None, 'name': 'Tom', 'pay': 0}}\n"
     ]
    }
   ],
   "source": [
    "# 增 - 只要把新的记录赋给一个新的键即可\n",
    "db[\"tom\"] = dict(name=\"Tom\", age=50, job=None, pay=0)\n",
    "pprint.pprint(db)"
   ]
  },
  {
   "cell_type": "code",
   "execution_count": 60,
   "metadata": {},
   "outputs": [
    {
     "data": {
      "text/plain": [
       "['bob', 'sue', 'tom']"
      ]
     },
     "execution_count": 60,
     "metadata": {},
     "output_type": "execute_result"
    }
   ],
   "source": [
    "# 查看数据库有哪些人员记录\n",
    "list(db.keys())"
   ]
  },
  {
   "cell_type": "code",
   "execution_count": 61,
   "metadata": {},
   "outputs": [
    {
     "data": {
      "text/plain": [
       "['Sue Jones', 'Tom']"
      ]
     },
     "execution_count": 61,
     "metadata": {},
     "output_type": "execute_result"
    }
   ],
   "source": [
    "# 类似 SQL 的条件查询\n",
    "[rec[\"name\"] for rec in db.values() if rec[\"age\"] >= 45] "
   ]
  },
  {
   "cell_type": "markdown",
   "metadata": {},
   "source": [
    "#### 持久存储问题"
   ]
  },
  {
   "cell_type": "markdown",
   "metadata": {},
   "source": [
    "虽然我们的数据库仍然是内存的临时对象，当python进程死亡时，这些数据也随之消失，但是这种字典的结构与永久性对象的系统结构非常切合--shelve(英文语法上应该是shelf，但是python模块命名和术语用的shelve)"
   ]
  },
  {
   "cell_type": "markdown",
   "metadata": {},
   "source": [
    "## 第二步  持久化存储记录"
   ]
  },
  {
   "cell_type": "markdown",
   "metadata": {},
   "source": [
    "由于前面的所有对象是在内存中的都是暂时的，所以为了人员信息持久化，我们需要将对象保存在某种类型的文件中。"
   ]
  },
  {
   "cell_type": "markdown",
   "metadata": {},
   "source": [
    "### 使用格式化文件"
   ]
  },
  {
   "cell_type": "markdown",
   "metadata": {},
   "source": [
    "程序运行时保存数据的一种方法是把所有数据以格式化的方法写入一个简单的文本文件中。只要保存和载入的工具在所选格式上达成一致就可以"
   ]
  },
  {
   "cell_type": "markdown",
   "metadata": {},
   "source": [
    "#### 生成测试数据的接口（可设计为脚本模块，命令行运行）"
   ]
  },
  {
   "cell_type": "code",
   "execution_count": 62,
   "metadata": {},
   "outputs": [
    {
     "data": {
      "text/plain": [
       "{'bob': {'name': 'Bob Smith', 'age': 42, 'pay': 30000, 'job': 'dev'},\n",
       " 'sue': {'name': 'Sue Jones', 'age': 45, 'pay': 40000, 'job': 'hdw'},\n",
       " 'tom': {'name': 'Tom Sun', 'age': 48, 'pay': 0, 'job': ''}}"
      ]
     },
     "execution_count": 62,
     "metadata": {},
     "output_type": "execute_result"
    }
   ],
   "source": [
    "# 可以单独制作成一个py文件作为脚本，通过__main__入口调用\n",
    "def initdata():\n",
    "    #　记录       \n",
    "    bob = dict(name=\"Bob Smith\", age=42, pay=30000, job=\"dev\")\n",
    "    sue = dict(name=\"Sue Jones\", age=45, pay=40000, job=\"hdw\")\n",
    "    tom = dict(name=\"Tom Sun\", age=48, pay=0, job=\"\")\n",
    "\n",
    "    # db\n",
    "    db = {}\n",
    "    db[\"bob\"] = bob\n",
    "    db[\"sue\"] = sue\n",
    "    db[\"tom\"] = tom\n",
    "    \n",
    "    return db\n",
    "\n",
    "# 生成\n",
    "initdata() "
   ]
  },
  {
   "cell_type": "markdown",
   "metadata": {},
   "source": [
    "#### 数据格式化脚本"
   ]
  },
  {
   "cell_type": "markdown",
   "metadata": {},
   "source": [
    "建立一些 标识变量"
   ]
  },
  {
   "cell_type": "code",
   "execution_count": 63,
   "metadata": {},
   "outputs": [],
   "source": [
    "dbfilename = \"people-file\"   # 文件名\n",
    "ENDDB = \"enddb.\"     # 数据库分割标识        \n",
    "ENDREC = \"endrec.\"   # 记录间分割标识\n",
    "RECSEP = \"=>\"        # 记录的 键/值 映射标识"
   ]
  },
  {
   "cell_type": "markdown",
   "metadata": {},
   "source": [
    "数据格式化保存接口"
   ]
  },
  {
   "cell_type": "code",
   "execution_count": 64,
   "metadata": {},
   "outputs": [],
   "source": [
    "def storeDb(db, dbfilename=dbfilename):\n",
    "    \"将数据格式化保存为不同文件\"\n",
    "    dbfile = open(dbfilename, \"w\")\n",
    "    for key in db:\n",
    "        print(key, file=dbfile)  # dbfile.write(key + \"\\n\") 同效\n",
    "        for (name, value)in db[key].items():\n",
    "            print(name + RECSEP + repr(value), file=dbfile)  #　repr将其当作代码执行\n",
    "        print(ENDREC, file=dbfile)\n",
    "    print(ENDDB, file=dbfile)\n",
    "    dbfile.close()"
   ]
  },
  {
   "cell_type": "code",
   "execution_count": 65,
   "metadata": {},
   "outputs": [],
   "source": [
    "# 将测试数据持久化存储\n",
    "storeDb(initdata())  "
   ]
  },
  {
   "cell_type": "code",
   "execution_count": 66,
   "metadata": {},
   "outputs": [
    {
     "name": "stdout",
     "output_type": "stream",
     "text": [
      "bob\n",
      "name=>'Bob Smith'\n",
      "age=>42\n",
      "pay=>30000\n",
      "job=>'dev'\n",
      "endrec.\n",
      "sue\n",
      "name=>'Sue Jones'\n",
      "age=>45\n",
      "pay=>40000\n",
      "job=>'hdw'\n",
      "endrec.\n",
      "tom\n",
      "name=>'Tom Sun'\n",
      "age=>48\n",
      "pay=>0\n",
      "job=>''\n",
      "endrec.\n",
      "enddb.\n"
     ]
    }
   ],
   "source": [
    "# 浏览一下这个文件\n",
    "for line in open(\"people-file\"):\n",
    "    print(line, end=\"\")"
   ]
  },
  {
   "cell_type": "markdown",
   "metadata": {},
   "source": [
    "从文件解析数据并重构数据库对象"
   ]
  },
  {
   "cell_type": "code",
   "execution_count": 67,
   "metadata": {},
   "outputs": [],
   "source": [
    "def loadDb(dbfilename=dbfilename):\n",
    "    \"解析数据， 重构数据库\"\n",
    "    db = {}         # 数据库的空间\n",
    "    rec = {}        # 记录的缓存空间\n",
    "    recname = \"\"    # 数据库的  键\n",
    "    with open(dbfilename, \"r\") as dbfile:\n",
    "        for line in dbfile :\n",
    "            line = line.strip(\"\\n\")        \n",
    "            if line != ENDDB:  \n",
    "                if line != ENDREC:\n",
    "                    if RECSEP  in line : \n",
    "                        name, value = line.split(RECSEP)\n",
    "                        rec[name] = eval(value)    # 往记录添加数据\n",
    "                       \n",
    "                        # print(recname)\n",
    "                    else:\n",
    "                        recname = line  #　记录名\n",
    "                        db[recname] = rec\n",
    "                    # print(rec)\n",
    "                else:\n",
    "                    rec = {}    # 一旦当前记录结束，缓存置空，\n",
    "                    continue    # 跳过 endrec. 这一行继续执行\n",
    "            else:\n",
    "                return db"
   ]
  },
  {
   "cell_type": "code",
   "execution_count": 68,
   "metadata": {},
   "outputs": [],
   "source": [
    "db = loadDb()  # 解析文件并构建数据库"
   ]
  },
  {
   "cell_type": "markdown",
   "metadata": {},
   "source": [
    "对重构的数据库可以进行增删改查，并重新写入文件"
   ]
  },
  {
   "cell_type": "code",
   "execution_count": 69,
   "metadata": {},
   "outputs": [
    {
     "data": {
      "text/plain": [
       "{'name': 'Tom Sun', 'age': 48, 'pay': 50000, 'job': 'mng'}"
      ]
     },
     "execution_count": 69,
     "metadata": {},
     "output_type": "execute_result"
    }
   ],
   "source": [
    "db[\"tom\"][\"job\"] = \"mng\"\n",
    "db[\"tom\"][\"pay\"] = 50000\n",
    "db[\"tom\"]"
   ]
  },
  {
   "cell_type": "code",
   "execution_count": 70,
   "metadata": {},
   "outputs": [
    {
     "data": {
      "text/plain": [
       "{'bob': {'name': 'Bob Smith', 'age': 42, 'pay': 30000, 'job': 'dev'},\n",
       " 'sue': {'name': 'Sue Jones', 'age': 45, 'pay': 40000, 'job': 'hdw'},\n",
       " 'tom': {'name': 'Tom Sun', 'age': 48, 'pay': 50000, 'job': 'mng'}}"
      ]
     },
     "execution_count": 70,
     "metadata": {},
     "output_type": "execute_result"
    }
   ],
   "source": [
    "storeDb(db)  # 将更改厚的数据库写入文件\n",
    "loadDb()     # 检查一下是否更改生效\n"
   ]
  },
  {
   "cell_type": "markdown",
   "metadata": {},
   "source": [
    "到此为止，就算计算机关机都不会丢失数据了，因为我们已经将数据库对象格式化保存到硬盘里的文件里了，我们可以靠专用的脚本载出更改和存入这些对象了。这样我萌就算把对象持久化了。"
   ]
  },
  {
   "cell_type": "markdown",
   "metadata": {},
   "source": [
    "###  使用 pickle文件"
   ]
  },
  {
   "cell_type": "markdown",
   "metadata": {},
   "source": [
    "虽然我们格式化文本文件结构是可行的，但是他有些较大的局限性。  \n",
    "\n",
    "首先为了获取一条记录或者更改一条记录就需要读取和写入整个数据库，这样会让程序越来复杂越来越慢。  \n",
    "\n",
    "其次，我们格式化的方法为例，用 => 做分割符的办法，当文本内容里出现 => 这样的内容，就会发生冲突，导致这种格式化的结构失败。虽然我们可以采用XML的方式来结构化，但是创建XML和解析XML的工作是很烦银的 \n",
    "\n",
    "如果有一种通用的工具，它只需一步就可以将任意类型的Python对象转化成可以保存在文件中的格式，而你不需要关心，文件的格式化结构，不必为了解析文件而费心，那就好了。这正是Pickle设计的初衷。"
   ]
  },
  {
   "cell_type": "markdown",
   "metadata": {},
   "source": [
    "Pickle模块将内存中的Python对象转化成序列化的字节流，这是一种可以写入任何类似文件对象的字节串。  \n",
    "Pickle模块也可以根据序列化的字节流重新构建原来内存中的对象。将文件转换成原来的那个对象。  \n",
    "\n",
    "可以说 Pickle模块取代了专有的数据格式。"
   ]
  },
  {
   "cell_type": "code",
   "execution_count": 71,
   "metadata": {},
   "outputs": [],
   "source": [
    "# 存\n",
    "import pickle \n",
    "\n",
    "db = initdata() # 生成测试数据\n",
    "dbfile = open(\"people-pickle\", \"wb\")   # 用字节的方式进行写\n",
    "pickle.dump(db, dbfile)  # 把 db 对象pickle进文件里\n",
    "dbfile.close()"
   ]
  },
  {
   "cell_type": "code",
   "execution_count": 72,
   "metadata": {},
   "outputs": [
    {
     "name": "stdout",
     "output_type": "stream",
     "text": [
      "{'bob': {'age': 42, 'job': 'dev', 'name': 'Bob Smith', 'pay': 30000},\n",
      " 'sue': {'age': 45, 'job': 'hdw', 'name': 'Sue Jones', 'pay': 40000},\n",
      " 'tom': {'age': 48, 'job': 'mng', 'name': 'Tom Sun', 'pay': 50000}}\n"
     ]
    }
   ],
   "source": [
    "# 取\n",
    "import pprint\n",
    "\n",
    "with open(\"people_pickle\", \"rb\") as dbfile:   # 用字节的方式进行读 \n",
    "     db_ = pickle.load(dbfile)  # 读取           \n",
    "     pprint.pprint(db_)"
   ]
  },
  {
   "cell_type": "code",
   "execution_count": 73,
   "metadata": {},
   "outputs": [],
   "source": [
    "# 更新\n",
    "db[\"sue\"][\"pay\"] *= 1.10\n",
    "\n",
    "# 再写入\n",
    "dbfile = open(\"people-pickle\", \"wb\")  # 用字节的方式进行写\n",
    "pickle.dump(db, dbfile)  # 把 db 对象pickle进文件里\n",
    "dbfile.close()"
   ]
  },
  {
   "cell_type": "markdown",
   "metadata": {},
   "source": [
    "我们观察到当记录在内存中被修改后是将整个数据库重新写入文件，这和我们自己手动格式化文件的方式一样的，当数据库比较庞大时，这些操作会变得很慢。暂时保留这个问题"
   ]
  },
  {
   "cell_type": "markdown",
   "metadata": {},
   "source": [
    "Pickle和它的数据格式也可以处理shelve和ZODB数据库，pickle的类实例为被存储的对象提供了数据和操作。  \n",
    "\n",
    "实际上Pickle更加通用，只要对象具有文件兼容的接口，就可以通过pickle将内存中的Python对象转换成多种媒介存储。  \n",
    "\n",
    "可以使用网络套接字（Socket）可以将Pickle过的Python对象通过网络进行传输，甚至作为SOAP和XML-RPC这样的大型协议的代替。"
   ]
  },
  {
   "cell_type": "markdown",
   "metadata": {},
   "source": [
    "### 每条记录使用一个pickle文件"
   ]
  },
  {
   "cell_type": "markdown",
   "metadata": {},
   "source": [
    "前面提到的潜在的缺点，当数据库非常大是变得很慢，慢的原因是更新操作一条记录就要将整个数据库重新读取存入。  \n",
    "\n",
    "我们可以通过存储数据库中的一条记录到一个普通文件的方式来改进。以记录本身的键为文件名"
   ]
  },
  {
   "cell_type": "markdown",
   "metadata": {},
   "source": [
    "1. 将每条记录存到对应的文件中"
   ]
  },
  {
   "cell_type": "code",
   "execution_count": 74,
   "metadata": {},
   "outputs": [],
   "source": [
    "import pickle\n",
    "\n",
    "for (key, record) in [(\"bob\", bob), (\"sue\", sue)]:\n",
    "    with open(key+\".pkl\", \"wb\") as recfile:\n",
    "        pickle.dump(record, recfile)"
   ]
  },
  {
   "cell_type": "markdown",
   "metadata": {},
   "source": [
    "2  使用glob模块获取整个数据库。它根据文件拓展名来获取这个目录下所有该拓展名的文件。如果需要载入单个记录，可以打开对应的文件并使用pickle反序列化。为了得到一条记录，我们只需要载入一个记录而不需要整个数据库"
   ]
  },
  {
   "cell_type": "code",
   "execution_count": 75,
   "metadata": {},
   "outputs": [
    {
     "name": "stdout",
     "output_type": "stream",
     "text": [
      "bob.pkl =>\n",
      " {'name': 'Bob Smith', 'age': 42, 'pay': 30000, 'job': 'dev'}\n",
      "sue.pkl =>\n",
      " {'name': 'Sue Jones', 'age': 45, 'pay': 40000, 'job': 'hdw'}\n",
      "sue.pkl['name'] =>\n",
      " Sue Jones\n"
     ]
    }
   ],
   "source": [
    "import glob\n",
    "\n",
    "# 查看整个数据库\n",
    "for filename in glob.glob(\"*.pkl\"):    \n",
    "    with open(filename, \"rb\") as recfile:\n",
    "        record = pickle.load(recfile)\n",
    "        print(filename, \"=>\\n\",record)\n",
    "\n",
    "#　查看单个记录\n",
    "suefile = open(\"sue.pkl\", \"rb\")\n",
    "print(\"sue.pkl['name']\", \"=>\\n\", pickle.load(suefile)[\"name\"])\n",
    "suefile.close()"
   ]
  },
  {
   "cell_type": "markdown",
   "metadata": {},
   "source": [
    "3  当更新数据库，从对应文件抓取一条记录，在内存中进行修改，然后重新写入它的pickle文件，不用为了更新某段记录而对整个数据库进行操作"
   ]
  },
  {
   "cell_type": "code",
   "execution_count": 76,
   "metadata": {},
   "outputs": [
    {
     "name": "stdout",
     "output_type": "stream",
     "text": [
      "sue.pkl['pay'] =>\n",
      " 44000.0\n"
     ]
    }
   ],
   "source": [
    "suefile = open(\"sue.pkl\", \"rb\")\n",
    "sue = pickle.load(suefile)\n",
    "suefile.close()\n",
    "\n",
    "sue[\"pay\"] *= 1.10  # 给sue涨薪10%\n",
    "suefile = open(\"sue.pkl\", \"wb\")\n",
    "pickle.dump(sue, suefile)\n",
    "suefile.close()\n",
    "\n",
    "# 查看该记录是否更新成功\n",
    "suefile = open(\"sue.pkl\", \"rb\")\n",
    "print(\"sue.pkl['pay']\", \"=>\\n\", pickle.load(suefile)[\"pay\"])\n",
    "suefile.close()"
   ]
  },
  {
   "cell_type": "markdown",
   "metadata": {},
   "source": [
    "上述方法数据库的中的key变为了实际的文件名。也就是说文件系统成为了高层字典，通过文件名可以直接访问每条记录"
   ]
  },
  {
   "cell_type": "markdown",
   "metadata": {},
   "source": [
    "### 使用shelves \n",
    "假设你的文件系统可以处理任意多需要的文件，将一条记录pickle成一个大文件。避免了每次更新和操作时都需要载入和存储整个数据库，如果我们用键来访问记录，Python表批准库提供了一中更高层次的工具：shelves\n",
    "\n",
    "它自动地将对象pickle进和pickle出健访问文件系统。它们很像必须打开着的字典，在程序退出时进行持久化。shelves使用起来像是必须打开着的一个字典。 "
   ]
  },
  {
   "cell_type": "markdown",
   "metadata": {},
   "source": [
    "1. 创建数据库"
   ]
  },
  {
   "cell_type": "code",
   "execution_count": 77,
   "metadata": {},
   "outputs": [],
   "source": [
    "import shelve\n",
    "\n",
    "db = shelve.open(\"people-shelve\") \n",
    "db[\"bob\"] = bob\n",
    "db[\"sue\"] = sue\n",
    "db.close()"
   ]
  },
  {
   "cell_type": "markdown",
   "metadata": {},
   "source": [
    "2. 访问数据库, 依旧是字典的字典"
   ]
  },
  {
   "cell_type": "code",
   "execution_count": 78,
   "metadata": {},
   "outputs": [
    {
     "name": "stdout",
     "output_type": "stream",
     "text": [
      "bob =>\n",
      " {'name': 'Bob Smith', 'age': 42, 'pay': 30000, 'job': 'dev'}\n",
      "sue =>\n",
      " {'name': 'Sue Jones', 'age': 45, 'pay': 44000.0, 'job': 'hdw'}\n",
      "tom =>\n",
      " {'name': 'Tom', 'age': 50, 'job': None, 'pay': 0}\n"
     ]
    }
   ],
   "source": [
    "# 像字典一样通过键来访问\n",
    "db = shelve.open(\"people-shelve\")\n",
    "for key in db:\n",
    "    print(key, \"=>\\n\", db[key]) "
   ]
  },
  {
   "cell_type": "markdown",
   "metadata": {},
   "source": [
    "3. 更新"
   ]
  },
  {
   "cell_type": "code",
   "execution_count": 79,
   "metadata": {},
   "outputs": [],
   "source": [
    "# 需要加入的新数据\n",
    "tom= dict(name=\"Tom\", age=50, job=None, pay=0)\n",
    "\n",
    "# 打开数据库\n",
    "db = shelve.open(\"people-shelve\") # 缺省的方式\n",
    "# 更改记录\n",
    "sue = db[\"sue\"]   \n",
    "sue[\"pay\"] *= 1.1\n",
    "\n",
    "# 手动写回的原因是缺省需求，可以在open中定义关闭shelve时写回，但是这么干会消耗内存使得关闭变慢\n",
    "# 缺省：需要时创建，否则以可读可写方式打开 \n",
    "db[\"sue\"] = sue\n",
    "\n",
    "# 添加新记录\n",
    "db[\"tom\"] = tom\n",
    "db.close() # 关闭shelve、关闭缓存通道\n",
    "\n",
    "# 可以将数据库操作单独制作成脚本文件，通过运行相应程序 自动对本地数据库操作并将变化状态持久化地保存在文件中，"
   ]
  },
  {
   "cell_type": "markdown",
   "metadata": {},
   "source": [
    "## 第三步 走进OOP"
   ]
  },
  {
   "cell_type": "markdown",
   "metadata": {},
   "source": [
    "面向对象的方式能使得实现类似操作时避免代码的重复编写，提高代码的复用，代码的调试和维护的难度也降低了。"
   ]
  },
  {
   "cell_type": "markdown",
   "metadata": {},
   "source": [
    "### 构建类"
   ]
  },
  {
   "cell_type": "markdown",
   "metadata": {},
   "source": [
    "实例化类的方式来实现记录数据库"
   ]
  },
  {
   "cell_type": "code",
   "execution_count": 80,
   "metadata": {},
   "outputs": [],
   "source": [
    "class Person:\n",
    "    def __init__(self, name, age, pay=0, job=None):\n",
    "        self.name = name\n",
    "        self.age = age\n",
    "        self.pay = pay\n",
    "        self.job = job"
   ]
  },
  {
   "cell_type": "markdown",
   "metadata": {},
   "source": [
    "构建记录（类的实例）"
   ]
  },
  {
   "cell_type": "code",
   "execution_count": 81,
   "metadata": {},
   "outputs": [
    {
     "data": {
      "text/plain": [
       "'Smith'"
      ]
     },
     "execution_count": 81,
     "metadata": {},
     "output_type": "execute_result"
    }
   ],
   "source": [
    "bob = Person(\"Bob Smith\", 42, 30000, \"software\")\n",
    "sue = Person(\"Sue Jones\", 45, 35000, \"hartware\")\n",
    "bob.name.split()[-1] # 获取姓氏"
   ]
  },
  {
   "cell_type": "markdown",
   "metadata": {},
   "source": [
    "更新记录"
   ]
  },
  {
   "cell_type": "code",
   "execution_count": 82,
   "metadata": {},
   "outputs": [
    {
     "data": {
      "text/plain": [
       "38500.0"
      ]
     },
     "execution_count": 82,
     "metadata": {},
     "output_type": "execute_result"
    }
   ],
   "source": [
    "# 涨薪\n",
    "sue.pay *= 1.1\n",
    "sue.pay"
   ]
  },
  {
   "cell_type": "markdown",
   "metadata": {},
   "source": [
    "这个类还不是一个数据库，将类的实例放入列表和字典，构成一个整体"
   ]
  },
  {
   "cell_type": "code",
   "execution_count": 83,
   "metadata": {},
   "outputs": [
    {
     "name": "stdout",
     "output_type": "stream",
     "text": [
      "Bob Smith 30000\n",
      "Sue Jones 35000\n"
     ]
    }
   ],
   "source": [
    "bob = Person(\"Bob Smith\", 42, 30000, \"software\")\n",
    "sue = Person(\"Sue Jones\", 45, 35000, \"hartware\")\n",
    "\n",
    "people = [bob, sue]  # 构成一个数据库列表\n",
    "for person in people:\n",
    "    print(person.name, person.pay)"
   ]
  },
  {
   "cell_type": "markdown",
   "metadata": {},
   "source": [
    "查询"
   ]
  },
  {
   "cell_type": "code",
   "execution_count": 84,
   "metadata": {},
   "outputs": [
    {
     "data": {
      "text/plain": [
       "[('Bob Smith', 42, 30000, 'software'), ('Sue Jones', 45, 35000, 'hartware')]"
      ]
     },
     "execution_count": 84,
     "metadata": {},
     "output_type": "execute_result"
    }
   ],
   "source": [
    "x = [(person.name, person.age, person.pay,  person.job) for person in people]\n",
    "x"
   ]
  },
  {
   "cell_type": "markdown",
   "metadata": {},
   "source": [
    "SQL 风格查询"
   ]
  },
  {
   "cell_type": "code",
   "execution_count": 85,
   "metadata": {},
   "outputs": [
    {
     "data": {
      "text/plain": [
       "['Sue Jones']"
      ]
     },
     "execution_count": 85,
     "metadata": {},
     "output_type": "execute_result"
    }
   ],
   "source": [
    "[rec.name for rec in people if rec.age >= 45]"
   ]
  },
  {
   "cell_type": "markdown",
   "metadata": {},
   "source": [
    "### 为类添加行为"
   ]
  },
  {
   "cell_type": "markdown",
   "metadata": {},
   "source": [
    "现在我们们实例化类仅仅是得到数据。它使用对象的属性替代字典的键，但是并没有原来的那些操作方法，为了利用类的功能完成这些操作，我们为类添加一些行为。"
   ]
  },
  {
   "cell_type": "code",
   "execution_count": 86,
   "metadata": {},
   "outputs": [],
   "source": [
    "class Person:\n",
    "    def __init__(self, name, age, pay=0, job=None):\n",
    "        self.name = name\n",
    "        self.age = age\n",
    "        self.pay = pay\n",
    "        self.job = job\n",
    "    \n",
    "    # 捕获姓氏行为\n",
    "    def get_LastName(self):\n",
    "        return self.name.split()[-1]\n",
    "    \n",
    "    # 涨薪行为\n",
    "    def giveRaise(self, percent=0.1):\n",
    "        self.pay *= (1.0 + percent)"
   ]
  },
  {
   "cell_type": "code",
   "execution_count": 87,
   "metadata": {},
   "outputs": [
    {
     "data": {
      "text/plain": [
       "'Smith'"
      ]
     },
     "execution_count": 87,
     "metadata": {},
     "output_type": "execute_result"
    }
   ],
   "source": [
    "# 测试一下\n",
    "bob = Person(\"Bob Smith\", 42, 30000, \"software\")\n",
    "sue = Person(\"Sue Jones\", 45, 35000, \"hartware\")\n",
    "\n",
    "bob.get_LastName()"
   ]
  },
  {
   "cell_type": "code",
   "execution_count": 88,
   "metadata": {},
   "outputs": [
    {
     "name": "stdout",
     "output_type": "stream",
     "text": [
      "35000\n",
      "38500.0\n"
     ]
    }
   ],
   "source": [
    "# 一直涨薪一直爽\n",
    "print(sue.pay)\n",
    "sue.giveRaise()\n",
    "print(sue.pay)"
   ]
  },
  {
   "cell_type": "markdown",
   "metadata": {},
   "source": [
    "### 继承  通过人员类型编写子类"
   ]
  },
  {
   "cell_type": "markdown",
   "metadata": {},
   "source": [
    "构建管理层子类， 可以单独地对管理层进行一些定制化的行为，而不会影响到父类（所有人员）"
   ]
  },
  {
   "cell_type": "code",
   "execution_count": 89,
   "metadata": {},
   "outputs": [],
   "source": [
    "# 比如管理层除了正常涨薪还有 额外百分比的奖金的话 哎\n",
    "class Manager(Person):\n",
    "    \n",
    "    # 重写涨薪行为\n",
    "    def giveRaise(self, percent=0.1, bonus=0.1) :\n",
    "        self.pay *= (1.0 + percent +bonus)"
   ]
  },
  {
   "cell_type": "code",
   "execution_count": 90,
   "metadata": {},
   "outputs": [
    {
     "data": {
      "text/plain": [
       "'Doe'"
      ]
     },
     "execution_count": 90,
     "metadata": {},
     "output_type": "execute_result"
    }
   ],
   "source": [
    "tom = Manager(name=\"Tom Doe\", age=50, pay=50000)\n",
    "tom.get_LastName() # 父类的功能"
   ]
  },
  {
   "cell_type": "markdown",
   "metadata": {},
   "source": [
    "汤姆因为是Manager类的实例，给他涨薪的时候，除了父类的10%还有自定义的奖金"
   ]
  },
  {
   "cell_type": "code",
   "execution_count": 91,
   "metadata": {},
   "outputs": [
    {
     "name": "stdout",
     "output_type": "stream",
     "text": [
      "50000\n"
     ]
    },
    {
     "data": {
      "text/plain": [
       "65000.0"
      ]
     },
     "execution_count": 91,
     "metadata": {},
     "output_type": "execute_result"
    }
   ],
   "source": [
    "print(tom.pay)\n",
    "# 公司默认奖金10%，但是这次表现突出给奖金20%，加上基础所有人员涨薪10%，这样就是30%了哦\n",
    "tom.giveRaise(bonus=.20) \n",
    "tom.pay\n"
   ]
  },
  {
   "cell_type": "markdown",
   "metadata": {},
   "source": [
    "这样可以在父类中全局控制所有记录的共有属性，在子类中管理各个类型的特有行为，除了可维护性高，也不会在记录间相互干扰。"
   ]
  },
  {
   "cell_type": "markdown",
   "metadata": {},
   "source": [
    "###  重构代码"
   ]
  },
  {
   "cell_type": "markdown",
   "metadata": {},
   "source": [
    "####  增强方法"
   ]
  },
  {
   "cell_type": "markdown",
   "metadata": {},
   "source": [
    "我们发现涨薪计算在两个地方重复出项了（在两个类中）。我们对子类的涨薪方法可以通过增强继承来实现，而不是完全替代父类方法（完全重写），从而达到去除代码中的冗余的效果。"
   ]
  },
  {
   "cell_type": "code",
   "execution_count": 92,
   "metadata": {},
   "outputs": [],
   "source": [
    "class Manager(Person):\n",
    "    \n",
    "    def giveRaise(self, percent=0.1, bonus=0.1) :\n",
    "        Person.giveRaise(self, percent + bonus)\n",
    "# 1.调用父类的方法显式地传入self参数\n",
    "# 2. 虽然重新定义了该方法，但我们调用的是通用的方法，可以降低冗余（业务逻辑只出现一次）\n",
    "# 3.实践中易于启动父类的构造器，这样在父类中重新定义了percent参数设置时，子类中会启动父类构造器，自动生效。"
   ]
  },
  {
   "cell_type": "markdown",
   "metadata": {},
   "source": [
    "####  格式化显示"
   ]
  },
  {
   "cell_type": "markdown",
   "metadata": {},
   "source": [
    "为了获得更多面向对象的乐趣，咱们要为people类增加一些操作符重载。"
   ]
  },
  {
   "cell_type": "code",
   "execution_count": 93,
   "metadata": {},
   "outputs": [
    {
     "name": "stdout",
     "output_type": "stream",
     "text": [
      "<__main__.Manager object at 0x03D1DEB0>\n"
     ]
    }
   ],
   "source": [
    "# 这是还没重载时的输出，默认的只有地址信息，而且可读性也是挺差的\n",
    "tom = Manager(\"Tom Jams\", 60, 50000)\n",
    "print(tom)"
   ]
  },
  {
   "cell_type": "code",
   "execution_count": 94,
   "metadata": {},
   "outputs": [],
   "source": [
    "class Person:\n",
    "    def __init__(self, name, age, pay=0, job=None):\n",
    "        self.name = name\n",
    "        self.age = age\n",
    "        self.pay = pay\n",
    "        self.job = job\n",
    "    \n",
    "    # 操作符重载\n",
    "    def __str__(self):\n",
    "        # 当打印 Person 实例时 python 会自动调用这个方法滴，默认的返回值信息少的很\n",
    "        # 自定义返回值,对当对象需要作为整体打印时，比实例缺省的显示好得多\n",
    "        return \"<%s => %s: %s, %s>\" % (self.__class__.__name__, self.name, self.job, self.pay)\n",
    "    # 可以编写 __add__ 使得 + 表达式自动调用 giveraise方法，代价是代码可读性变差，不知到具体你 + 了啥？\n",
    "    # 还有更多的操作符可以重载 __repr__、 __call__、 __iter__ 等等...\n",
    "    \n",
    "    \n",
    "    def get_LastName(self):\n",
    "        return self.name.split()[-1]\n",
    "    \n",
    "    def giveRaise(self, percent=0.1):\n",
    "        self.pay *= (1.0 + percent)\n",
    "\n",
    "class Manager(Person):\n",
    "    \n",
    "    def giveRaise(self, percent=0.1, bonus=0.1) :\n",
    "        Person.giveRaise(self, percent + bonus)"
   ]
  },
  {
   "cell_type": "code",
   "execution_count": 95,
   "metadata": {},
   "outputs": [
    {
     "name": "stdout",
     "output_type": "stream",
     "text": [
      "<Manager => Tom Jams: manager, 6000>\n"
     ]
    }
   ],
   "source": [
    "# 测试一下打印时输出有啥改变， 呦！\n",
    "tom = Manager(\"Tom Jams\", 60, pay=6000, job=\"manager\")\n",
    "print(tom)"
   ]
  },
  {
   "cell_type": "markdown",
   "metadata": {},
   "source": [
    "#### 自定义构造函数"
   ]
  },
  {
   "cell_type": "markdown",
   "metadata": {},
   "source": [
    "我们又发现了一个问题：  tom = Manager(\"Tom Jams\", 60, pay=6000, job=\"manager\")  \n",
    "这个类实例化的语句中命名参数： job=\"manager\" 存在着冗余，想想看这是manger类的实例，那job这个命名参数有点废话的赶脚嘛  \n",
    "比较合理的是为manager类提供一个显式的构造函数，自动填写job参数。"
   ]
  },
  {
   "cell_type": "code",
   "execution_count": 96,
   "metadata": {},
   "outputs": [],
   "source": [
    "# 说干就干\n",
    "class Manager(Person):\n",
    "    \n",
    "    def __init__(self, name, age, pay):\n",
    "        Person.__init__(self, name, age, pay, job=\"Manager\") # 这里调用父类的构造器，并自动填写job\n",
    "\n",
    "    def giveRaise(self, percent=0.1, bonus=0.1) :\n",
    "        Person.giveRaise(self, percent+bonus)"
   ]
  },
  {
   "cell_type": "code",
   "execution_count": 97,
   "metadata": {},
   "outputs": [
    {
     "name": "stdout",
     "output_type": "stream",
     "text": [
      "<Person => Bob Smith: None, 0.0>\n",
      "<Person => Sue Jones: Hardware, 44000.0>\n",
      "<Manager => Tom Doe: Manager, 60000.0>\n"
     ]
    }
   ],
   "source": [
    "# 测试一下  格式化输出\n",
    "bob = Person(\"Bob Smith\", 44)    # 还没为bon分配工作\n",
    "sue = Person(\"Sue Jones\", 47, 40000, \"Hardware\") # 分配了硬件工程师（可以再写个硬件工程师子类）\n",
    "tom = Manager(name=\"Tom Doe\", age=50, pay=50000) # 分配到经理\n",
    "for obj in (bob, sue, tom):\n",
    "    obj.giveRaise(.10)\n",
    "    print(obj)"
   ]
  },
  {
   "cell_type": "markdown",
   "metadata": {},
   "source": [
    "### 增加持久化"
   ]
  },
  {
   "cell_type": "markdown",
   "metadata": {},
   "source": [
    "我们现在已经把记录和对其的操作封装进了类中。我们可以把她们存储在一个单记录的pickle文件中，而基于shelve的存储媒介也能很好的实现我们的想法。并且更容易编码。"
   ]
  },
  {
   "cell_type": "code",
   "execution_count": 98,
   "metadata": {},
   "outputs": [],
   "source": [
    "# 创建记录（实例） \n",
    "bob = Person(\"Bob Smith\", 44)\n",
    "sue = Person(\"Sue Jones\", 47, 40000, \"Hardware\")\n",
    "tom = Manager(name=\"Tom Doe\", age=50, pay=50000)\n",
    "\n",
    "# 创建存储记录(实例)的shelve，也就是咱们的顶层数据库了\n",
    "db = shelve.open(\"class-shelve\")\n",
    "\n",
    "# 然后将 记录 赋给新建的shelve文件的 键\n",
    "db[\"bob\"] = bob\n",
    "db[\"sue\"] = sue\n",
    "db[\"tom\"] = tom\n",
    "db.close()"
   ]
  },
  {
   "cell_type": "code",
   "execution_count": 99,
   "metadata": {},
   "outputs": [
    {
     "name": "stdout",
     "output_type": "stream",
     "text": [
      "bob  =>\n",
      "  Bob Smith 0\n",
      "sue  =>\n",
      "  Sue Jones 40000\n",
      "tom  =>\n",
      "  Tom Doe 50000\n"
     ]
    }
   ],
   "source": [
    "# 查看数据库\n",
    "db = shelve.open(\"class-shelve\")\n",
    "for key in db:\n",
    "    print(key, \" =>\\n \", db[key].name, db[key].pay)"
   ]
  },
  {
   "cell_type": "code",
   "execution_count": 100,
   "metadata": {},
   "outputs": [
    {
     "name": "stdout",
     "output_type": "stream",
     "text": [
      "Smith\n"
     ]
    }
   ],
   "source": [
    "#  对数据库中的实例进行操作\n",
    "bob = db[\"bob\"]\n",
    "print(bob.get_LastName()) \n",
    "\n",
    "\n",
    "# 可以直接操作\n",
    "# 不需要导入实例的相关类，pickle系统会自动定位相关类，只要类在模块搜索路径上。"
   ]
  },
  {
   "cell_type": "markdown",
   "metadata": {},
   "source": [
    "由于类和他的实例在shelve中是被分别存储的，所以可以在外部通过修改类来改变实例被载入时的解释方法。  \n",
    "\n",
    "可以对shleve数据库中存储的实例进行更改，因为这些对象都是持久化在shelve中的/。也可以通过python交互命令打开并查看shelve，尽管其存储具有长期性，但是shelve其实真正上只是一种包含了python对象的对象（它本身也是一个shelve实例）"
   ]
  },
  {
   "cell_type": "markdown",
   "metadata": {},
   "source": [
    "### 其他数据库选项"
   ]
  },
  {
   "cell_type": "markdown",
   "metadata": {},
   "source": [
    "shelve功能齐全，虽然它不是关系型数据库（我们存储的是对象，不是表），但是对于一些类型的程序这已经够用了"
   ]
  },
  {
   "cell_type": "markdown",
   "metadata": {},
   "source": [
    "如果需要更多的功能，我们可以将这个应用移植到一些更强大的工具上。"
   ]
  },
  {
   "cell_type": "markdown",
   "metadata": {},
   "source": [
    "# 数据结构和算法"
   ]
  },
  {
   "cell_type": "code",
   "execution_count": null,
   "metadata": {},
   "outputs": [],
   "source": []
  },
  {
   "cell_type": "markdown",
   "metadata": {},
   "source": [
    "# 数据结构的巧用"
   ]
  },
  {
   "cell_type": "markdown",
   "metadata": {},
   "source": [
    "## 解压序列赋值给多个变量"
   ]
  },
  {
   "cell_type": "markdown",
   "metadata": {},
   "source": [
    "### 问题 \n",
    "现在有一个包含N 个元素的元组或者是序列，怎样将它里面的值解压后同时赋值\n",
    "给N 个变量？"
   ]
  },
  {
   "cell_type": "markdown",
   "metadata": {},
   "source": [
    "### 解决方案  \n",
    "任何的序列(或者是可迭代对象) 可以通过一个简单的赋值语句解压并赋值给多个\n",
    "变量。唯一的前提就是变量的数量必须跟序列元素的数量是一样的。"
   ]
  },
  {
   "cell_type": "code",
   "execution_count": 101,
   "metadata": {},
   "outputs": [],
   "source": [
    "p = (4, 5)\n",
    "data = [ 'ACME', 50, 91.1, (2012, 12, 21) ]\n",
    "x, y  = p\n",
    "name, shares, price, date = data\n",
    "a, b, c, d, e = 'hello'"
   ]
  },
  {
   "cell_type": "code",
   "execution_count": 102,
   "metadata": {},
   "outputs": [
    {
     "data": {
      "text/plain": [
       "5"
      ]
     },
     "execution_count": 102,
     "metadata": {},
     "output_type": "execute_result"
    }
   ],
   "source": [
    "y"
   ]
  },
  {
   "cell_type": "code",
   "execution_count": 103,
   "metadata": {},
   "outputs": [
    {
     "data": {
      "text/plain": [
       "(2012, 12, 21)"
      ]
     },
     "execution_count": 103,
     "metadata": {},
     "output_type": "execute_result"
    }
   ],
   "source": [
    "date"
   ]
  },
  {
   "cell_type": "code",
   "execution_count": 104,
   "metadata": {},
   "outputs": [
    {
     "data": {
      "text/plain": [
       "'l'"
      ]
     },
     "execution_count": 104,
     "metadata": {},
     "output_type": "execute_result"
    }
   ],
   "source": [
    "d"
   ]
  },
  {
   "cell_type": "markdown",
   "metadata": {},
   "source": [
    "### 讨论  \n",
    "实际上，这种解压赋值可以用在任何可迭代对象上面，而不仅仅是列表或者元组。\n",
    "包括字符串，文件对象，迭代器和生成器。"
   ]
  },
  {
   "cell_type": "code",
   "execution_count": 105,
   "metadata": {},
   "outputs": [],
   "source": [
    "s = \"Hello\"\n",
    "a, b, c, d, e = s"
   ]
  },
  {
   "cell_type": "code",
   "execution_count": 106,
   "metadata": {},
   "outputs": [
    {
     "data": {
      "text/plain": [
       "'H'"
      ]
     },
     "execution_count": 106,
     "metadata": {},
     "output_type": "execute_result"
    }
   ],
   "source": [
    "a"
   ]
  },
  {
   "cell_type": "markdown",
   "metadata": {},
   "source": [
    "有时候，你可能只想解压一部分，丢弃其他的值。对于这种情况Python 并没有提\n",
    "供特殊的语法。但是你可以使用任意变量名去占位，到时候丢掉这些变量就行了"
   ]
  },
  {
   "cell_type": "code",
   "execution_count": 107,
   "metadata": {},
   "outputs": [],
   "source": [
    "data = [ 'ACME', 50, 91.1, (2012, 12, 21) ]\n",
    "_, shares, price, _ = data  # python里想丢掉的一般用 _ 来占位"
   ]
  },
  {
   "cell_type": "code",
   "execution_count": 108,
   "metadata": {},
   "outputs": [
    {
     "data": {
      "text/plain": [
       "50"
      ]
     },
     "execution_count": 108,
     "metadata": {},
     "output_type": "execute_result"
    }
   ],
   "source": [
    "shares"
   ]
  },
  {
   "cell_type": "code",
   "execution_count": 109,
   "metadata": {},
   "outputs": [
    {
     "data": {
      "text/plain": [
       "91.1"
      ]
     },
     "execution_count": 109,
     "metadata": {},
     "output_type": "execute_result"
    }
   ],
   "source": [
    "price"
   ]
  },
  {
   "cell_type": "markdown",
   "metadata": {},
   "source": [
    "# 字符串和文本"
   ]
  },
  {
   "cell_type": "markdown",
   "metadata": {},
   "source": [
    "# 数字日期和时间"
   ]
  },
  {
   "cell_type": "markdown",
   "metadata": {},
   "source": [
    "# 迭代器和生成器"
   ]
  },
  {
   "cell_type": "markdown",
   "metadata": {},
   "source": [
    "# 文件与 IO"
   ]
  },
  {
   "cell_type": "markdown",
   "metadata": {},
   "source": [
    "# 数据编码和处理"
   ]
  },
  {
   "cell_type": "markdown",
   "metadata": {},
   "source": [
    "# 函数"
   ]
  },
  {
   "cell_type": "markdown",
   "metadata": {},
   "source": [
    "# 面向对象"
   ]
  },
  {
   "cell_type": "markdown",
   "metadata": {},
   "source": [
    "# 元编程"
   ]
  },
  {
   "cell_type": "code",
   "execution_count": null,
   "metadata": {},
   "outputs": [],
   "source": []
  },
  {
   "cell_type": "markdown",
   "metadata": {},
   "source": [
    "# 模块与包 "
   ]
  },
  {
   "cell_type": "markdown",
   "metadata": {},
   "source": [
    "# 网络与Web编程"
   ]
  },
  {
   "cell_type": "markdown",
   "metadata": {},
   "source": [
    "# 并发程序设计"
   ]
  },
  {
   "cell_type": "markdown",
   "metadata": {},
   "source": [
    "# 脚本编程与系统管理"
   ]
  },
  {
   "cell_type": "markdown",
   "metadata": {},
   "source": [
    "# 测试、调试、异常"
   ]
  },
  {
   "cell_type": "markdown",
   "metadata": {},
   "source": [
    "# C语言拓展"
   ]
  },
  {
   "cell_type": "code",
   "execution_count": null,
   "metadata": {},
   "outputs": [],
   "source": []
  },
  {
   "cell_type": "code",
   "execution_count": null,
   "metadata": {},
   "outputs": [],
   "source": []
  },
  {
   "cell_type": "code",
   "execution_count": null,
   "metadata": {},
   "outputs": [],
   "source": []
  },
  {
   "cell_type": "code",
   "execution_count": null,
   "metadata": {},
   "outputs": [],
   "source": []
  },
  {
   "cell_type": "code",
   "execution_count": null,
   "metadata": {},
   "outputs": [],
   "source": []
  },
  {
   "cell_type": "code",
   "execution_count": null,
   "metadata": {},
   "outputs": [],
   "source": []
  },
  {
   "cell_type": "code",
   "execution_count": null,
   "metadata": {},
   "outputs": [],
   "source": []
  },
  {
   "cell_type": "code",
   "execution_count": null,
   "metadata": {},
   "outputs": [],
   "source": []
  },
  {
   "cell_type": "code",
   "execution_count": null,
   "metadata": {},
   "outputs": [],
   "source": []
  }
 ],
 "metadata": {
  "file_extension": ".py",
  "kernelspec": {
   "display_name": "Python 3",
   "language": "python",
   "name": "python3"
  },
  "language_info": {
   "codemirror_mode": {
    "name": "ipython",
    "version": 3
   },
   "file_extension": ".py",
   "mimetype": "text/x-python",
   "name": "python",
   "nbconvert_exporter": "python",
   "pygments_lexer": "ipython3",
   "version": "3.7.3"
  },
  "mimetype": "text/x-python",
  "name": "python",
  "npconvert_exporter": "python",
  "pygments_lexer": "ipython3",
  "toc": {
   "base_numbering": 1,
   "nav_menu": {},
   "number_sections": true,
   "sideBar": true,
   "skip_h1_title": false,
   "title_cell": "Table of Contents",
   "title_sidebar": "Contents",
   "toc_cell": false,
   "toc_position": {
    "height": "calc(100% - 180px)",
    "left": "10px",
    "top": "150px",
    "width": "165px"
   },
   "toc_section_display": true,
   "toc_window_display": true
  },
  "version": 3
 },
 "nbformat": 4,
 "nbformat_minor": 2
}
