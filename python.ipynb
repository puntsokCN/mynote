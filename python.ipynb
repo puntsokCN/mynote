{
 "cells": [
  {
   "cell_type": "markdown",
   "metadata": {},
   "source": [
    "# python 简洁之美"
   ]
  },
  {
   "cell_type": "markdown",
   "metadata": {},
   "source": [
    "## 一行代码交换a,b"
   ]
  },
  {
   "cell_type": "code",
   "execution_count": 1,
   "metadata": {},
   "outputs": [
    {
     "data": {
      "text/plain": [
       "(4, 1)"
      ]
     },
     "execution_count": 1,
     "metadata": {},
     "output_type": "execute_result"
    }
   ],
   "source": [
    "a, b = 1, 4\n",
    "\n",
    "a, b = b, a\n",
    "a,b"
   ]
  },
  {
   "cell_type": "markdown",
   "metadata": {},
   "source": [
    "## 一行代码反转列表"
   ]
  },
  {
   "cell_type": "code",
   "execution_count": 2,
   "metadata": {},
   "outputs": [
    {
     "data": {
      "text/plain": [
       "[3, 2, 1]"
      ]
     },
     "execution_count": 2,
     "metadata": {},
     "output_type": "execute_result"
    }
   ],
   "source": [
    "[1,2,3][::-1] "
   ]
  },
  {
   "cell_type": "markdown",
   "metadata": {},
   "source": [
    "## 一行代码合并两个字典"
   ]
  },
  {
   "cell_type": "code",
   "execution_count": 3,
   "metadata": {},
   "outputs": [
    {
     "data": {
      "text/plain": [
       "{'a': 1, 'b': 2, 'c': 3}"
      ]
     },
     "execution_count": 3,
     "metadata": {},
     "output_type": "execute_result"
    }
   ],
   "source": [
    "{**{'a':1,'b':2}, **{'c':3}}"
   ]
  },
  {
   "cell_type": "markdown",
   "metadata": {},
   "source": [
    "## 一行代码列表去重"
   ]
  },
  {
   "cell_type": "code",
   "execution_count": 4,
   "metadata": {},
   "outputs": [
    {
     "data": {
      "text/plain": [
       "{1, 2, 3}"
      ]
     },
     "execution_count": 4,
     "metadata": {},
     "output_type": "execute_result"
    }
   ],
   "source": [
    "set([1,2,2,3,3,3])"
   ]
  },
  {
   "cell_type": "markdown",
   "metadata": {},
   "source": [
    "## 一行代码求多个列表中的最大值"
   ]
  },
  {
   "cell_type": "code",
   "execution_count": 5,
   "metadata": {},
   "outputs": [
    {
     "data": {
      "text/plain": [
       "5"
      ]
     },
     "execution_count": 5,
     "metadata": {},
     "output_type": "execute_result"
    }
   ],
   "source": [
    "max(max([ [1,2,3], [5,1], [4] ], key=lambda v: max(v))) "
   ]
  },
  {
   "cell_type": "markdown",
   "metadata": {},
   "source": [
    "## 一行代码生成逆序序列"
   ]
  },
  {
   "cell_type": "code",
   "execution_count": 6,
   "metadata": {},
   "outputs": [
    {
     "data": {
      "text/plain": [
       "[10, 9, 8, 7, 6, 5, 4, 3, 2, 1, 0]"
      ]
     },
     "execution_count": 6,
     "metadata": {},
     "output_type": "execute_result"
    }
   ],
   "source": [
    "list(range(10,-1,-1))"
   ]
  },
  {
   "cell_type": "markdown",
   "metadata": {},
   "source": [
    "# python概览\n",
    "《python编程》"
   ]
  },
  {
   "cell_type": "markdown",
   "metadata": {},
   "source": [
    "## 任务"
   ]
  },
  {
   "cell_type": "markdown",
   "metadata": {},
   "source": [
    "假设由于每种原因你现在需要去记录人们的信息。你想写个程序来这些人的详细信息。也就是说你想把这些记录存在数据库中，以便在电脑中永久存储这些信息。  \n",
    "\n",
    "你可以找到现成的数据库管理软件来管理对应的数据库。但是你可以亲自编写这样一个程序，可以完全控制它的运行方式，于是就这样入python的坑........."
   ]
  },
  {
   "cell_type": "markdown",
   "metadata": {},
   "source": [
    "## 第一步 表示记录"
   ]
  },
  {
   "cell_type": "markdown",
   "metadata": {},
   "source": [
    "如果我们想在数据库中存储记录，就要确定以什么样的数据类型来存储。通常使用列表和字典这样的内建对象类型就够用了。"
   ]
  },
  {
   "cell_type": "markdown",
   "metadata": {},
   "source": [
    "### 试用 List"
   ]
  },
  {
   "cell_type": "markdown",
   "metadata": {},
   "source": [
    "#### 新建记录"
   ]
  },
  {
   "cell_type": "code",
   "execution_count": 7,
   "metadata": {},
   "outputs": [],
   "source": [
    "bob = [\"Bob Smith\", 42, 20000, \"software\"]\n",
    "sue = [\"Sue James\", 30, 30000, \"hardware\"]"
   ]
  },
  {
   "cell_type": "markdown",
   "metadata": {},
   "source": [
    "#### 通过对列表的访问，处理可以容易地处理记录"
   ]
  },
  {
   "cell_type": "code",
   "execution_count": 8,
   "metadata": {},
   "outputs": [
    {
     "data": {
      "text/plain": [
       "'Smith'"
      ]
     },
     "execution_count": 8,
     "metadata": {},
     "output_type": "execute_result"
    }
   ],
   "source": [
    "#　Bob　姓啥？\n",
    "bob[0].split()[-1]"
   ]
  },
  {
   "cell_type": "code",
   "execution_count": 9,
   "metadata": {},
   "outputs": [
    {
     "data": {
      "text/plain": [
       "['Sue James', 30, 37500.0, 'hardware']"
      ]
     },
     "execution_count": 9,
     "metadata": {},
     "output_type": "execute_result"
    }
   ],
   "source": [
    "# 给 sue 涨薪 25%\n",
    "sue[2] *= 1.25\n",
    "sue"
   ]
  },
  {
   "cell_type": "markdown",
   "metadata": {},
   "source": [
    "#### 数据库列表"
   ]
  },
  {
   "cell_type": "markdown",
   "metadata": {},
   "source": [
    "为了把 Bob 和 Sue 存储在一起，我们可以简单地把他们放入一个新的列表里，形成一个简单的数据库"
   ]
  },
  {
   "cell_type": "code",
   "execution_count": 10,
   "metadata": {},
   "outputs": [
    {
     "name": "stdout",
     "output_type": "stream",
     "text": [
      "['Bob Smith', 42, 20000, 'software']\n",
      "['Sue James', 30, 37500.0, 'hardware']\n"
     ]
    }
   ],
   "source": [
    "people = [bob, sue]\n",
    "# 查看一个这个数据库的内容\n",
    "for person in people:\n",
    "    print(person)"
   ]
  },
  {
   "cell_type": "markdown",
   "metadata": {},
   "source": [
    "通过操作数据库来处理记录"
   ]
  },
  {
   "cell_type": "code",
   "execution_count": 11,
   "metadata": {},
   "outputs": [
    {
     "name": "stdout",
     "output_type": "stream",
     "text": [
      "Smith\n",
      "James\n"
     ]
    }
   ],
   "source": [
    "# 给每人涨薪 20%\n",
    "for person in people:\n",
    "    print(person[0].split()[-1])  # 打印姓氏\n",
    "    person[2] *= 1.20   # 涨薪水"
   ]
  },
  {
   "cell_type": "code",
   "execution_count": 12,
   "metadata": {},
   "outputs": [
    {
     "name": "stdout",
     "output_type": "stream",
     "text": [
      "24000.0\n",
      "45000.0\n"
     ]
    }
   ],
   "source": [
    "# 检查一下有没有涨薪水\n",
    "for person in people:\n",
    "    print(person[2])"
   ]
  },
  {
   "cell_type": "markdown",
   "metadata": {},
   "source": [
    "#### 使用python迭代工具从记录中获取各种值。例如获取列表解析、map和生成器表达式"
   ]
  },
  {
   "cell_type": "code",
   "execution_count": 13,
   "metadata": {},
   "outputs": [
    {
     "data": {
      "text/plain": [
       "[24000.0, 45000.0]"
      ]
     },
     "execution_count": 13,
     "metadata": {},
     "output_type": "execute_result"
    }
   ],
   "source": [
    "# 获取员工的薪水列表\n",
    "# 列表解析\n",
    "pays = [person[2] for person in people]\n",
    "pays"
   ]
  },
  {
   "cell_type": "code",
   "execution_count": 14,
   "metadata": {},
   "outputs": [
    {
     "data": {
      "text/plain": [
       "[24000.0, 45000.0]"
      ]
     },
     "execution_count": 14,
     "metadata": {},
     "output_type": "execute_result"
    }
   ],
   "source": [
    "# map\n",
    "pays = map((lambda x: x[2]), people)\n",
    "list(pays)"
   ]
  },
  {
   "cell_type": "code",
   "execution_count": 15,
   "metadata": {},
   "outputs": [
    {
     "data": {
      "text/plain": [
       "69000.0"
      ]
     },
     "execution_count": 15,
     "metadata": {},
     "output_type": "execute_result"
    }
   ],
   "source": [
    "# # 查看公司应付员工薪水总额\n",
    "# 生成器表达式， sum为内建函数\n",
    "sum(person[2] for person in people)"
   ]
  },
  {
   "cell_type": "markdown",
   "metadata": {},
   "source": [
    "#### Field标签"
   ]
  },
  {
   "cell_type": "markdown",
   "metadata": {},
   "source": [
    "通过对列表的位置来访问字段导致我们一直需要记住列表每个位置的含义，这样编码麻烦而且代码可读性也差，最好把字段名和字段的值关联起来，也就是咱们给列表的每个位置起个名字。"
   ]
  },
  {
   "cell_type": "code",
   "execution_count": 16,
   "metadata": {},
   "outputs": [],
   "source": [
    "NAME, AGE, PAY, JOB = range(4)\n",
    "kobe = [\"Kobe Bryant\", 60, 60000, \"spokesperson\"]"
   ]
  },
  {
   "cell_type": "code",
   "execution_count": 17,
   "metadata": {},
   "outputs": [
    {
     "data": {
      "text/plain": [
       "'Kobe Bryant'"
      ]
     },
     "execution_count": 17,
     "metadata": {},
     "output_type": "execute_result"
    }
   ],
   "source": [
    "# 查看姓名\n",
    "kobe[NAME]"
   ]
  },
  {
   "cell_type": "code",
   "execution_count": 18,
   "metadata": {},
   "outputs": [
    {
     "data": {
      "text/plain": [
       "(3, 'spokesperson')"
      ]
     },
     "execution_count": 18,
     "metadata": {},
     "output_type": "execute_result"
    }
   ],
   "source": [
    "# 查看职位\n",
    "JOB, kobe[JOB]  "
   ]
  },
  {
   "cell_type": "markdown",
   "metadata": {},
   "source": [
    "这样兄弟萌就解决了可读性问题，但是我们发现数据记录和字段名并非是关联在一起的，这样随着时间的前进，后来的编码人员对数据结构进行变化时，如果忘了对字段变量做相应的维护的话，它们将会失去同步。  \n",
    "\n",
    "而且字段名是独立的变量，没有从记录到其字段名的直接映射。  \n",
    "\n",
    "我们可以尝试利用元组的列表来解决这个问题，其中每个元组保存字段名和值，更加理想的是，使用列表的列表允许进行更新的，（元组是不可变的）"
   ]
  },
  {
   "cell_type": "code",
   "execution_count": 19,
   "metadata": {},
   "outputs": [],
   "source": [
    "bob = [['name', \"Bob Smith\"], [\"age\", 42], [\"pay\", 30000]]\n",
    "sue = [['name', \"Sue James\"], [\"age\", 46], [\"pay\", 40000]]\n",
    "people = [bob, sue]"
   ]
  },
  {
   "cell_type": "markdown",
   "metadata": {},
   "source": [
    "但是这样我们依然需要通过列表的index值来获取数据。"
   ]
  },
  {
   "cell_type": "code",
   "execution_count": 20,
   "metadata": {},
   "outputs": [
    {
     "data": {
      "text/plain": [
       "['Bob Smith', 'Sue James']"
      ]
     },
     "execution_count": 20,
     "metadata": {},
     "output_type": "execute_result"
    }
   ],
   "source": [
    "# 收集人员姓名\n",
    "[person[0][1] for person in people]"
   ]
  },
  {
   "cell_type": "markdown",
   "metadata": {},
   "source": [
    "实际上仅仅是增加了一层额外的位置索引。更好的办法是，可以在循环中检查字段名字来找到我们想要的属性"
   ]
  },
  {
   "cell_type": "code",
   "execution_count": 21,
   "metadata": {},
   "outputs": [
    {
     "name": "stdout",
     "output_type": "stream",
     "text": [
      "Bob Smith\n",
      "Sue James\n"
     ]
    }
   ],
   "source": [
    "for person in people:\n",
    "    for (name, value) in person:\n",
    "        if name == \"name\" :\n",
    "            print(value)"
   ]
  },
  {
   "cell_type": "markdown",
   "metadata": {},
   "source": [
    "我们可以抽取其中的逻辑写个函数接口来做项工作，以后调用函数进行复用就可以了"
   ]
  },
  {
   "cell_type": "code",
   "execution_count": 22,
   "metadata": {},
   "outputs": [],
   "source": [
    "def field(record, label):\n",
    "    \"\"\"\n",
    "    record: 记录变量名\n",
    "    label： 字段名\n",
    "    \"\"\"\n",
    "    for(fname, fvalue) in record:\n",
    "        if fname == label:  # 根据名字来寻找字段名\n",
    "            return fvalue"
   ]
  },
  {
   "cell_type": "code",
   "execution_count": 23,
   "metadata": {},
   "outputs": [
    {
     "data": {
      "text/plain": [
       "'Bob Smith'"
      ]
     },
     "execution_count": 23,
     "metadata": {},
     "output_type": "execute_result"
    }
   ],
   "source": [
    "# 获取姓名\n",
    "field(bob, \"name\")"
   ]
  },
  {
   "cell_type": "code",
   "execution_count": 24,
   "metadata": {},
   "outputs": [
    {
     "name": "stdout",
     "output_type": "stream",
     "text": [
      "42\n",
      "46\n"
     ]
    }
   ],
   "source": [
    "# 打印所有年龄\n",
    "for rec in people:\n",
    "    print(field(rec, \"age\"))   #简化了代码，提升了可读性"
   ]
  },
  {
   "cell_type": "markdown",
   "metadata": {},
   "source": [
    "如果继续探索下去，最终会实现一套将字段名映射到字段值的完善的记录接口函数。"
   ]
  },
  {
   "cell_type": "markdown",
   "metadata": {},
   "source": [
    "#### 持久存储问题"
   ]
  },
  {
   "cell_type": "markdown",
   "metadata": {},
   "source": [
    "列表的确可以用作我们的人员数据库，而且的确它也满足一些小程序的需要。但是他是在内存中，一旦python的进程退出，这些数据就会从内存中消失。"
   ]
  },
  {
   "cell_type": "markdown",
   "metadata": {},
   "source": [
    "### 试用字典"
   ]
  },
  {
   "cell_type": "markdown",
   "metadata": {},
   "source": [
    "#### 新建字典数据表示"
   ]
  },
  {
   "cell_type": "markdown",
   "metadata": {},
   "source": [
    "虽然列表的记录表示方式能够使用，但是我们知道内建的字典对象在关联属性的名字和值方面会更高效和方便"
   ]
  },
  {
   "cell_type": "code",
   "execution_count": 25,
   "metadata": {},
   "outputs": [],
   "source": [
    "bob = {\"name\":\"Bob Smith\", \"age\":42, \"pay\":30000, \"job\":\"dev\"}\n",
    "sue = {\"name\":\"sue James\", \"age\":46, \"pay\":40000, \"job\":\"mng\"}"
   ]
  },
  {
   "cell_type": "code",
   "execution_count": 26,
   "metadata": {},
   "outputs": [
    {
     "data": {
      "text/plain": [
       "'Bob Smith'"
      ]
     },
     "execution_count": 26,
     "metadata": {},
     "output_type": "execute_result"
    }
   ],
   "source": [
    "# 相比list我们不再需要记住index值偏移量对应的含义\n",
    "bob[\"name\"]"
   ]
  },
  {
   "cell_type": "code",
   "execution_count": 27,
   "metadata": {},
   "outputs": [
    {
     "name": "stdout",
     "output_type": "stream",
     "text": [
      "40000\n",
      "44000.0\n"
     ]
    }
   ],
   "source": [
    "# 涨薪  \n",
    "print(sue[\"pay\"])\n",
    "sue[\"pay\"] *= 1.10\n",
    "print(sue[\"pay\"])\n",
    "\n",
    "# 代码可读性也大大地好\n",
    "# 字段名和值之间的映射关系也稳定，也不用担心它们之间会失联"
   ]
  },
  {
   "cell_type": "markdown",
   "metadata": {},
   "source": [
    "#### 其他建立字典的方法"
   ]
  },
  {
   "cell_type": "markdown",
   "metadata": {},
   "source": [
    "可以使用关键词参数和类型构造函数，主要所有的键是字符串"
   ]
  },
  {
   "cell_type": "code",
   "execution_count": 28,
   "metadata": {},
   "outputs": [
    {
     "data": {
      "text/plain": [
       "{'name': 'Bob Smith', 'age': 42, 'pay': 30000, 'job': 'dev'}"
      ]
     },
     "execution_count": 28,
     "metadata": {},
     "output_type": "execute_result"
    }
   ],
   "source": [
    "bob = dict(name=\"Bob Smith\", age=42, pay=30000, job=\"dev\")\n",
    "sue = dict(name=\"Sue Jones\", age=45, pay=40000, job=\"hdw\")\n",
    "bob"
   ]
  },
  {
   "cell_type": "markdown",
   "metadata": {},
   "source": [
    "或者一次一个字段地填写（字典的键是伪随机排列的呦）"
   ]
  },
  {
   "cell_type": "code",
   "execution_count": 29,
   "metadata": {},
   "outputs": [],
   "source": [
    "wade = {}"
   ]
  },
  {
   "cell_type": "code",
   "execution_count": 30,
   "metadata": {},
   "outputs": [
    {
     "data": {
      "text/plain": [
       "{'name': 'D.Wade'}"
      ]
     },
     "execution_count": 30,
     "metadata": {},
     "output_type": "execute_result"
    }
   ],
   "source": [
    "wade[\"name\"] = \"D.Wade\"\n",
    "wade"
   ]
  },
  {
   "cell_type": "code",
   "execution_count": 31,
   "metadata": {},
   "outputs": [
    {
     "data": {
      "text/plain": [
       "{'name': 'D.Wade', 'age': '40'}"
      ]
     },
     "execution_count": 31,
     "metadata": {},
     "output_type": "execute_result"
    }
   ],
   "source": [
    "wade[\"age\"] = \"40\"\n",
    "wade"
   ]
  },
  {
   "cell_type": "markdown",
   "metadata": {},
   "source": [
    "或者用zip函数将 名/值 两个列表链在一起"
   ]
  },
  {
   "cell_type": "code",
   "execution_count": 32,
   "metadata": {},
   "outputs": [
    {
     "data": {
      "text/plain": [
       "[('name', 'L.J'),\n",
       " ('age', '35'),\n",
       " ('pay', '35000000$'),\n",
       " ('job', 'basketball player')]"
      ]
     },
     "execution_count": 32,
     "metadata": {},
     "output_type": "execute_result"
    }
   ],
   "source": [
    "keys = [\"name\", \"age\", \"pay\", \"job\"]\n",
    "values = [\"L.J\", \"35\", \"35000000$\", \"basketball player\"] \n",
    "\n",
    "# 1\n",
    "list(zip(keys, values))"
   ]
  },
  {
   "cell_type": "code",
   "execution_count": 33,
   "metadata": {},
   "outputs": [
    {
     "data": {
      "text/plain": [
       "{'name': 'L.J', 'age': '35', 'pay': '35000000$', 'job': 'basketball player'}"
      ]
     },
     "execution_count": 33,
     "metadata": {},
     "output_type": "execute_result"
    }
   ],
   "source": [
    "# 2\n",
    "dict(zip(keys, values))"
   ]
  },
  {
   "cell_type": "markdown",
   "metadata": {},
   "source": [
    "甚至可以通过一个键序列和所有键的可选初始值来创造字典（便于初始化空字典）"
   ]
  },
  {
   "cell_type": "code",
   "execution_count": 34,
   "metadata": {},
   "outputs": [
    {
     "data": {
      "text/plain": [
       "{'age': '?', 'name': '?', 'job': '?'}"
      ]
     },
     "execution_count": 34,
     "metadata": {},
     "output_type": "execute_result"
    }
   ],
   "source": [
    "# 先把结构创建出来，然后可以在慢慢填入\n",
    "fields = {\"name\", \"age\", \"job\"}\n",
    "record = dict.fromkeys(fields, \"?\")\n",
    "record"
   ]
  },
  {
   "cell_type": "markdown",
   "metadata": {},
   "source": [
    "#### 字典列表数据库"
   ]
  },
  {
   "cell_type": "markdown",
   "metadata": {},
   "source": [
    "不管怎样实现字典，仍然需要把基于字典的数据记录会聚在一起，形成数据库。我们依然使用列表"
   ]
  },
  {
   "cell_type": "code",
   "execution_count": 35,
   "metadata": {},
   "outputs": [
    {
     "data": {
      "text/plain": [
       "{'name': 'Bob Smith', 'age': 42, 'pay': 30000, 'job': 'dev'}"
      ]
     },
     "execution_count": 35,
     "metadata": {},
     "output_type": "execute_result"
    }
   ],
   "source": [
    "bob"
   ]
  },
  {
   "cell_type": "code",
   "execution_count": 36,
   "metadata": {},
   "outputs": [
    {
     "data": {
      "text/plain": [
       "{'name': 'Sue Jones', 'age': 45, 'pay': 40000, 'job': 'hdw'}"
      ]
     },
     "execution_count": 36,
     "metadata": {},
     "output_type": "execute_result"
    }
   ],
   "source": [
    "sue"
   ]
  },
  {
   "cell_type": "code",
   "execution_count": 37,
   "metadata": {},
   "outputs": [
    {
     "name": "stdout",
     "output_type": "stream",
     "text": [
      "Bob Smith 30000\n",
      "Sue Jones 40000\n"
     ]
    }
   ],
   "source": [
    "people = [bob, sue]\n",
    "for person in people:\n",
    "    print(person[\"name\"], person[\"pay\"])"
   ]
  },
  {
   "cell_type": "markdown",
   "metadata": {},
   "source": [
    "对数据库可以使用迭代工具"
   ]
  },
  {
   "cell_type": "code",
   "execution_count": 38,
   "metadata": {},
   "outputs": [
    {
     "data": {
      "text/plain": [
       "['Bob Smith', 'Sue Jones']"
      ]
     },
     "execution_count": 38,
     "metadata": {},
     "output_type": "execute_result"
    }
   ],
   "source": [
    "# 人员有哪些\n",
    "names = [person[\"name\"] for person in people]\n",
    "names"
   ]
  },
  {
   "cell_type": "code",
   "execution_count": 39,
   "metadata": {},
   "outputs": [
    {
     "data": {
      "text/plain": [
       "['Bob Smith', 'Sue Jones']"
      ]
     },
     "execution_count": 39,
     "metadata": {},
     "output_type": "execute_result"
    }
   ],
   "source": [
    "# map\n",
    "list(map((lambda x: x[\"name\"]), people))"
   ]
  },
  {
   "cell_type": "code",
   "execution_count": 40,
   "metadata": {},
   "outputs": [
    {
     "data": {
      "text/plain": [
       "70000"
      ]
     },
     "execution_count": 40,
     "metadata": {},
     "output_type": "execute_result"
    }
   ],
   "source": [
    "# 总共应付人员薪水\n",
    "sum(person[\"pay\"] for person in people)"
   ]
  },
  {
   "cell_type": "code",
   "execution_count": 41,
   "metadata": {},
   "outputs": [],
   "source": [
    "db = {}                 # 数据库\n",
    "db[\"bob\"] = bob         # 引用字典的字典\n",
    "db[\"sue\"] = sue"
   ]
  },
  {
   "cell_type": "markdown",
   "metadata": {},
   "source": [
    "由于字典是python对象，所以数据库中的记录可以用python语法进行增删改查"
   ]
  },
  {
   "cell_type": "code",
   "execution_count": 42,
   "metadata": {},
   "outputs": [],
   "source": [
    "for person in people:\n",
    "    person[\"pay\"] *= 1.10  # 为所有人员加薪"
   ]
  },
  {
   "cell_type": "markdown",
   "metadata": {},
   "source": [
    "#### 嵌套结构"
   ]
  },
  {
   "cell_type": "code",
   "execution_count": 43,
   "metadata": {},
   "outputs": [
    {
     "name": "stdout",
     "output_type": "stream",
     "text": [
      "Smith\n",
      "Jones\n"
     ]
    }
   ],
   "source": [
    "# 现在抽取姓氏时\n",
    "for person in people:\n",
    "    print(person[\"name\"].split()[-1])"
   ]
  },
  {
   "cell_type": "markdown",
   "metadata": {},
   "source": [
    "通过再进一步结构化我们的记录，可以避免上述列子中这样的抽取姓氏的代码"
   ]
  },
  {
   "cell_type": "code",
   "execution_count": 44,
   "metadata": {},
   "outputs": [],
   "source": [
    "# 将字典、列表、元组嵌套在另一个字典中\n",
    "bob2 = {\"name\":{\"first\":\"bob\", \"last\":\"Smith\"},\n",
    "        \"age\":42,\n",
    "        \"job\":[\"software\", \"dancer\"],\n",
    "        \"pay\":(30000, 20000),\n",
    "       }"
   ]
  },
  {
   "cell_type": "code",
   "execution_count": 45,
   "metadata": {},
   "outputs": [
    {
     "data": {
      "text/plain": [
       "{'first': 'bob', 'last': 'Smith'}"
      ]
     },
     "execution_count": 45,
     "metadata": {},
     "output_type": "execute_result"
    }
   ],
   "source": [
    "# 获取全名\n",
    "bob2[\"name\"]"
   ]
  },
  {
   "cell_type": "code",
   "execution_count": 46,
   "metadata": {},
   "outputs": [
    {
     "data": {
      "text/plain": [
       "'Smith'"
      ]
     },
     "execution_count": 46,
     "metadata": {},
     "output_type": "execute_result"
    }
   ],
   "source": [
    "# 获取bob的姓\n",
    "bob2[\"name\"][\"last\"]"
   ]
  },
  {
   "cell_type": "code",
   "execution_count": 47,
   "metadata": {},
   "outputs": [
    {
     "name": "stdout",
     "output_type": "stream",
     "text": [
      "software\n",
      "dancer\n"
     ]
    }
   ],
   "source": [
    "# bob 的所有工作\n",
    "for job in bob2[\"job\"] : print(job) "
   ]
  },
  {
   "cell_type": "code",
   "execution_count": 48,
   "metadata": {},
   "outputs": [],
   "source": [
    "# bob 又增加了一个工作\n",
    "bob2[\"job\"].append(\"lol player\")"
   ]
  },
  {
   "cell_type": "code",
   "execution_count": 49,
   "metadata": {},
   "outputs": [
    {
     "data": {
      "text/plain": [
       "['software', 'dancer', 'lol player']"
      ]
     },
     "execution_count": 49,
     "metadata": {},
     "output_type": "execute_result"
    }
   ],
   "source": [
    "bob2[\"job\"]"
   ]
  },
  {
   "cell_type": "markdown",
   "metadata": {},
   "source": [
    "#### 字典的字典"
   ]
  },
  {
   "cell_type": "markdown",
   "metadata": {},
   "source": [
    "我们对基于字典的人员数据库做最后一次改进，可以从字典中多挖掘一些字典的好处。  \n",
    "\n",
    "我们使用字典表示数据库本身，"
   ]
  },
  {
   "cell_type": "code",
   "execution_count": 50,
   "metadata": {},
   "outputs": [],
   "source": [
    "bob = dict(name=\"Bob Smith\", age=42, pay=30000, job=\"dev\")\n",
    "sue = dict(name=\"Sue Jones\", age=45, pay=40000, job=\"hdw\")"
   ]
  },
  {
   "cell_type": "code",
   "execution_count": 51,
   "metadata": {},
   "outputs": [],
   "source": [
    "db = {} # 建立一个数据库"
   ]
  },
  {
   "cell_type": "code",
   "execution_count": 52,
   "metadata": {},
   "outputs": [],
   "source": [
    "# 引用字典的字典\n",
    "db[\"bob\"] = bob \n",
    "db[\"sue\"] = sue"
   ]
  },
  {
   "cell_type": "code",
   "execution_count": 53,
   "metadata": {},
   "outputs": [
    {
     "data": {
      "text/plain": [
       "'Bob Smith'"
      ]
     },
     "execution_count": 53,
     "metadata": {},
     "output_type": "execute_result"
    }
   ],
   "source": [
    "db[\"bob\"][\"name\"]"
   ]
  },
  {
   "cell_type": "code",
   "execution_count": 54,
   "metadata": {},
   "outputs": [
    {
     "data": {
      "text/plain": [
       "44000.0"
      ]
     },
     "execution_count": 54,
     "metadata": {},
     "output_type": "execute_result"
    }
   ],
   "source": [
    "db[\"sue\"][\"pay\"] * 1.1  # 涨薪"
   ]
  },
  {
   "cell_type": "code",
   "execution_count": 55,
   "metadata": {},
   "outputs": [
    {
     "data": {
      "text/plain": [
       "{'bob': {'name': 'Bob Smith', 'age': 42, 'pay': 30000, 'job': 'dev'},\n",
       " 'sue': {'name': 'Sue Jones', 'age': 45, 'pay': 40000, 'job': 'hdw'}}"
      ]
     },
     "execution_count": 55,
     "metadata": {},
     "output_type": "execute_result"
    }
   ],
   "source": [
    "# 这样的结构可以直接访问一条记录，而不必循环中寻找到它。\n",
    "db #查看数据库"
   ]
  },
  {
   "cell_type": "code",
   "execution_count": 56,
   "metadata": {},
   "outputs": [
    {
     "name": "stdout",
     "output_type": "stream",
     "text": [
      "{'bob': {'age': 42, 'job': 'dev', 'name': 'Bob Smith', 'pay': 30000},\n",
      " 'sue': {'age': 45, 'job': 'hdw', 'name': 'Sue Jones', 'pay': 40000}}\n"
     ]
    }
   ],
   "source": [
    "# python的pprint可以让输出更易于阅读\n",
    "import pprint\n",
    "pprint.pprint(db)"
   ]
  },
  {
   "cell_type": "markdown",
   "metadata": {},
   "source": [
    "如果仍然需要逐条记录地访问数据库，可以使用for循环和字典的迭代器"
   ]
  },
  {
   "cell_type": "code",
   "execution_count": 57,
   "metadata": {},
   "outputs": [
    {
     "name": "stdout",
     "output_type": "stream",
     "text": [
      "['Bob Smith', 'Sue Jones'] ['Bob Smith', 'Sue Jones']\n"
     ]
    }
   ],
   "source": [
    "# 迭代起\n",
    "x = [db[key][\"name\"] for key in db]\n",
    "y = [rec[\"name\"] for rec in db.values()]\n",
    "print(x, y)"
   ]
  },
  {
   "cell_type": "markdown",
   "metadata": {},
   "source": [
    "#### 数据库增删改查"
   ]
  },
  {
   "cell_type": "code",
   "execution_count": 58,
   "metadata": {},
   "outputs": [
    {
     "data": {
      "text/plain": [
       "2"
      ]
     },
     "execution_count": 58,
     "metadata": {},
     "output_type": "execute_result"
    }
   ],
   "source": [
    "#　数据库的记录总数\n",
    "len(db)"
   ]
  },
  {
   "cell_type": "code",
   "execution_count": 59,
   "metadata": {},
   "outputs": [
    {
     "name": "stdout",
     "output_type": "stream",
     "text": [
      "{'bob': {'age': 42, 'job': 'dev', 'name': 'Bob Smith', 'pay': 30000},\n",
      " 'sue': {'age': 45, 'job': 'hdw', 'name': 'Sue Jones', 'pay': 40000},\n",
      " 'tom': {'age': 50, 'job': None, 'name': 'Tom', 'pay': 0}}\n"
     ]
    }
   ],
   "source": [
    "# 增 - 只要把新的记录赋给一个新的键即可\n",
    "db[\"tom\"] = dict(name=\"Tom\", age=50, job=None, pay=0)\n",
    "pprint.pprint(db)"
   ]
  },
  {
   "cell_type": "code",
   "execution_count": 60,
   "metadata": {},
   "outputs": [
    {
     "data": {
      "text/plain": [
       "['bob', 'sue', 'tom']"
      ]
     },
     "execution_count": 60,
     "metadata": {},
     "output_type": "execute_result"
    }
   ],
   "source": [
    "# 查看数据库有哪些人员记录\n",
    "list(db.keys())"
   ]
  },
  {
   "cell_type": "code",
   "execution_count": 61,
   "metadata": {},
   "outputs": [
    {
     "data": {
      "text/plain": [
       "['Sue Jones', 'Tom']"
      ]
     },
     "execution_count": 61,
     "metadata": {},
     "output_type": "execute_result"
    }
   ],
   "source": [
    "# 类似 SQL 的条件查询\n",
    "[rec[\"name\"] for rec in db.values() if rec[\"age\"] >= 45] "
   ]
  },
  {
   "cell_type": "markdown",
   "metadata": {},
   "source": [
    "#### 持久存储问题"
   ]
  },
  {
   "cell_type": "markdown",
   "metadata": {},
   "source": [
    "虽然我们的数据库仍然是内存的临时对象，当python进程死亡时，这些数据也随之消失，但是这种字典的结构与永久性对象的系统结构非常切合--shelve(英文语法上应该是shelf，但是python模块命名和术语用的shelve)"
   ]
  },
  {
   "cell_type": "markdown",
   "metadata": {},
   "source": [
    "## 第二步  持久化存储记录"
   ]
  },
  {
   "cell_type": "markdown",
   "metadata": {},
   "source": [
    "由于前面的所有对象是在内存中的都是暂时的，所以为了人员信息持久化，我们需要将对象保存在某种类型的文件中。"
   ]
  },
  {
   "cell_type": "markdown",
   "metadata": {},
   "source": [
    "### 使用格式化文件"
   ]
  },
  {
   "cell_type": "markdown",
   "metadata": {},
   "source": [
    "程序运行时保存数据的一种方法是把所有数据以格式化的方法写入一个简单的文本文件中。只要保存和载入的工具在所选格式上达成一致就可以"
   ]
  },
  {
   "cell_type": "markdown",
   "metadata": {},
   "source": [
    "#### 生成测试数据的接口（可设计为脚本模块，命令行运行）"
   ]
  },
  {
   "cell_type": "code",
   "execution_count": 62,
   "metadata": {},
   "outputs": [
    {
     "data": {
      "text/plain": [
       "{'bob': {'name': 'Bob Smith', 'age': 42, 'pay': 30000, 'job': 'dev'},\n",
       " 'sue': {'name': 'Sue Jones', 'age': 45, 'pay': 40000, 'job': 'hdw'},\n",
       " 'tom': {'name': 'Tom Sun', 'age': 48, 'pay': 0, 'job': ''}}"
      ]
     },
     "execution_count": 62,
     "metadata": {},
     "output_type": "execute_result"
    }
   ],
   "source": [
    "# 可以单独制作成一个py文件作为脚本，通过__main__入口调用\n",
    "def initdata():\n",
    "    #　记录       \n",
    "    bob = dict(name=\"Bob Smith\", age=42, pay=30000, job=\"dev\")\n",
    "    sue = dict(name=\"Sue Jones\", age=45, pay=40000, job=\"hdw\")\n",
    "    tom = dict(name=\"Tom Sun\", age=48, pay=0, job=\"\")\n",
    "\n",
    "    # db\n",
    "    db = {}\n",
    "    db[\"bob\"] = bob\n",
    "    db[\"sue\"] = sue\n",
    "    db[\"tom\"] = tom\n",
    "    \n",
    "    return db\n",
    "\n",
    "# 生成\n",
    "initdata() "
   ]
  },
  {
   "cell_type": "markdown",
   "metadata": {},
   "source": [
    "#### 数据格式化脚本"
   ]
  },
  {
   "cell_type": "markdown",
   "metadata": {},
   "source": [
    "建立一些 标识变量"
   ]
  },
  {
   "cell_type": "code",
   "execution_count": 63,
   "metadata": {},
   "outputs": [],
   "source": [
    "dbfilename = \"people-file\"   # 文件名\n",
    "ENDDB = \"enddb.\"     # 数据库分割标识        \n",
    "ENDREC = \"endrec.\"   # 记录间分割标识\n",
    "RECSEP = \"=>\"        # 记录的 键/值 映射标识"
   ]
  },
  {
   "cell_type": "markdown",
   "metadata": {},
   "source": [
    "数据格式化保存接口"
   ]
  },
  {
   "cell_type": "code",
   "execution_count": 64,
   "metadata": {},
   "outputs": [],
   "source": [
    "def storeDb(db, dbfilename=dbfilename):\n",
    "    \"将数据格式化保存为不同文件\"\n",
    "    dbfile = open(dbfilename, \"w\")\n",
    "    for key in db:\n",
    "        print(key, file=dbfile)  # dbfile.write(key + \"\\n\") 同效\n",
    "        for (name, value)in db[key].items():\n",
    "            print(name + RECSEP + repr(value), file=dbfile)  #　repr将其当作代码执行\n",
    "        print(ENDREC, file=dbfile)\n",
    "    print(ENDDB, file=dbfile)\n",
    "    dbfile.close()"
   ]
  },
  {
   "cell_type": "code",
   "execution_count": 65,
   "metadata": {},
   "outputs": [],
   "source": [
    "# 将测试数据持久化存储\n",
    "storeDb(initdata())  "
   ]
  },
  {
   "cell_type": "code",
   "execution_count": 66,
   "metadata": {},
   "outputs": [
    {
     "name": "stdout",
     "output_type": "stream",
     "text": [
      "bob\n",
      "name=>'Bob Smith'\n",
      "age=>42\n",
      "pay=>30000\n",
      "job=>'dev'\n",
      "endrec.\n",
      "sue\n",
      "name=>'Sue Jones'\n",
      "age=>45\n",
      "pay=>40000\n",
      "job=>'hdw'\n",
      "endrec.\n",
      "tom\n",
      "name=>'Tom Sun'\n",
      "age=>48\n",
      "pay=>0\n",
      "job=>''\n",
      "endrec.\n",
      "enddb.\n"
     ]
    }
   ],
   "source": [
    "# 浏览一下这个文件\n",
    "for line in open(\"people-file\"):\n",
    "    print(line, end=\"\")"
   ]
  },
  {
   "cell_type": "markdown",
   "metadata": {},
   "source": [
    "从文件解析数据并重构数据库对象"
   ]
  },
  {
   "cell_type": "code",
   "execution_count": 67,
   "metadata": {},
   "outputs": [],
   "source": [
    "def loadDb(dbfilename=dbfilename):\n",
    "    \"解析数据， 重构数据库\"\n",
    "    db = {}         # 数据库的空间\n",
    "    rec = {}        # 记录的缓存空间\n",
    "    recname = \"\"    # 数据库的  键\n",
    "    with open(dbfilename, \"r\") as dbfile:\n",
    "        for line in dbfile :\n",
    "            line = line.strip(\"\\n\")        \n",
    "            if line != ENDDB:  \n",
    "                if line != ENDREC:\n",
    "                    if RECSEP  in line : \n",
    "                        name, value = line.split(RECSEP)\n",
    "                        rec[name] = eval(value)    # 往记录添加数据\n",
    "                       \n",
    "                        # print(recname)\n",
    "                    else:\n",
    "                        recname = line  #　记录名\n",
    "                        db[recname] = rec\n",
    "                    # print(rec)\n",
    "                else:\n",
    "                    rec = {}    # 一旦当前记录结束，缓存置空，\n",
    "                    continue    # 跳过 endrec. 这一行继续执行\n",
    "            else:\n",
    "                return db"
   ]
  },
  {
   "cell_type": "code",
   "execution_count": 68,
   "metadata": {},
   "outputs": [],
   "source": [
    "db = loadDb()  # 解析文件并构建数据库"
   ]
  },
  {
   "cell_type": "markdown",
   "metadata": {},
   "source": [
    "对重构的数据库可以进行增删改查，并重新写入文件"
   ]
  },
  {
   "cell_type": "code",
   "execution_count": 69,
   "metadata": {},
   "outputs": [
    {
     "data": {
      "text/plain": [
       "{'name': 'Tom Sun', 'age': 48, 'pay': 50000, 'job': 'mng'}"
      ]
     },
     "execution_count": 69,
     "metadata": {},
     "output_type": "execute_result"
    }
   ],
   "source": [
    "db[\"tom\"][\"job\"] = \"mng\"\n",
    "db[\"tom\"][\"pay\"] = 50000\n",
    "db[\"tom\"]"
   ]
  },
  {
   "cell_type": "code",
   "execution_count": 70,
   "metadata": {},
   "outputs": [
    {
     "data": {
      "text/plain": [
       "{'bob': {'name': 'Bob Smith', 'age': 42, 'pay': 30000, 'job': 'dev'},\n",
       " 'sue': {'name': 'Sue Jones', 'age': 45, 'pay': 40000, 'job': 'hdw'},\n",
       " 'tom': {'name': 'Tom Sun', 'age': 48, 'pay': 50000, 'job': 'mng'}}"
      ]
     },
     "execution_count": 70,
     "metadata": {},
     "output_type": "execute_result"
    }
   ],
   "source": [
    "storeDb(db)  # 将更改厚的数据库写入文件\n",
    "loadDb()     # 检查一下是否更改生效\n"
   ]
  },
  {
   "cell_type": "markdown",
   "metadata": {},
   "source": [
    "到此为止，就算计算机关机都不会丢失数据了，因为我们已经将数据库对象格式化保存到硬盘里的文件里了，我们可以靠专用的脚本载出更改和存入这些对象了。这样我萌就算把对象持久化了。"
   ]
  },
  {
   "cell_type": "markdown",
   "metadata": {},
   "source": [
    "###  使用 pickle文件"
   ]
  },
  {
   "cell_type": "markdown",
   "metadata": {},
   "source": [
    "虽然我们格式化文本文件结构是可行的，但是他有些较大的局限性。  \n",
    "\n",
    "首先为了获取一条记录或者更改一条记录就需要读取和写入整个数据库，这样会让程序越来复杂越来越慢。  \n",
    "\n",
    "其次，我们格式化的方法为例，用 => 做分割符的办法，当文本内容里出现 => 这样的内容，就会发生冲突，导致这种格式化的结构失败。虽然我们可以采用XML的方式来结构化，但是创建XML和解析XML的工作是很烦银的 \n",
    "\n",
    "如果有一种通用的工具，它只需一步就可以将任意类型的Python对象转化成可以保存在文件中的格式，而你不需要关心，文件的格式化结构，不必为了解析文件而费心，那就好了。这正是Pickle设计的初衷。"
   ]
  },
  {
   "cell_type": "markdown",
   "metadata": {},
   "source": [
    "Pickle模块将内存中的Python对象转化成序列化的字节流，这是一种可以写入任何类似文件对象的字节串。  \n",
    "Pickle模块也可以根据序列化的字节流重新构建原来内存中的对象。将文件转换成原来的那个对象。  \n",
    "\n",
    "可以说 Pickle模块取代了专有的数据格式。"
   ]
  },
  {
   "cell_type": "code",
   "execution_count": 71,
   "metadata": {},
   "outputs": [],
   "source": [
    "# 存\n",
    "import pickle \n",
    "\n",
    "db = initdata() # 生成测试数据\n",
    "dbfile = open(\"people-pickle\", \"wb\")   # 用字节的方式进行写\n",
    "pickle.dump(db, dbfile)  # 把 db 对象pickle进文件里\n",
    "dbfile.close()"
   ]
  },
  {
   "cell_type": "code",
   "execution_count": 72,
   "metadata": {},
   "outputs": [
    {
     "name": "stdout",
     "output_type": "stream",
     "text": [
      "{'bob': {'age': 42, 'job': 'dev', 'name': 'Bob Smith', 'pay': 30000},\n",
      " 'sue': {'age': 45, 'job': 'hdw', 'name': 'Sue Jones', 'pay': 40000},\n",
      " 'tom': {'age': 48, 'job': 'mng', 'name': 'Tom Sun', 'pay': 50000}}\n"
     ]
    }
   ],
   "source": [
    "# 取\n",
    "import pprint\n",
    "\n",
    "with open(\"people_pickle\", \"rb\") as dbfile:   # 用字节的方式进行读 \n",
    "     db_ = pickle.load(dbfile)  # 读取           \n",
    "     pprint.pprint(db_)"
   ]
  },
  {
   "cell_type": "code",
   "execution_count": 73,
   "metadata": {},
   "outputs": [],
   "source": [
    "# 更新\n",
    "db[\"sue\"][\"pay\"] *= 1.10\n",
    "\n",
    "# 再写入\n",
    "dbfile = open(\"people-pickle\", \"wb\")  # 用字节的方式进行写\n",
    "pickle.dump(db, dbfile)  # 把 db 对象pickle进文件里\n",
    "dbfile.close()"
   ]
  },
  {
   "cell_type": "markdown",
   "metadata": {},
   "source": [
    "我们观察到当记录在内存中被修改后是将整个数据库重新写入文件，这和我们自己手动格式化文件的方式一样的，当数据库比较庞大时，这些操作会变得很慢。暂时保留这个问题"
   ]
  },
  {
   "cell_type": "markdown",
   "metadata": {},
   "source": [
    "Pickle和它的数据格式也可以处理shelve和ZODB数据库，pickle的类实例为被存储的对象提供了数据和操作。  \n",
    "\n",
    "实际上Pickle更加通用，只要对象具有文件兼容的接口，就可以通过pickle将内存中的Python对象转换成多种媒介存储。  \n",
    "\n",
    "可以使用网络套接字（Socket）可以将Pickle过的Python对象通过网络进行传输，甚至作为SOAP和XML-RPC这样的大型协议的代替。"
   ]
  },
  {
   "cell_type": "markdown",
   "metadata": {},
   "source": [
    "### 每条记录使用一个pickle文件"
   ]
  },
  {
   "cell_type": "markdown",
   "metadata": {},
   "source": [
    "前面提到的潜在的缺点，当数据库非常大是变得很慢，慢的原因是更新操作一条记录就要将整个数据库重新读取存入。  \n",
    "\n",
    "我们可以通过存储数据库中的一条记录到一个普通文件的方式来改进。以记录本身的键为文件名"
   ]
  },
  {
   "cell_type": "markdown",
   "metadata": {},
   "source": [
    "1. 将每条记录存到对应的文件中"
   ]
  },
  {
   "cell_type": "code",
   "execution_count": 74,
   "metadata": {},
   "outputs": [],
   "source": [
    "import pickle\n",
    "\n",
    "for (key, record) in [(\"bob\", bob), (\"sue\", sue)]:\n",
    "    with open(key+\".pkl\", \"wb\") as recfile:\n",
    "        pickle.dump(record, recfile)"
   ]
  },
  {
   "cell_type": "markdown",
   "metadata": {},
   "source": [
    "2  使用glob模块获取整个数据库。它根据文件拓展名来获取这个目录下所有该拓展名的文件。如果需要载入单个记录，可以打开对应的文件并使用pickle反序列化。为了得到一条记录，我们只需要载入一个记录而不需要整个数据库"
   ]
  },
  {
   "cell_type": "code",
   "execution_count": 75,
   "metadata": {},
   "outputs": [
    {
     "name": "stdout",
     "output_type": "stream",
     "text": [
      "bob.pkl =>\n",
      " {'name': 'Bob Smith', 'age': 42, 'pay': 30000, 'job': 'dev'}\n",
      "sue.pkl =>\n",
      " {'name': 'Sue Jones', 'age': 45, 'pay': 40000, 'job': 'hdw'}\n",
      "sue.pkl['name'] =>\n",
      " Sue Jones\n"
     ]
    }
   ],
   "source": [
    "import glob\n",
    "\n",
    "# 查看整个数据库\n",
    "for filename in glob.glob(\"*.pkl\"):    \n",
    "    with open(filename, \"rb\") as recfile:\n",
    "        record = pickle.load(recfile)\n",
    "        print(filename, \"=>\\n\",record)\n",
    "\n",
    "#　查看单个记录\n",
    "suefile = open(\"sue.pkl\", \"rb\")\n",
    "print(\"sue.pkl['name']\", \"=>\\n\", pickle.load(suefile)[\"name\"])\n",
    "suefile.close()"
   ]
  },
  {
   "cell_type": "markdown",
   "metadata": {},
   "source": [
    "3  当更新数据库，从对应文件抓取一条记录，在内存中进行修改，然后重新写入它的pickle文件，不用为了更新某段记录而对整个数据库进行操作"
   ]
  },
  {
   "cell_type": "code",
   "execution_count": 76,
   "metadata": {},
   "outputs": [
    {
     "name": "stdout",
     "output_type": "stream",
     "text": [
      "sue.pkl['pay'] =>\n",
      " 44000.0\n"
     ]
    }
   ],
   "source": [
    "suefile = open(\"sue.pkl\", \"rb\")\n",
    "sue = pickle.load(suefile)\n",
    "suefile.close()\n",
    "\n",
    "sue[\"pay\"] *= 1.10  # 给sue涨薪10%\n",
    "suefile = open(\"sue.pkl\", \"wb\")\n",
    "pickle.dump(sue, suefile)\n",
    "suefile.close()\n",
    "\n",
    "# 查看该记录是否更新成功\n",
    "suefile = open(\"sue.pkl\", \"rb\")\n",
    "print(\"sue.pkl['pay']\", \"=>\\n\", pickle.load(suefile)[\"pay\"])\n",
    "suefile.close()"
   ]
  },
  {
   "cell_type": "markdown",
   "metadata": {},
   "source": [
    "上述方法数据库的中的key变为了实际的文件名。也就是说文件系统成为了高层字典，通过文件名可以直接访问每条记录"
   ]
  },
  {
   "cell_type": "markdown",
   "metadata": {},
   "source": [
    "### 使用shelves \n",
    "假设你的文件系统可以处理任意多需要的文件，将一条记录pickle成一个大文件。避免了每次更新和操作时都需要载入和存储整个数据库，如果我们用键来访问记录，Python表批准库提供了一中更高层次的工具：shelves\n",
    "\n",
    "它自动地将对象pickle进和pickle出健访问文件系统。它们很像必须打开着的字典，在程序退出时进行持久化。shelves使用起来像是必须打开着的一个字典。 "
   ]
  },
  {
   "cell_type": "markdown",
   "metadata": {},
   "source": [
    "1. 创建数据库"
   ]
  },
  {
   "cell_type": "code",
   "execution_count": 77,
   "metadata": {},
   "outputs": [],
   "source": [
    "import shelve\n",
    "\n",
    "db = shelve.open(\"people-shelve\") \n",
    "db[\"bob\"] = bob\n",
    "db[\"sue\"] = sue\n",
    "db.close()"
   ]
  },
  {
   "cell_type": "markdown",
   "metadata": {},
   "source": [
    "2. 访问数据库, 依旧是字典的字典"
   ]
  },
  {
   "cell_type": "code",
   "execution_count": 78,
   "metadata": {},
   "outputs": [
    {
     "name": "stdout",
     "output_type": "stream",
     "text": [
      "bob =>\n",
      " {'name': 'Bob Smith', 'age': 42, 'pay': 30000, 'job': 'dev'}\n",
      "sue =>\n",
      " {'name': 'Sue Jones', 'age': 45, 'pay': 44000.0, 'job': 'hdw'}\n",
      "tom =>\n",
      " {'name': 'Tom', 'age': 50, 'job': None, 'pay': 0}\n"
     ]
    }
   ],
   "source": [
    "# 像字典一样通过键来访问\n",
    "db = shelve.open(\"people-shelve\")\n",
    "for key in db:\n",
    "    print(key, \"=>\\n\", db[key]) "
   ]
  },
  {
   "cell_type": "markdown",
   "metadata": {},
   "source": [
    "3. 更新"
   ]
  },
  {
   "cell_type": "code",
   "execution_count": 79,
   "metadata": {},
   "outputs": [],
   "source": [
    "# 需要加入的新数据\n",
    "tom= dict(name=\"Tom\", age=50, job=None, pay=0)\n",
    "\n",
    "# 打开数据库\n",
    "db = shelve.open(\"people-shelve\") # 缺省的方式\n",
    "# 更改记录\n",
    "sue = db[\"sue\"]   \n",
    "sue[\"pay\"] *= 1.1\n",
    "\n",
    "# 手动写回的原因是缺省需求，可以在open中定义关闭shelve时写回，但是这么干会消耗内存使得关闭变慢\n",
    "# 缺省：需要时创建，否则以可读可写方式打开 \n",
    "db[\"sue\"] = sue\n",
    "\n",
    "# 添加新记录\n",
    "db[\"tom\"] = tom\n",
    "db.close() # 关闭shelve、关闭缓存通道\n",
    "\n",
    "# 可以将数据库操作单独制作成脚本文件，通过运行相应程序 自动对本地数据库操作并将变化状态持久化地保存在文件中，"
   ]
  },
  {
   "cell_type": "markdown",
   "metadata": {},
   "source": [
    "## 第三步 走进OOP"
   ]
  },
  {
   "cell_type": "markdown",
   "metadata": {},
   "source": [
    "面向对象的方式能使得实现类似操作时避免代码的重复编写，提高代码的复用，代码的调试和维护的难度也降低了。"
   ]
  },
  {
   "cell_type": "markdown",
   "metadata": {},
   "source": [
    "### 构建类"
   ]
  },
  {
   "cell_type": "markdown",
   "metadata": {},
   "source": [
    "实例化类的方式来实现记录数据库"
   ]
  },
  {
   "cell_type": "code",
   "execution_count": 80,
   "metadata": {},
   "outputs": [],
   "source": [
    "class Person:\n",
    "    def __init__(self, name, age, pay=0, job=None):\n",
    "        self.name = name\n",
    "        self.age = age\n",
    "        self.pay = pay\n",
    "        self.job = job"
   ]
  },
  {
   "cell_type": "markdown",
   "metadata": {},
   "source": [
    "构建记录（类的实例）"
   ]
  },
  {
   "cell_type": "code",
   "execution_count": 81,
   "metadata": {},
   "outputs": [
    {
     "data": {
      "text/plain": [
       "'Smith'"
      ]
     },
     "execution_count": 81,
     "metadata": {},
     "output_type": "execute_result"
    }
   ],
   "source": [
    "bob = Person(\"Bob Smith\", 42, 30000, \"software\")\n",
    "sue = Person(\"Sue Jones\", 45, 35000, \"hartware\")\n",
    "bob.name.split()[-1] # 获取姓氏"
   ]
  },
  {
   "cell_type": "markdown",
   "metadata": {},
   "source": [
    "更新记录"
   ]
  },
  {
   "cell_type": "code",
   "execution_count": 82,
   "metadata": {},
   "outputs": [
    {
     "data": {
      "text/plain": [
       "38500.0"
      ]
     },
     "execution_count": 82,
     "metadata": {},
     "output_type": "execute_result"
    }
   ],
   "source": [
    "# 涨薪\n",
    "sue.pay *= 1.1\n",
    "sue.pay"
   ]
  },
  {
   "cell_type": "markdown",
   "metadata": {},
   "source": [
    "这个类还不是一个数据库，将类的实例放入列表和字典，构成一个整体"
   ]
  },
  {
   "cell_type": "code",
   "execution_count": 83,
   "metadata": {},
   "outputs": [
    {
     "name": "stdout",
     "output_type": "stream",
     "text": [
      "Bob Smith 30000\n",
      "Sue Jones 35000\n"
     ]
    }
   ],
   "source": [
    "bob = Person(\"Bob Smith\", 42, 30000, \"software\")\n",
    "sue = Person(\"Sue Jones\", 45, 35000, \"hartware\")\n",
    "\n",
    "people = [bob, sue]  # 构成一个数据库列表\n",
    "for person in people:\n",
    "    print(person.name, person.pay)"
   ]
  },
  {
   "cell_type": "markdown",
   "metadata": {},
   "source": [
    "查询"
   ]
  },
  {
   "cell_type": "code",
   "execution_count": 84,
   "metadata": {},
   "outputs": [
    {
     "data": {
      "text/plain": [
       "[('Bob Smith', 42, 30000, 'software'), ('Sue Jones', 45, 35000, 'hartware')]"
      ]
     },
     "execution_count": 84,
     "metadata": {},
     "output_type": "execute_result"
    }
   ],
   "source": [
    "x = [(person.name, person.age, person.pay,  person.job) for person in people]\n",
    "x"
   ]
  },
  {
   "cell_type": "markdown",
   "metadata": {},
   "source": [
    "SQL 风格查询"
   ]
  },
  {
   "cell_type": "code",
   "execution_count": 85,
   "metadata": {},
   "outputs": [
    {
     "data": {
      "text/plain": [
       "['Sue Jones']"
      ]
     },
     "execution_count": 85,
     "metadata": {},
     "output_type": "execute_result"
    }
   ],
   "source": [
    "[rec.name for rec in people if rec.age >= 45]"
   ]
  },
  {
   "cell_type": "markdown",
   "metadata": {},
   "source": [
    "### 为类添加行为"
   ]
  },
  {
   "cell_type": "markdown",
   "metadata": {},
   "source": [
    "现在我们们实例化类仅仅是得到数据。它使用对象的属性替代字典的键，但是并没有原来的那些操作方法，为了利用类的功能完成这些操作，我们为类添加一些行为。"
   ]
  },
  {
   "cell_type": "code",
   "execution_count": 86,
   "metadata": {},
   "outputs": [],
   "source": [
    "class Person:\n",
    "    def __init__(self, name, age, pay=0, job=None):\n",
    "        self.name = name\n",
    "        self.age = age\n",
    "        self.pay = pay\n",
    "        self.job = job\n",
    "    \n",
    "    # 捕获姓氏行为\n",
    "    def get_LastName(self):\n",
    "        return self.name.split()[-1]\n",
    "    \n",
    "    # 涨薪行为\n",
    "    def giveRaise(self, percent=0.1):\n",
    "        self.pay *= (1.0 + percent)"
   ]
  },
  {
   "cell_type": "code",
   "execution_count": 87,
   "metadata": {},
   "outputs": [
    {
     "data": {
      "text/plain": [
       "'Smith'"
      ]
     },
     "execution_count": 87,
     "metadata": {},
     "output_type": "execute_result"
    }
   ],
   "source": [
    "# 测试一下\n",
    "bob = Person(\"Bob Smith\", 42, 30000, \"software\")\n",
    "sue = Person(\"Sue Jones\", 45, 35000, \"hartware\")\n",
    "\n",
    "bob.get_LastName()"
   ]
  },
  {
   "cell_type": "code",
   "execution_count": 88,
   "metadata": {},
   "outputs": [
    {
     "name": "stdout",
     "output_type": "stream",
     "text": [
      "35000\n",
      "38500.0\n"
     ]
    }
   ],
   "source": [
    "# 一直涨薪一直爽\n",
    "print(sue.pay)\n",
    "sue.giveRaise()\n",
    "print(sue.pay)"
   ]
  },
  {
   "cell_type": "markdown",
   "metadata": {},
   "source": [
    "### 继承  通过人员类型编写子类"
   ]
  },
  {
   "cell_type": "markdown",
   "metadata": {},
   "source": [
    "构建管理层子类， 可以单独地对管理层进行一些定制化的行为，而不会影响到父类（所有人员）"
   ]
  },
  {
   "cell_type": "code",
   "execution_count": 89,
   "metadata": {},
   "outputs": [],
   "source": [
    "# 比如管理层除了正常涨薪还有 额外百分比的奖金的话 哎\n",
    "class Manager(Person):\n",
    "    \n",
    "    # 重写涨薪行为\n",
    "    def giveRaise(self, percent=0.1, bonus=0.1) :\n",
    "        self.pay *= (1.0 + percent +bonus)"
   ]
  },
  {
   "cell_type": "code",
   "execution_count": 90,
   "metadata": {},
   "outputs": [
    {
     "data": {
      "text/plain": [
       "'Doe'"
      ]
     },
     "execution_count": 90,
     "metadata": {},
     "output_type": "execute_result"
    }
   ],
   "source": [
    "tom = Manager(name=\"Tom Doe\", age=50, pay=50000)\n",
    "tom.get_LastName() # 父类的功能"
   ]
  },
  {
   "cell_type": "markdown",
   "metadata": {},
   "source": [
    "汤姆因为是Manager类的实例，给他涨薪的时候，除了父类的10%还有自定义的奖金"
   ]
  },
  {
   "cell_type": "code",
   "execution_count": 91,
   "metadata": {},
   "outputs": [
    {
     "name": "stdout",
     "output_type": "stream",
     "text": [
      "50000\n"
     ]
    },
    {
     "data": {
      "text/plain": [
       "65000.0"
      ]
     },
     "execution_count": 91,
     "metadata": {},
     "output_type": "execute_result"
    }
   ],
   "source": [
    "print(tom.pay)\n",
    "# 公司默认奖金10%，但是这次表现突出给奖金20%，加上基础所有人员涨薪10%，这样就是30%了哦\n",
    "tom.giveRaise(bonus=.20) \n",
    "tom.pay\n"
   ]
  },
  {
   "cell_type": "markdown",
   "metadata": {},
   "source": [
    "这样可以在父类中全局控制所有记录的共有属性，在子类中管理各个类型的特有行为，除了可维护性高，也不会在记录间相互干扰。"
   ]
  },
  {
   "cell_type": "markdown",
   "metadata": {},
   "source": [
    "###  重构代码"
   ]
  },
  {
   "cell_type": "markdown",
   "metadata": {},
   "source": [
    "####  增强方法"
   ]
  },
  {
   "cell_type": "markdown",
   "metadata": {},
   "source": [
    "我们发现涨薪计算在两个地方重复出项了（在两个类中）。我们对子类的涨薪方法可以通过增强继承来实现，而不是完全替代父类方法（完全重写），从而达到去除代码中的冗余的效果。"
   ]
  },
  {
   "cell_type": "code",
   "execution_count": 92,
   "metadata": {},
   "outputs": [],
   "source": [
    "class Manager(Person):\n",
    "    \n",
    "    def giveRaise(self, percent=0.1, bonus=0.1) :\n",
    "        Person.giveRaise(self, percent + bonus)\n",
    "# 1.调用父类的方法显式地传入self参数\n",
    "# 2. 虽然重新定义了该方法，但我们调用的是通用的方法，可以降低冗余（业务逻辑只出现一次）\n",
    "# 3.实践中易于启动父类的构造器，这样在父类中重新定义了percent参数设置时，子类中会启动父类构造器，自动生效。"
   ]
  },
  {
   "cell_type": "markdown",
   "metadata": {},
   "source": [
    "####  格式化显示"
   ]
  },
  {
   "cell_type": "markdown",
   "metadata": {},
   "source": [
    "为了获得更多面向对象的乐趣，咱们要为people类增加一些操作符重载。"
   ]
  },
  {
   "cell_type": "code",
   "execution_count": 93,
   "metadata": {},
   "outputs": [
    {
     "name": "stdout",
     "output_type": "stream",
     "text": [
      "<__main__.Manager object at 0x043D3E50>\n"
     ]
    }
   ],
   "source": [
    "# 这是还没重载时的输出，默认的只有地址信息，而且可读性也是挺差的\n",
    "tom = Manager(\"Tom Jams\", 60, 50000)\n",
    "print(tom)"
   ]
  },
  {
   "cell_type": "code",
   "execution_count": 94,
   "metadata": {},
   "outputs": [],
   "source": [
    "class Person:\n",
    "    def __init__(self, name, age, pay=0, job=None):\n",
    "        self.name = name\n",
    "        self.age = age\n",
    "        self.pay = pay\n",
    "        self.job = job\n",
    "    \n",
    "    # 操作符重载\n",
    "    def __str__(self):\n",
    "        # 当打印 Person 实例时 python 会自动调用这个方法滴，默认的返回值信息少的很\n",
    "        # 自定义返回值,对当对象需要作为整体打印时，比实例缺省的显示好得多\n",
    "        return \"<%s => %s: %s, %s>\" % (self.__class__.__name__, self.name, self.job, self.pay)\n",
    "    # 可以编写 __add__ 使得 + 表达式自动调用 giveraise方法，代价是代码可读性变差，不知到具体你 + 了啥？\n",
    "    # 还有更多的操作符可以重载 __repr__、 __call__、 __iter__ 等等...\n",
    "    \n",
    "    \n",
    "    def get_LastName(self):\n",
    "        return self.name.split()[-1]\n",
    "    \n",
    "    def giveRaise(self, percent=0.1):\n",
    "        self.pay *= (1.0 + percent)\n",
    "\n",
    "class Manager(Person):\n",
    "    \n",
    "    def giveRaise(self, percent=0.1, bonus=0.1) :\n",
    "        Person.giveRaise(self, percent + bonus)"
   ]
  },
  {
   "cell_type": "code",
   "execution_count": 95,
   "metadata": {},
   "outputs": [
    {
     "name": "stdout",
     "output_type": "stream",
     "text": [
      "<Manager => Tom Jams: manager, 6000>\n"
     ]
    }
   ],
   "source": [
    "# 测试一下打印时输出有啥改变， 呦！\n",
    "tom = Manager(\"Tom Jams\", 60, pay=6000, job=\"manager\")\n",
    "print(tom)"
   ]
  },
  {
   "cell_type": "markdown",
   "metadata": {},
   "source": [
    "#### 自定义构造函数"
   ]
  },
  {
   "cell_type": "markdown",
   "metadata": {},
   "source": [
    "我们又发现了一个问题：  tom = Manager(\"Tom Jams\", 60, pay=6000, job=\"manager\")  \n",
    "这个类实例化的语句中命名参数： job=\"manager\" 存在着冗余，想想看这是manger类的实例，那job这个命名参数有点废话的赶脚嘛  \n",
    "比较合理的是为manager类提供一个显式的构造函数，自动填写job参数。"
   ]
  },
  {
   "cell_type": "code",
   "execution_count": 96,
   "metadata": {},
   "outputs": [],
   "source": [
    "# 说干就干\n",
    "class Manager(Person):\n",
    "    \n",
    "    def __init__(self, name, age, pay):\n",
    "        Person.__init__(self, name, age, pay, job=\"Manager\") # 这里调用父类的构造器，并自动填写job\n",
    "\n",
    "    def giveRaise(self, percent=0.1, bonus=0.1) :\n",
    "        Person.giveRaise(self, percent+bonus)"
   ]
  },
  {
   "cell_type": "code",
   "execution_count": 97,
   "metadata": {},
   "outputs": [
    {
     "name": "stdout",
     "output_type": "stream",
     "text": [
      "<Person => Bob Smith: None, 0.0>\n",
      "<Person => Sue Jones: Hardware, 44000.0>\n",
      "<Manager => Tom Doe: Manager, 60000.0>\n"
     ]
    }
   ],
   "source": [
    "# 测试一下  格式化输出\n",
    "bob = Person(\"Bob Smith\", 44)    # 还没为bon分配工作\n",
    "sue = Person(\"Sue Jones\", 47, 40000, \"Hardware\") # 分配了硬件工程师（可以再写个硬件工程师子类）\n",
    "tom = Manager(name=\"Tom Doe\", age=50, pay=50000) # 分配到经理\n",
    "for obj in (bob, sue, tom):\n",
    "    obj.giveRaise(.10)\n",
    "    print(obj)"
   ]
  },
  {
   "cell_type": "markdown",
   "metadata": {},
   "source": [
    "### 增加持久化"
   ]
  },
  {
   "cell_type": "markdown",
   "metadata": {},
   "source": [
    "我们现在已经把记录和对其的操作封装进了类中。我们可以把她们存储在一个单记录的pickle文件中，而基于shelve的存储媒介也能很好的实现我们的想法。并且更容易编码。"
   ]
  },
  {
   "cell_type": "code",
   "execution_count": 98,
   "metadata": {},
   "outputs": [],
   "source": [
    "# 创建记录（实例） \n",
    "bob = Person(\"Bob Smith\", 44)\n",
    "sue = Person(\"Sue Jones\", 47, 40000, \"Hardware\")\n",
    "tom = Manager(name=\"Tom Doe\", age=50, pay=50000)\n",
    "\n",
    "# 创建存储记录(实例)的shelve，也就是咱们的顶层数据库了\n",
    "db = shelve.open(\"class-shelve\")\n",
    "\n",
    "# 然后将 记录 赋给新建的shelve文件的 键\n",
    "db[\"bob\"] = bob\n",
    "db[\"sue\"] = sue\n",
    "db[\"tom\"] = tom\n",
    "db.close()"
   ]
  },
  {
   "cell_type": "code",
   "execution_count": 99,
   "metadata": {},
   "outputs": [
    {
     "name": "stdout",
     "output_type": "stream",
     "text": [
      "bob  =>\n",
      "  Bob Smith 0\n",
      "sue  =>\n",
      "  Sue Jones 40000\n",
      "tom  =>\n",
      "  Tom Doe 50000\n"
     ]
    }
   ],
   "source": [
    "# 查看数据库\n",
    "db = shelve.open(\"class-shelve\")\n",
    "for key in db:\n",
    "    print(key, \" =>\\n \", db[key].name, db[key].pay)"
   ]
  },
  {
   "cell_type": "code",
   "execution_count": 100,
   "metadata": {},
   "outputs": [
    {
     "name": "stdout",
     "output_type": "stream",
     "text": [
      "Smith\n"
     ]
    }
   ],
   "source": [
    "#  对数据库中的实例进行操作\n",
    "bob = db[\"bob\"]\n",
    "print(bob.get_LastName()) \n",
    "\n",
    "\n",
    "# 可以直接操作\n",
    "# 不需要导入实例的相关类，pickle系统会自动定位相关类，只要类在模块搜索路径上。"
   ]
  },
  {
   "cell_type": "markdown",
   "metadata": {},
   "source": [
    "由于类和他的实例在shelve中是被分别存储的，所以可以在外部通过修改类来改变实例被载入时的解释方法。  \n",
    "\n",
    "可以对shleve数据库中存储的实例进行更改，因为这些对象都是持久化在shelve中的/。也可以通过python交互命令打开并查看shelve，尽管其存储具有长期性，但是shelve其实真正上只是一种包含了python对象的对象（它本身也是一个shelve实例）"
   ]
  },
  {
   "cell_type": "markdown",
   "metadata": {},
   "source": [
    "### 其他数据库选项"
   ]
  },
  {
   "cell_type": "markdown",
   "metadata": {},
   "source": [
    "shelve功能齐全，虽然它不是关系型数据库（我们存储的是对象，不是表），但是对于一些类型的程序这已经够用了"
   ]
  },
  {
   "cell_type": "markdown",
   "metadata": {},
   "source": [
    "如果需要更多的功能，我们可以将这个应用移植到一些更强大的工具上。"
   ]
  },
  {
   "cell_type": "markdown",
   "metadata": {},
   "source": [
    "# 系统编程"
   ]
  },
  {
   "cell_type": "markdown",
   "metadata": {},
   "source": [
    "## 获取操作系统的一些信息 （摘自网络）"
   ]
  },
  {
   "cell_type": "code",
   "execution_count": 101,
   "metadata": {},
   "outputs": [
    {
     "name": "stdout",
     "output_type": "stream",
     "text": [
      "操作系统信息:\n",
      "获取操作系统名称及版本号 : [Windows-7-6.1.7601-SP1]\n",
      "获取操作系统版本号 : [6.1.7601]\n",
      "获取操作系统的位数 : [('32bit', 'WindowsPE')]\n",
      "计算机类型 : [x86]\n",
      "计算机的网络名称 : [DE142]\n",
      "计算机处理器信息 : [x86 Family 6 Model 60 Stepping 3, GenuineIntel]\n",
      "获取操作系统类型 : [Windows]\n",
      "汇总信息 : [uname_result(system='Windows', node='DE142', release='7', version='6.1.7601', machine='x86', processor='x86 Family 6 Model 60 Stepping 3, GenuineIntel')]\n",
      "##################################################\n",
      "计算机中的python信息：\n",
      "The Python build number and date as strings : [('default', 'Apr 24 2019 13:20:13')]\n",
      "Returns a string identifying the compiler used for compiling Python : [MSC v.1915 32 bit (Intel)]\n",
      "Returns a string identifying the Python implementation SCM branch : []\n",
      "Returns a string identifying the Python implementation : [CPython]\n",
      "The version of Python ： [3.7.3]\n",
      "Python implementation SCM revision : []\n",
      "Python version as tuple : [('3', '7', '3')]\n"
     ]
    }
   ],
   "source": [
    "import platform \n",
    "\n",
    "'''\n",
    "    python中，platform模块给我们提供了很多方法去获取操作系统的信息\n",
    "    如：\n",
    "        import platform\n",
    "        platform.platform()        #获取操作系统名称及版本号，'Linux-3.13.0-46-generic-i686-with-Deepin-2014.2-trusty'  \n",
    "        platform.version()         #获取操作系统版本号，'#76-Ubuntu SMP Thu Feb 26 18:52:49 UTC 2015'\n",
    "        platform.architecture()    #获取操作系统的位数，('32bit', 'ELF')\n",
    "        platform.machine()         #计算机类型，'i686'\n",
    "        platform.node()            #计算机的网络名称，'XF654'\n",
    "        platform.processor()       #计算机处理器信息，''i686'\n",
    "        platform.uname()           #包含上面所有的信息汇总，('Linux', 'XF654', '3.13.0-46-generic', '#76-Ubuntu SMP Thu Feb 26 18:52:49 UTC 2015', 'i686', 'i686')\n",
    "\n",
    "        还可以获得计算机中python的一些信息：\n",
    "        import platform\n",
    "        platform.python_build()\n",
    "        platform.python_compiler()\n",
    "        platform.python_branch()\n",
    "        platform.python_implementation()\n",
    "        platform.python_revision()\n",
    "        platform.python_version()\n",
    "        platform.python_version_tuple()\n",
    "'''\n",
    "\n",
    "# global var\n",
    "#是否显示日志信息\n",
    "SHOW_LOG = True\n",
    "\n",
    "def get_platform():\n",
    "    '''获取操作系统名称及版本号'''\n",
    "    return platform.platform()\n",
    "\n",
    "def get_version():\n",
    "    '''获取操作系统版本号'''\n",
    "    return platform.version()\n",
    "\n",
    "def get_architecture():\n",
    "    '''获取操作系统的位数'''\n",
    "    return platform.architecture()\n",
    "\n",
    "def get_machine():\n",
    "    '''计算机类型'''\n",
    "    return platform.machine()\n",
    "\n",
    "def get_node():\n",
    "    '''计算机的网络名称'''\n",
    "    return platform.node()\n",
    "\n",
    "def get_processor():\n",
    "    '''计算机处理器信息'''\n",
    "    return platform.processor()\n",
    "\n",
    "def get_system():\n",
    "    '''获取操作系统类型'''\n",
    "    return platform.system()\n",
    "\n",
    "def get_uname():\n",
    "    '''汇总信息'''\n",
    "    return platform.uname()\n",
    "\n",
    "def get_python_build():\n",
    "    ''' the Python build number and date as strings'''\n",
    "    return platform.python_build()\n",
    "\n",
    "def get_python_compiler():\n",
    "    '''Returns a string identifying the compiler used for compiling Python'''\n",
    "    return platform.python_compiler()\n",
    "\n",
    "def get_python_branch():\n",
    "    '''Returns a string identifying the Python implementation SCM branch'''\n",
    "    return platform.python_branch()\n",
    "\n",
    "def get_python_implementation():\n",
    "    '''Returns a string identifying the Python implementation. Possible return values are: ‘CPython’, ‘IronPython’, ‘Jython’, ‘PyPy’.'''\n",
    "    return platform.python_implementation()\n",
    "\n",
    "def get_python_version():\n",
    "    '''Returns the Python version as string 'major.minor.patchlevel'\n",
    "    '''\n",
    "    return platform.python_version()\n",
    "\n",
    "def get_python_revision():\n",
    "    '''Returns a string identifying the Python implementation SCM revision.'''\n",
    "    return platform.python_revision()\n",
    "\n",
    "def get_python_version_tuple():\n",
    "    '''Returns the Python version as tuple (major, minor, patchlevel) of strings'''\n",
    "    return platform.python_version_tuple()\n",
    "\n",
    "def show_os_all_info():\n",
    "    '''打印os的全部信息'''\n",
    "    print('获取操作系统名称及版本号 : [{}]'.format(get_platform()))\n",
    "    print('获取操作系统版本号 : [{}]'.format(get_version()))\n",
    "    print('获取操作系统的位数 : [{}]'.format(get_architecture()))\n",
    "    print('计算机类型 : [{}]'.format(get_machine()))\n",
    "    print('计算机的网络名称 : [{}]'.format(get_node()))\n",
    "    print('计算机处理器信息 : [{}]'.format(get_processor()))\n",
    "    print('获取操作系统类型 : [{}]'.format(get_system()))\n",
    "    print('汇总信息 : [{}]'.format(get_uname()))\n",
    "\n",
    "def show_os_info():\n",
    "    '''只打印os的信息，没有解释部分'''\n",
    "    print(get_platform())\n",
    "    print(get_version())\n",
    "    print(get_architecture())\n",
    "    print(get_machine())\n",
    "    print(get_node())\n",
    "    print(get_processor())\n",
    "    print(get_system())\n",
    "    print(get_uname())\n",
    "\n",
    "def show_python_all_info():\n",
    "    '''打印python的全部信息'''\n",
    "    print('The Python build number and date as strings : [{}]'.format(get_python_build()))\n",
    "    print('Returns a string identifying the compiler used for compiling Python : [{}]'.format(get_python_compiler()))\n",
    "    print('Returns a string identifying the Python implementation SCM branch : [{}]'.format(get_python_branch()))\n",
    "    print('Returns a string identifying the Python implementation : [{}]'.format(get_python_implementation()))\n",
    "    print('The version of Python ： [{}]'.format(get_python_version()))\n",
    "    print('Python implementation SCM revision : [{}]'.format(get_python_revision()))\n",
    "    print('Python version as tuple : [{}]'.format(get_python_version_tuple()))\n",
    "\n",
    "def show_python_info():\n",
    "    '''只打印python的信息，没有解释部分'''\n",
    "    print(get_python_build())\n",
    "    print(get_python_compiler())\n",
    "    print(get_python_branch())\n",
    "    print(get_python_implementation())\n",
    "    print(get_python_version())\n",
    "    print(get_python_revision())\n",
    "    print(get_python_version_tuple())\n",
    "      \n",
    "def test():\n",
    "    print('操作系统信息:')\n",
    "    if SHOW_LOG:\n",
    "        show_os_all_info()\n",
    "    else:\n",
    "        show_os_info()\n",
    "    print('#' * 50)\n",
    "    print('计算机中的python信息：')\n",
    "    if SHOW_LOG:\n",
    "        show_python_all_info()\n",
    "    else:\n",
    "        show_python_info()\n",
    "\n",
    "def init():\n",
    "    global SHOW_LOG\n",
    "    SHOW_LOG = True  # 需不要解释性\n",
    "    \n",
    "def main():\n",
    "    init()\n",
    "    test()\n",
    "\n",
    "if __name__ == '__main__':\n",
    "    main()"
   ]
  },
  {
   "cell_type": "markdown",
   "metadata": {},
   "source": [
    "## os"
   ]
  },
  {
   "cell_type": "markdown",
   "metadata": {},
   "source": [
    "* os.remove(‘path/filename’) 删除文件\n",
    "* os.rename(oldname, newname) 重命名文件\n",
    "* os.walk() 生成目录树下的所有文件名\n",
    "* os.chdir('dirname') 改变目录\n",
    "* os.mkdir/makedirs('dirname')创建目录/多层目录\n",
    "* os.rmdir/removedirs('dirname') 删除目录/多层目录\n",
    "* os.listdir('dirname') 列出指定目录的文件\n",
    "* os.getcwd() 取得当前工作目录\n",
    "* os.chmod() 改变目录权限\n",
    "* os.path.basename(‘path/filename’) 去掉目录路径，返回文件名\n",
    "* os.path.dirname(‘path/filename’) 去掉文件名，返回目录路径\n",
    "* os.path.join(path1[,path2[,...]]) 将分离的各部分组合成一个路径名\n",
    "* os.path.split('path') 返回( dirname(), basename())元组\n",
    "* os.path.splitext() 返回 (filename, extension) 元组\n",
    "* os.path.getatime\\ctime\\mtime 分别返回最近访问、创建、修改时间\n",
    "* os.path.getsize() 返回文件大小\n",
    "* os.path.exists() 是否存在\n",
    "* os.path.isabs() 是否为绝对路径\n",
    "* os.path.isdir() 是否为目录\n",
    "* os.path.isfile() 是否为文件\n"
   ]
  },
  {
   "cell_type": "markdown",
   "metadata": {},
   "source": [
    "## sys"
   ]
  },
  {
   "cell_type": "markdown",
   "metadata": {},
   "source": [
    "* sys.argv 命令行参数List，第一个元素是程序本身路径\n",
    "* sys.modules.keys() 返回所有已经导入的模块列表\n",
    "* sys.exc_info() 获取当前正在处理的异常类,exc_type、exc_value、exc_traceback当前处理的异常详细信息\n",
    "* sys.exit(n) 退出程序，正常退出时exit(0)\n",
    "* sys.hexversion 获取Python解释程序的版本值，16进制格式如：0x020403F0\n",
    "* sys.version 获取Python解释程序的版本信息\n",
    "* sys.maxint 最大的Int值\n",
    "* sys.maxunicode 最大的Unicode值\n",
    "* sys.modules 返回系统导入的模块字段，key是模块名，value是模块\n",
    "* sys.path 返回模块的搜索路径，初始化时使用PYTHONPATH环境变量的值\n",
    "* sys.platform 返回操作系统平台名称\n",
    "* sys.stdout 标准输出\n",
    "* sys.stdin 标准输入\n",
    "* sys.stderr 错误输出\n",
    "* sys.exc_clear() 用来清除当前线程所出现的当前的或最近的错误信息\n",
    "* sys.exec_prefix 返回平台独立的python文件安装的位置\n",
    "* sys.byteorder 本地字节规则的指示器，big-endian平台的值是'big',little-endian平台的值是'little'\n",
    "* sys.copyright 记录python版权相关的东西\n",
    "* sys.api_version 解释器的C的API版本\n",
    "* sys.stdin,sys.stdout,sys.stderr"
   ]
  },
  {
   "cell_type": "markdown",
   "metadata": {},
   "source": [
    "stdin , stdout , 以及stderr 变量包含与标准I/O 流对应的流对象. 如果需要更好地控制输出,而print 不能满足要求, 它们就是所需要的. 你也可以替换它们, 这时候你就可以重定向输出和输入到其它设备( device ), 或者以非标准的方式处理它们"
   ]
  },
  {
   "cell_type": "code",
   "execution_count": 102,
   "metadata": {},
   "outputs": [
    {
     "name": "stdout",
     "output_type": "stream",
     "text": [
      "HelloWorld!\n",
      "Please enter yourname:\n",
      "Hi, !\n"
     ]
    }
   ],
   "source": [
    "import sys\n",
    "\n",
    "sys.stdout.write('HelloWorld!')\n",
    "\n",
    "print('\\nPlease enter yourname:')\n",
    "name = sys.stdin.readline()[:-1]\n",
    "print('Hi, %s!' % name)"
   ]
  },
  {
   "cell_type": "markdown",
   "metadata": {},
   "source": [
    "stdin, stdout, stderr在Python中无非都是文件属性的对象，他们在Python启动时自动与Shell 环境中的标准输入，输出，出错关联。  \n",
    "\n",
    "   而Python程序的在Shell中的I/O重定向与本文开始时举的DOS命令的重定向完全相同，其实这种重定向是由Shell来提供的，与Python 本身并无关系。那么我们可以在Python程序内部将stdin,stdout,stderr读写操作重定向到一个内部对象."
   ]
  },
  {
   "cell_type": "markdown",
   "metadata": {},
   "source": [
    "Python提供了一个StringIO模块来完成这个设想，Python3中已将StringIO归入io"
   ]
  },
  {
   "cell_type": "code",
   "execution_count": 103,
   "metadata": {},
   "outputs": [
    {
     "name": "stdout",
     "output_type": "stream",
     "text": [
      "获取： 42 hello 0.001\n",
      "\n"
     ]
    }
   ],
   "source": [
    "import sys, io\n",
    "buff = io.StringIO() \n",
    "\n",
    "temp = sys.stdout       # 保存标准I/O流\n",
    "sys.stdout = buff       # 将标准I/O流重定向到buff对象  StringIO流\n",
    "print(42, 'hello', 0.001)\n",
    "\n",
    "sys.stdout = temp       # 恢复标准I/O流\n",
    "print(\"获取：\", buff.getvalue())"
   ]
  },
  {
   "cell_type": "markdown",
   "metadata": {},
   "source": [
    "# 通用补漏"
   ]
  },
  {
   "cell_type": "markdown",
   "metadata": {},
   "source": [
    "## 闭包函数 - 保护私有变量、编写装饰器函数、"
   ]
  },
  {
   "cell_type": "markdown",
   "metadata": {},
   "source": [
    "让add（）函数持有一个私有变量--计数器，这样比让变量在全局中暴露来的更加安全。"
   ]
  },
  {
   "cell_type": "code",
   "execution_count": 104,
   "metadata": {},
   "outputs": [
    {
     "name": "stdout",
     "output_type": "stream",
     "text": [
      "1\n",
      "2\n",
      "3\n"
     ]
    }
   ],
   "source": [
    "def add():\n",
    "    counter = 0\n",
    "    def plus():\n",
    "        nonlocal counter \n",
    "        counter += 1\n",
    "        return counter\n",
    "    return plus   # 闭包函数返回的是一个 内嵌函数\n",
    "\n",
    "a = add()  # 将变量counter初始化为0，并将内嵌函数提取出来\n",
    "\n",
    "# 执行内嵌函数时，变量counter不会被add（）函数初始化成 0\n",
    "print(a())\n",
    "print(a())\n",
    "print(a())"
   ]
  },
  {
   "cell_type": "markdown",
   "metadata": {},
   "source": [
    "可以利用闭包技术，编写装饰器函数，例如计时器"
   ]
  },
  {
   "cell_type": "code",
   "execution_count": 105,
   "metadata": {},
   "outputs": [
    {
     "data": {
      "text/plain": [
       "5.007656574249268"
      ]
     },
     "execution_count": 105,
     "metadata": {},
     "output_type": "execute_result"
    }
   ],
   "source": [
    "import time\n",
    "\n",
    "def calcTime(func):\n",
    "    def calc():\n",
    "        start = time.time()\n",
    "        func()\n",
    "        end = time.time()\n",
    "        return end-start\n",
    "    return calc\n",
    "\n",
    "@calcTime\n",
    "def f():\n",
    "    time.sleep(5)\n",
    "\n",
    "runtime = f()  # f()函数本身并无返回值，是装饰器为他计算、并返回了运行时长\n",
    "runtime "
   ]
  },
  {
   "cell_type": "code",
   "execution_count": 106,
   "metadata": {},
   "outputs": [],
   "source": [
    "## "
   ]
  },
  {
   "cell_type": "markdown",
   "metadata": {},
   "source": [
    "# 数据结构和算法 \n",
    "\n",
    "[数据结构与算法之美](https://datastructure.xiaoxiaoming.xyz/#/README?id=%e3%80%8a%e6%95%b0%e6%8d%ae%e7%bb%93%e6%9e%84%e4%b8%8e%e7%ae%97%e6%b3%95%e4%b9%8b%e7%be%8e%e3%80%8b)"
   ]
  },
  {
   "cell_type": "markdown",
   "metadata": {},
   "source": [
    "# 通用主题实践\n",
    "- 《python cookbook》"
   ]
  },
  {
   "cell_type": "markdown",
   "metadata": {},
   "source": [
    "## 数据结构的巧用"
   ]
  },
  {
   "cell_type": "markdown",
   "metadata": {},
   "source": [
    "### 解压序列赋值给多个变量"
   ]
  },
  {
   "cell_type": "markdown",
   "metadata": {},
   "source": [
    "#### 问题 \n",
    "现在有一个包含N 个元素的元组或者是序列，怎样将它里面的值解压后同时赋值\n",
    "给N 个变量？"
   ]
  },
  {
   "cell_type": "markdown",
   "metadata": {},
   "source": [
    "#### 解决方案  \n",
    "任何的序列(或者是可迭代对象) 可以通过一个简单的赋值语句解压并赋值给多个\n",
    "变量。唯一的前提就是变量的数量必须跟序列元素的数量是一样的。"
   ]
  },
  {
   "cell_type": "code",
   "execution_count": 107,
   "metadata": {},
   "outputs": [],
   "source": [
    "p = (4, 5)\n",
    "data = [ 'ACME', 50, 91.1, (2012, 12, 21) ]\n",
    "x, y  = p\n",
    "name, shares, price, date = data\n",
    "a, b, c, d, e = 'hello'"
   ]
  },
  {
   "cell_type": "code",
   "execution_count": 108,
   "metadata": {},
   "outputs": [
    {
     "data": {
      "text/plain": [
       "5"
      ]
     },
     "execution_count": 108,
     "metadata": {},
     "output_type": "execute_result"
    }
   ],
   "source": [
    "y"
   ]
  },
  {
   "cell_type": "code",
   "execution_count": 109,
   "metadata": {},
   "outputs": [
    {
     "data": {
      "text/plain": [
       "(2012, 12, 21)"
      ]
     },
     "execution_count": 109,
     "metadata": {},
     "output_type": "execute_result"
    }
   ],
   "source": [
    "date"
   ]
  },
  {
   "cell_type": "code",
   "execution_count": 110,
   "metadata": {},
   "outputs": [
    {
     "data": {
      "text/plain": [
       "'l'"
      ]
     },
     "execution_count": 110,
     "metadata": {},
     "output_type": "execute_result"
    }
   ],
   "source": [
    "d"
   ]
  },
  {
   "cell_type": "markdown",
   "metadata": {},
   "source": [
    "#### 讨论  \n",
    "实际上，这种解压赋值可以用在任何可迭代对象上面，而不仅仅是列表或者元组。\n",
    "包括字符串，文件对象，迭代器和生成器。"
   ]
  },
  {
   "cell_type": "code",
   "execution_count": 111,
   "metadata": {},
   "outputs": [],
   "source": [
    "s = \"Hello\"\n",
    "a, b, c, d, e = s"
   ]
  },
  {
   "cell_type": "code",
   "execution_count": 112,
   "metadata": {},
   "outputs": [
    {
     "data": {
      "text/plain": [
       "'H'"
      ]
     },
     "execution_count": 112,
     "metadata": {},
     "output_type": "execute_result"
    }
   ],
   "source": [
    "a"
   ]
  },
  {
   "cell_type": "markdown",
   "metadata": {},
   "source": [
    "有时候，你可能只想解压一部分，丢弃其他的值。对于这种情况Python 并没有提\n",
    "供特殊的语法。但是你可以使用任意变量名去占位，到时候丢掉这些变量就行了"
   ]
  },
  {
   "cell_type": "code",
   "execution_count": 113,
   "metadata": {},
   "outputs": [],
   "source": [
    "data = [ 'ACME', 50, 91.1, (2012, 12, 21) ]\n",
    "_, shares, price, _ = data  # python里想丢掉的一般用 _ 来占位"
   ]
  },
  {
   "cell_type": "code",
   "execution_count": 114,
   "metadata": {},
   "outputs": [
    {
     "data": {
      "text/plain": [
       "50"
      ]
     },
     "execution_count": 114,
     "metadata": {},
     "output_type": "execute_result"
    }
   ],
   "source": [
    "shares"
   ]
  },
  {
   "cell_type": "code",
   "execution_count": 115,
   "metadata": {},
   "outputs": [
    {
     "data": {
      "text/plain": [
       "91.1"
      ]
     },
     "execution_count": 115,
     "metadata": {},
     "output_type": "execute_result"
    }
   ],
   "source": [
    "price"
   ]
  },
  {
   "cell_type": "markdown",
   "metadata": {},
   "source": [
    "### 解压可迭代对象赋值给多个变量"
   ]
  },
  {
   "cell_type": "markdown",
   "metadata": {},
   "source": [
    "#### 问题"
   ]
  },
  {
   "cell_type": "markdown",
   "metadata": {},
   "source": [
    "如果一个可迭代对象的元素个数超过变量个数时，会抛出一个ValueError 。那么\n",
    "怎样才能从这个可迭代对象中解压出N 个元素出来？"
   ]
  },
  {
   "cell_type": "markdown",
   "metadata": {},
   "source": [
    "#### 解决方案"
   ]
  },
  {
   "cell_type": "markdown",
   "metadata": {},
   "source": [
    "Python 的星号表达式可以用来解决这个问题。比如，你在学习一门课程，在学期\n",
    "末的时候，你想统计下家庭作业的平均成绩，但是排除掉第一个和最后一个分数。如\n",
    "果只有四个分数，你可能就直接去简单的手动赋值，但如果有24 个呢？这时候星号表\n",
    "达式就派上用场了："
   ]
  },
  {
   "cell_type": "code",
   "execution_count": 116,
   "metadata": {},
   "outputs": [],
   "source": [
    "def drop_first_last(grades):\n",
    "    first, *middle, last = grades\n",
    "    return avg(middle)"
   ]
  },
  {
   "cell_type": "markdown",
   "metadata": {},
   "source": [
    "另外一种情况，假设你现在有一些用户的记录列表，每条记录包含一个名字、邮\n",
    "件，接着就是不确定数量的电话号码。你可以像下面这样分解这些记录"
   ]
  },
  {
   "cell_type": "code",
   "execution_count": 117,
   "metadata": {},
   "outputs": [],
   "source": [
    "record = ('Dave', 'dave@example.com', '773-555-1212', '847-555-1212')\n",
    "name, email, *phone_numbers = record"
   ]
  },
  {
   "cell_type": "code",
   "execution_count": 118,
   "metadata": {},
   "outputs": [
    {
     "data": {
      "text/plain": [
       "'Dave'"
      ]
     },
     "execution_count": 118,
     "metadata": {},
     "output_type": "execute_result"
    }
   ],
   "source": [
    "name"
   ]
  },
  {
   "cell_type": "code",
   "execution_count": 119,
   "metadata": {},
   "outputs": [
    {
     "data": {
      "text/plain": [
       "['773-555-1212', '847-555-1212']"
      ]
     },
     "execution_count": 119,
     "metadata": {},
     "output_type": "execute_result"
    }
   ],
   "source": [
    "phone_numbers"
   ]
  },
  {
   "cell_type": "markdown",
   "metadata": {},
   "source": [
    "值得注意的是上面解压出的phone numbers 变量永远都是列表类型，不管解压的\n",
    "电话号码数量是多少(包括0 个)。所以，任何使用到phone numbers 变量的代码就不\n",
    "需要做多余的类型检查去确认它是否是列表类型了。"
   ]
  },
  {
   "cell_type": "markdown",
   "metadata": {},
   "source": [
    "星号表达式也能用在列表的开始部分。比如，你有一个公司前8 个月销售数据的序\n",
    "列，但是你想看下最近一个月数据和前面7 个月的平均值的对比。你可以这样做"
   ]
  },
  {
   "cell_type": "markdown",
   "metadata": {},
   "source": [
    "```Python\n",
    "*trailing_qtrs, current_qtr = sales_record\n",
    "trailing_avg = sum(trailing_qtrs) / len(trailing_qtrs)\n",
    "return avg_comparison(trailing_avg, current_qtr)\n",
    "```"
   ]
  },
  {
   "cell_type": "code",
   "execution_count": 120,
   "metadata": {},
   "outputs": [
    {
     "data": {
      "text/plain": [
       "[10, 8, 7, 1, 9, 5, 10]"
      ]
     },
     "execution_count": 120,
     "metadata": {},
     "output_type": "execute_result"
    }
   ],
   "source": [
    "*trailing, current = [10, 8, 7, 1, 9, 5, 10, 3]\n",
    "trailing"
   ]
  },
  {
   "cell_type": "markdown",
   "metadata": {},
   "source": [
    "#### 讨论"
   ]
  },
  {
   "cell_type": "markdown",
   "metadata": {},
   "source": [
    "扩展的迭代解压语法是专门为解压不确定个数或任意个数元素的可迭代对象而设计\n",
    "的。通常，这些可迭代对象的元素结构有确定的规则（比如第1 个元素后面都是电话\n",
    "号码），星号表达式让开发人员可以很容易的利用这些规则来解压出元素来。而不是通\n",
    "过一些比较复杂的手段去获取这些关联的的元素值。  \n",
    "\n",
    "值得注意的是，星号表达式在迭代元素为可变长元组的序列时是很有用的。比如，\n",
    "下面是一个带有标签的元组序列："
   ]
  },
  {
   "cell_type": "code",
   "execution_count": 121,
   "metadata": {},
   "outputs": [
    {
     "name": "stdout",
     "output_type": "stream",
     "text": [
      "foo 1 2\n",
      "bar hello\n",
      "foo 3 4\n"
     ]
    }
   ],
   "source": [
    "records = [\n",
    "    ('foo', 1, 2),\n",
    "    ('bar', 'hello'),\n",
    "    ('foo', 3, 4),\n",
    "]\n",
    "\n",
    "def do_foo(x, y):\n",
    "    print('foo', x, y)\n",
    "\n",
    "def do_bar(s):\n",
    "    print('bar', s)\n",
    "\n",
    "for tag, *args in records:\n",
    "    if tag == 'foo':\n",
    "        do_foo(*args)\n",
    "    elif tag == 'bar':\n",
    "        do_bar(*args)"
   ]
  },
  {
   "cell_type": "markdown",
   "metadata": {},
   "source": [
    "星号解压语法在字符串操作的时候也会很有用，比如字符串的分割。"
   ]
  },
  {
   "cell_type": "code",
   "execution_count": 122,
   "metadata": {},
   "outputs": [],
   "source": [
    "line = 'nobody:*:-2:-2:Unprivileged User:/var/empty:/usr/bin/false'\n",
    "uname, *fields, homedir, sh = line.split(':')"
   ]
  },
  {
   "cell_type": "code",
   "execution_count": 123,
   "metadata": {},
   "outputs": [
    {
     "data": {
      "text/plain": [
       "'nobody'"
      ]
     },
     "execution_count": 123,
     "metadata": {},
     "output_type": "execute_result"
    }
   ],
   "source": [
    "uname"
   ]
  },
  {
   "cell_type": "code",
   "execution_count": 124,
   "metadata": {},
   "outputs": [
    {
     "data": {
      "text/plain": [
       "'/var/empty'"
      ]
     },
     "execution_count": 124,
     "metadata": {},
     "output_type": "execute_result"
    }
   ],
   "source": [
    "homedir"
   ]
  },
  {
   "cell_type": "code",
   "execution_count": 125,
   "metadata": {},
   "outputs": [
    {
     "data": {
      "text/plain": [
       "'/usr/bin/false'"
      ]
     },
     "execution_count": 125,
     "metadata": {},
     "output_type": "execute_result"
    }
   ],
   "source": [
    "sh"
   ]
  },
  {
   "cell_type": "markdown",
   "metadata": {},
   "source": [
    "有时候，你想解压一些元素后丢弃它们，你不能简单就使用* ，但是你可以使用一\n",
    "个普通的废弃名称，比如或者ign 。"
   ]
  },
  {
   "cell_type": "code",
   "execution_count": 126,
   "metadata": {},
   "outputs": [],
   "source": [
    "record = ('ACME', 50, 123.45, (12, 18, 2012))\n",
    "name, *_, (*_, year) = record"
   ]
  },
  {
   "cell_type": "code",
   "execution_count": 127,
   "metadata": {},
   "outputs": [
    {
     "data": {
      "text/plain": [
       "'ACME'"
      ]
     },
     "execution_count": 127,
     "metadata": {},
     "output_type": "execute_result"
    }
   ],
   "source": [
    "name"
   ]
  },
  {
   "cell_type": "code",
   "execution_count": 128,
   "metadata": {},
   "outputs": [
    {
     "data": {
      "text/plain": [
       "2012"
      ]
     },
     "execution_count": 128,
     "metadata": {},
     "output_type": "execute_result"
    }
   ],
   "source": [
    "year"
   ]
  },
  {
   "cell_type": "markdown",
   "metadata": {},
   "source": [
    "在很多函数式语言中，星号解压语法跟列表处理有许多相似之处。比如，如果你有\n",
    "一个列表，你可以很容易的将它分割成前后两部分："
   ]
  },
  {
   "cell_type": "code",
   "execution_count": 129,
   "metadata": {},
   "outputs": [],
   "source": [
    "items = [1, 10, 7, 4, 5, 9]\n",
    "head, *tail = items"
   ]
  },
  {
   "cell_type": "code",
   "execution_count": 130,
   "metadata": {},
   "outputs": [
    {
     "data": {
      "text/plain": [
       "1"
      ]
     },
     "execution_count": 130,
     "metadata": {},
     "output_type": "execute_result"
    }
   ],
   "source": [
    "head"
   ]
  },
  {
   "cell_type": "code",
   "execution_count": 131,
   "metadata": {},
   "outputs": [
    {
     "data": {
      "text/plain": [
       "[10, 7, 4, 5, 9]"
      ]
     },
     "execution_count": 131,
     "metadata": {},
     "output_type": "execute_result"
    }
   ],
   "source": [
    "tail"
   ]
  },
  {
   "cell_type": "markdown",
   "metadata": {},
   "source": [
    "如果你够聪明的话，还能用这种分割语法去巧妙的实现递归算法"
   ]
  },
  {
   "cell_type": "code",
   "execution_count": 132,
   "metadata": {},
   "outputs": [
    {
     "data": {
      "text/plain": [
       "36"
      ]
     },
     "execution_count": 132,
     "metadata": {},
     "output_type": "execute_result"
    }
   ],
   "source": [
    "def sum(items):\n",
    "    head, *tail = items\n",
    "    return head + sum(tail) if tail else head\n",
    "\n",
    "sum(items)"
   ]
  },
  {
   "cell_type": "markdown",
   "metadata": {},
   "source": [
    "然后，由于语言层面的限制，递归并不是Python 擅长的。因此，最后那个递归演\n",
    "示仅仅是个好奇的探索罢了，对这个不要太认真了。"
   ]
  },
  {
   "cell_type": "markdown",
   "metadata": {},
   "source": [
    "### 保留最后N 个元素"
   ]
  },
  {
   "cell_type": "markdown",
   "metadata": {},
   "source": [
    "#### 问题   \n",
    "在迭代操作或者其他操作的时候，怎样只保留最后有限几个元素的历史记录？"
   ]
  },
  {
   "cell_type": "markdown",
   "metadata": {},
   "source": [
    "#### 解决方案"
   ]
  },
  {
   "cell_type": "markdown",
   "metadata": {},
   "source": [
    "保留有限历史记录正是collections.deque 大显身手的时候。比如，下面的代码\n",
    "在多行上面做简单的文本匹配，并只返回在前N 行中匹配成功的行"
   ]
  },
  {
   "cell_type": "code",
   "execution_count": 133,
   "metadata": {},
   "outputs": [
    {
     "name": "stdout",
     "output_type": "stream",
     "text": [
      "python  hello\n",
      "--------------------\n",
      "python  hello\n",
      "java hello\n",
      "C++ hello\n",
      "c hello\n",
      "python  hello\n",
      "--------------------\n",
      "c hello\n",
      "python  hello\n",
      "java hello\n",
      "C++ hello\n",
      "c hello\n",
      "python  hello\n",
      "--------------------\n",
      "c hello\n",
      "python  hello\n",
      "java hello\n",
      "C++ hello\n",
      "c hello\n",
      "python  hello\n",
      "--------------------\n",
      "c hello\n",
      "python  hello\n",
      "java hello\n",
      "C++ hello\n",
      "c hello\n",
      "python  hello\n",
      "--------------------\n"
     ]
    }
   ],
   "source": [
    "from collections import deque\n",
    "\n",
    "def search(lines, pattern, history=5):\n",
    "    previous_lines = deque(maxlen=history)\n",
    "    for li in lines:\n",
    "        if pattern in li:\n",
    "            yield li, previous_lines\n",
    "        previous_lines.append(li)\n",
    "        \n",
    "# Example use on a file\n",
    "if __name__ == '__main__':\n",
    "    with open(r'log.txt') as f:\n",
    "        for line, prevlines in search(f, 'python', 5):\n",
    "            for pline in prevlines:\n",
    "                print(pline, end='')\n",
    "            print(line, end='')\n",
    "            print('-' * 20)"
   ]
  },
  {
   "cell_type": "markdown",
   "metadata": {},
   "source": [
    "#### 讨论"
   ]
  },
  {
   "cell_type": "markdown",
   "metadata": {},
   "source": [
    "我们在写查询元素的代码时，通常会使用包含yield 表达式的生成器函数，也就是\n",
    "我们上面示例代码中的那样。这样可以将搜索过程代码和使用搜索结果代码解耦。"
   ]
  },
  {
   "cell_type": "markdown",
   "metadata": {},
   "source": [
    "使用deque(maxlen=N) 构造函数会新建一个固定大小的队列。当新的元素加入并\n",
    "且这个队列已满的时候，最老的元素会自动被移除掉。"
   ]
  },
  {
   "cell_type": "code",
   "execution_count": 134,
   "metadata": {},
   "outputs": [],
   "source": [
    "q = deque(maxlen=3)"
   ]
  },
  {
   "cell_type": "code",
   "execution_count": 135,
   "metadata": {},
   "outputs": [],
   "source": [
    "q.append(1)"
   ]
  },
  {
   "cell_type": "code",
   "execution_count": 136,
   "metadata": {},
   "outputs": [],
   "source": [
    "q.append(2)"
   ]
  },
  {
   "cell_type": "code",
   "execution_count": 137,
   "metadata": {},
   "outputs": [],
   "source": [
    "q.append(3)"
   ]
  },
  {
   "cell_type": "code",
   "execution_count": 138,
   "metadata": {},
   "outputs": [],
   "source": [
    "q.append(4)"
   ]
  },
  {
   "cell_type": "code",
   "execution_count": 139,
   "metadata": {},
   "outputs": [
    {
     "data": {
      "text/plain": [
       "deque([2, 3, 4])"
      ]
     },
     "execution_count": 139,
     "metadata": {},
     "output_type": "execute_result"
    }
   ],
   "source": [
    "q"
   ]
  },
  {
   "cell_type": "code",
   "execution_count": 140,
   "metadata": {},
   "outputs": [
    {
     "data": {
      "text/plain": [
       "deque([3, 4, 5])"
      ]
     },
     "execution_count": 140,
     "metadata": {},
     "output_type": "execute_result"
    }
   ],
   "source": [
    "q.append(5)\n",
    "q"
   ]
  },
  {
   "cell_type": "markdown",
   "metadata": {},
   "source": [
    "尽管你也可以手动在一个列表上实现这一的操作(比如增加、删除等等)。但是这里\n",
    "的队列方案会更加优雅并且运行得更快些。  \n",
    "更一般的， deque 类可以被用在任何你只需要一个简单队列数据结构的场合。如\n",
    "果你不设置最大队列大小，那么就会得到一个无限大小队列，你可以在队列的两端执\n",
    "行添加和弹出元素的操作。 "
   ]
  },
  {
   "cell_type": "code",
   "execution_count": 141,
   "metadata": {},
   "outputs": [],
   "source": [
    "q = deque()"
   ]
  },
  {
   "cell_type": "code",
   "execution_count": 142,
   "metadata": {},
   "outputs": [],
   "source": [
    "q.append(1)"
   ]
  },
  {
   "cell_type": "code",
   "execution_count": 143,
   "metadata": {},
   "outputs": [],
   "source": [
    "q.append(2)"
   ]
  },
  {
   "cell_type": "code",
   "execution_count": 144,
   "metadata": {},
   "outputs": [
    {
     "data": {
      "text/plain": [
       "deque([1, 2, 3])"
      ]
     },
     "execution_count": 144,
     "metadata": {},
     "output_type": "execute_result"
    }
   ],
   "source": [
    "q.append(3)\n",
    "q"
   ]
  },
  {
   "cell_type": "code",
   "execution_count": 145,
   "metadata": {},
   "outputs": [
    {
     "data": {
      "text/plain": [
       "deque([4, 1, 2, 3])"
      ]
     },
     "execution_count": 145,
     "metadata": {},
     "output_type": "execute_result"
    }
   ],
   "source": [
    "q.appendleft(4)\n",
    "q"
   ]
  },
  {
   "cell_type": "code",
   "execution_count": 146,
   "metadata": {},
   "outputs": [
    {
     "data": {
      "text/plain": [
       "3"
      ]
     },
     "execution_count": 146,
     "metadata": {},
     "output_type": "execute_result"
    }
   ],
   "source": [
    "q.pop()"
   ]
  },
  {
   "cell_type": "code",
   "execution_count": 147,
   "metadata": {},
   "outputs": [
    {
     "data": {
      "text/plain": [
       "deque([4, 1, 2])"
      ]
     },
     "execution_count": 147,
     "metadata": {},
     "output_type": "execute_result"
    }
   ],
   "source": [
    "q"
   ]
  },
  {
   "cell_type": "code",
   "execution_count": 148,
   "metadata": {},
   "outputs": [
    {
     "data": {
      "text/plain": [
       "4"
      ]
     },
     "execution_count": 148,
     "metadata": {},
     "output_type": "execute_result"
    }
   ],
   "source": [
    "q.popleft()"
   ]
  },
  {
   "cell_type": "code",
   "execution_count": 149,
   "metadata": {},
   "outputs": [
    {
     "data": {
      "text/plain": [
       "deque([1, 2])"
      ]
     },
     "execution_count": 149,
     "metadata": {},
     "output_type": "execute_result"
    }
   ],
   "source": [
    "q"
   ]
  },
  {
   "cell_type": "markdown",
   "metadata": {},
   "source": [
    "### 查找最大或最小的N 个元素 "
   ]
  },
  {
   "cell_type": "markdown",
   "metadata": {},
   "source": [
    "#### 问题"
   ]
  },
  {
   "cell_type": "markdown",
   "metadata": {},
   "source": [
    "怎样从一个集合中获得最大或者最小的N 个元素列表？"
   ]
  },
  {
   "cell_type": "markdown",
   "metadata": {},
   "source": [
    "#### 解决方案"
   ]
  },
  {
   "cell_type": "markdown",
   "metadata": {},
   "source": [
    "heapq 模块有两个函数：nlargest() 和nsmallest() 可以完美解决这个问题。"
   ]
  },
  {
   "cell_type": "code",
   "execution_count": 150,
   "metadata": {},
   "outputs": [
    {
     "name": "stdout",
     "output_type": "stream",
     "text": [
      "[42, 37, 23]\n"
     ]
    }
   ],
   "source": [
    "import heapq\n",
    "nums = [1, 8, 2, 23, 7, -4, 18, 23, 42, 37, 2]\n",
    "\n",
    "print(heapq.nlargest(3, nums))"
   ]
  },
  {
   "cell_type": "code",
   "execution_count": 151,
   "metadata": {},
   "outputs": [
    {
     "name": "stdout",
     "output_type": "stream",
     "text": [
      "[-4, 1, 2]\n"
     ]
    }
   ],
   "source": [
    "print(heapq.nsmallest(3, nums))"
   ]
  },
  {
   "cell_type": "markdown",
   "metadata": {},
   "source": [
    "两个函数都能接受一个关键字参数，用于更复杂的数据结构中："
   ]
  },
  {
   "cell_type": "code",
   "execution_count": 152,
   "metadata": {},
   "outputs": [],
   "source": [
    "portfolio = [\n",
    "    {'name': 'IBM', 'shares': 100, 'price': 91.1},\n",
    "    {'name': 'AAPL', 'shares': 50, 'price': 543.22},\n",
    "    {'name': 'FB', 'shares': 200, 'price': 21.09},\n",
    "    {'name': 'HPQ', 'shares': 35, 'price': 31.75},\n",
    "    {'name': 'YHOO', 'shares': 45, 'price': 16.35},\n",
    "    {'name': 'ACME', 'shares': 75, 'price': 115.65}\n",
    "]"
   ]
  },
  {
   "cell_type": "markdown",
   "metadata": {},
   "source": [
    "代码在对每个元素进行对比的时候，会以price 的值进行比较。"
   ]
  },
  {
   "cell_type": "code",
   "execution_count": 153,
   "metadata": {},
   "outputs": [
    {
     "data": {
      "text/plain": [
       "[{'name': 'YHOO', 'shares': 45, 'price': 16.35},\n",
       " {'name': 'FB', 'shares': 200, 'price': 21.09},\n",
       " {'name': 'HPQ', 'shares': 35, 'price': 31.75}]"
      ]
     },
     "execution_count": 153,
     "metadata": {},
     "output_type": "execute_result"
    }
   ],
   "source": [
    "cheap = heapq.nsmallest(3, portfolio, key=lambda s: s[\"price\"])\n",
    "cheap"
   ]
  },
  {
   "cell_type": "code",
   "execution_count": 154,
   "metadata": {},
   "outputs": [
    {
     "data": {
      "text/plain": [
       "[{'name': 'AAPL', 'shares': 50, 'price': 543.22},\n",
       " {'name': 'ACME', 'shares': 75, 'price': 115.65},\n",
       " {'name': 'IBM', 'shares': 100, 'price': 91.1}]"
      ]
     },
     "execution_count": 154,
     "metadata": {},
     "output_type": "execute_result"
    }
   ],
   "source": [
    "expensive = heapq.nlargest(3, portfolio, key=lambda s: s[\"price\"])\n",
    "expensive"
   ]
  },
  {
   "cell_type": "markdown",
   "metadata": {},
   "source": [
    "#### 讨论"
   ]
  },
  {
   "cell_type": "markdown",
   "metadata": {},
   "source": [
    "如果你想在一个集合中查找最小或最大的N 个元素，并且N 小于集合元素数量，\n",
    "那么这些函数提供了很好的性能。因为在底层实现里面，首先会先将集合数据进行堆\n",
    "排序后放入一个列表中："
   ]
  },
  {
   "cell_type": "code",
   "execution_count": 155,
   "metadata": {},
   "outputs": [
    {
     "data": {
      "text/plain": [
       "[-4, 2, 1, 23, 7, 2, 18, 23, 42, 37, 8]"
      ]
     },
     "execution_count": 155,
     "metadata": {},
     "output_type": "execute_result"
    }
   ],
   "source": [
    "nums = [1, 8, 2, 23, 7, -4, 18, 23, 42, 37, 2]\n",
    "import heapq\n",
    "heapq.heapify(nums)\n",
    "nums"
   ]
  },
  {
   "cell_type": "markdown",
   "metadata": {},
   "source": [
    "堆数据结构最重要的特征是heap[0] 永远是最小的元素。并且剩余的元素可以很\n",
    "容易的通过调用heapq.heappop() 方法得到，该方法会先将第一个元素弹出来，然后\n",
    "用下一个最小的元素来取代被弹出元素(这种操作时间复杂度仅仅是O(log N)，N 是\n",
    "堆大小)。比如，如果想要查找最小的3 个元素，你可以这样做"
   ]
  },
  {
   "cell_type": "code",
   "execution_count": 156,
   "metadata": {},
   "outputs": [
    {
     "data": {
      "text/plain": [
       "-4"
      ]
     },
     "execution_count": 156,
     "metadata": {},
     "output_type": "execute_result"
    }
   ],
   "source": [
    "heapq.heappop(nums)"
   ]
  },
  {
   "cell_type": "code",
   "execution_count": 157,
   "metadata": {},
   "outputs": [
    {
     "data": {
      "text/plain": [
       "1"
      ]
     },
     "execution_count": 157,
     "metadata": {},
     "output_type": "execute_result"
    }
   ],
   "source": [
    "heapq.heappop(nums)"
   ]
  },
  {
   "cell_type": "code",
   "execution_count": 158,
   "metadata": {},
   "outputs": [
    {
     "data": {
      "text/plain": [
       "2"
      ]
     },
     "execution_count": 158,
     "metadata": {},
     "output_type": "execute_result"
    }
   ],
   "source": [
    "heapq.heappop(nums)"
   ]
  },
  {
   "cell_type": "markdown",
   "metadata": {},
   "source": [
    "当要查找的元素个数相对比较小的时候，函数nlargest() 和nsmallest() 是很\n",
    "合适的。如果你仅仅想查找唯一的最小或最大(N=1) 的元素的话，那么使用min() 和\n",
    "max() 函数会更快些。类似的，如果N 的大小和集合大小接近的时候，通常先排序这\n",
    "个集合然后再使用切片操作会更快点( sorted(items)[:N] 或者是sorted(items)[-\n",
    "N:] )。需要在正确场合使用函数nlargest() 和nsmallest() 才能发挥它们的优势(如果\n",
    "N 快接近集合大小了，那么使用排序操作会更好些)。"
   ]
  },
  {
   "cell_type": "markdown",
   "metadata": {},
   "source": [
    "尽管你没有必要一定使用这里的方法，但是堆数据结构的实现是一个很有趣并且值\n",
    "得你深入学习的东西。基本上只要是数据结构和算法书籍里面都会有提及到。"
   ]
  },
  {
   "cell_type": "markdown",
   "metadata": {},
   "source": [
    "## 字符串和文本"
   ]
  },
  {
   "cell_type": "markdown",
   "metadata": {},
   "source": [
    "## 数字日期和时间"
   ]
  },
  {
   "cell_type": "markdown",
   "metadata": {},
   "source": [
    "## 迭代器和生成器"
   ]
  },
  {
   "cell_type": "markdown",
   "metadata": {},
   "source": [
    "## 文件与 IO"
   ]
  },
  {
   "cell_type": "markdown",
   "metadata": {},
   "source": [
    "## 数据编码和处理"
   ]
  },
  {
   "cell_type": "markdown",
   "metadata": {},
   "source": [
    "## 函数"
   ]
  },
  {
   "cell_type": "markdown",
   "metadata": {},
   "source": [
    "## 面向对象"
   ]
  },
  {
   "cell_type": "markdown",
   "metadata": {},
   "source": [
    "## 元编程"
   ]
  },
  {
   "cell_type": "markdown",
   "metadata": {},
   "source": [
    "## 并发程序设计"
   ]
  },
  {
   "cell_type": "markdown",
   "metadata": {},
   "source": [
    "## 脚本编程与系统管理"
   ]
  },
  {
   "cell_type": "markdown",
   "metadata": {},
   "source": [
    "## 测试、调试、异常"
   ]
  },
  {
   "cell_type": "markdown",
   "metadata": {},
   "source": [
    "# 数据库编程\n",
    "《python核心编程》"
   ]
  },
  {
   "cell_type": "markdown",
   "metadata": {},
   "source": [
    "# 多线程编程"
   ]
  },
  {
   "cell_type": "markdown",
   "metadata": {},
   "source": [
    "## threading模块"
   ]
  },
  {
   "cell_type": "markdown",
   "metadata": {},
   "source": [
    "### 创建一个Thread的实例。传给他一个函数"
   ]
  },
  {
   "cell_type": "code",
   "execution_count": 159,
   "metadata": {},
   "outputs": [
    {
     "name": "stdout",
     "output_type": "stream",
     "text": [
      "starting at:  Tue May 19 09:53:02 2020\n",
      "start loop: 0\n",
      "start loop: 1\n",
      "loop: 1 spend time 2.000816583633423\n",
      "loop: 0 spend time 4.009633779525757\n",
      "All done take time: 4.009633779525757\n",
      "all done at:  Tue May 19 09:53:06 2020\n"
     ]
    }
   ],
   "source": [
    "import threading\n",
    "from time import sleep, ctime, time\n",
    "\n",
    "loops = [4, 2]  # 停秒\n",
    "\n",
    "def loop(nloop, nsec):  # 功能函数\n",
    "    start = time()\n",
    "    print(\"start loop:\", nloop)\n",
    "    sleep(nsec)\n",
    "    end = time()\n",
    "    print(\"loop: %s spend time %s\" % (nloop, end-start))\n",
    "    \n",
    "def main():\n",
    "    print(\"starting at: \", ctime())\n",
    "    start = time()\n",
    "    threads = [] # 线程池\n",
    "    nloops = range(len(loops)) # 线程名\n",
    "    \n",
    "    for i in nloops: # 创建线程\n",
    "        t = threading.Thread(target=loop, args=(i, loops[i])) #新建线程\n",
    "        threads.append(t) # 向线程池添加\n",
    "    \n",
    "    for i in nloops:\n",
    "        threads[i].start() # 启动线程\n",
    "    \n",
    "    for i in nloops:    \n",
    "        threads[i].join() # 等待线程完成\n",
    "        \n",
    "    end = time()\n",
    "    print(\"All done take time:\", end-start)\n",
    "    print(\"all done at: \", ctime())\n",
    "\n",
    "if __name__==\"__main__\":\n",
    "    main()"
   ]
  },
  {
   "cell_type": "markdown",
   "metadata": {},
   "source": [
    "###  创建Thread实例，传给它一个可调用的类实例   \n",
    "（有点尴尬且难以阅读）"
   ]
  },
  {
   "cell_type": "code",
   "execution_count": 160,
   "metadata": {},
   "outputs": [
    {
     "name": "stdout",
     "output_type": "stream",
     "text": [
      "starting at:  Tue May 19 09:53:06 2020\n",
      "start loop: 0\n",
      "start loop: 1\n",
      "loop: 1 spend time 2.0116233825683594\n",
      "loop: 0 spend time 4.027242660522461\n",
      "All done take time: 4.027242660522461\n",
      "all done at:  Tue May 19 09:53:10 2020\n"
     ]
    }
   ],
   "source": [
    "import threading\n",
    "from time import sleep, ctime, time\n",
    "\n",
    "loops = [4, 2]\n",
    "\n",
    "class ThreadFunc(object):\n",
    "    def __init__(self, func, args, name=\"\"):\n",
    "        self.name = name \n",
    "        self.func = func \n",
    "        self.args = args\n",
    "    \n",
    "    def __call__(self):\n",
    "        self.func(*self.args)\n",
    "    \n",
    "def loop(nloop, nsec):\n",
    "    start = time()\n",
    "    print(\"start loop:\", nloop)\n",
    "    sleep(nsec)\n",
    "    end = time()\n",
    "    print(\"loop: %s spend time %s\" % (nloop, end-start))\n",
    "    \n",
    "def main():\n",
    "    print(\"starting at: \", ctime())\n",
    "    start = time()\n",
    "    threads = []\n",
    "    nloops = range(len(loops))\n",
    "    \n",
    "    for i in nloops:\n",
    "        t = threading.Thread(target=ThreadFunc(loop, (i, loops[i]), loop.__name__))\n",
    "        threads.append(t)\n",
    "    \n",
    "    for i in nloops:\n",
    "        threads[i].start()\n",
    "    \n",
    "    for i in nloops:\n",
    "        threads[i].join()\n",
    "    end = time()\n",
    "    print(\"All done take time:\", end-start)\n",
    "    print(\"all done at: \", ctime())\n",
    "\n",
    "if __name__==\"__main__\":\n",
    "    main()"
   ]
  },
  {
   "cell_type": "markdown",
   "metadata": {},
   "source": [
    "### 派生 Thread 的子类，并创建子类的实例。"
   ]
  },
  {
   "cell_type": "code",
   "execution_count": 161,
   "metadata": {},
   "outputs": [
    {
     "name": "stdout",
     "output_type": "stream",
     "text": [
      "starting at:  Tue May 19 09:53:10 2020\n",
      "start loop: 0\n",
      "start loop: 1\n",
      "loop: 1 spend time 2.0304219722747803\n",
      "loop: 0 spend time 4.000840187072754\n",
      "All done take time: 4.000840187072754\n",
      "all done at:  Tue May 19 09:53:14 2020\n"
     ]
    }
   ],
   "source": [
    "import threading\n",
    "from time import sleep, ctime, time\n",
    "\n",
    "loops = [4, 2]\n",
    "\n",
    "class MyThread(threading.Thread):\n",
    "    def __init__(self, func, args, name=\"\"):\n",
    "        threading.Thread.__init__(self) \n",
    "        self.name = name \n",
    "        self.func = func \n",
    "        self.args = args\n",
    "    \n",
    "    def run(self):\n",
    "        self.func(*self.args)\n",
    "    \n",
    "def loop(nloop, nsec):\n",
    "    start = time()\n",
    "    print(\"start loop:\", nloop)\n",
    "    sleep(nsec)\n",
    "    end = time()\n",
    "    print(\"loop: %s spend time %s\" % (nloop, end-start))\n",
    "    \n",
    "def main():\n",
    "    print(\"starting at: \", ctime())\n",
    "    start = time()\n",
    "    threads = []\n",
    "    nloops = range(len(loops))\n",
    "    \n",
    "    for i in nloops:\n",
    "        t = MyThread(loop, (i, loops[i]), loop.__name__)\n",
    "        threads.append(t)\n",
    "    \n",
    "    for i in nloops:\n",
    "        threads[i].start()\n",
    "    \n",
    "    for i in nloops:\n",
    "        threads[i].join()\n",
    "    \n",
    "    end = time()\n",
    "\n",
    "    print(\"All done take time:\", end-start)\n",
    "    print(\"all done at: \", ctime())\n",
    "\n",
    "if __name__==\"__main__\":\n",
    "    main()"
   ]
  },
  {
   "cell_type": "markdown",
   "metadata": {},
   "source": [
    "现在，对MyThread 类进行修改，增加一些调试信息的输出，除了简单地调用函数外，还将把结果保存在实例属性self.res 中，并创建一个新的方法getResult()来获取这个值。"
   ]
  },
  {
   "cell_type": "code",
   "execution_count": 162,
   "metadata": {},
   "outputs": [
    {
     "name": "stdout",
     "output_type": "stream",
     "text": [
      "starting at:  Tue May 19 09:53:14 2020\n",
      "starting Func:  loop\n",
      "start loop: 0\n",
      "starting Func:  loop\n",
      "start loop: 1\n",
      "loop: 1 done !\n",
      "loop Func finished and it take time:  2.0146148204803467\n",
      "loop: 0 done !\n",
      "loop Func finished and it take time:  4.020639181137085\n",
      "All done take time: 4.020639181137085\n",
      "all done at:  Tue May 19 09:53:18 2020\n"
     ]
    }
   ],
   "source": [
    "import threading\n",
    "from time import sleep, ctime, time\n",
    "\n",
    "loops = [4, 2]\n",
    "\n",
    "class MyThread(threading.Thread):\n",
    "    def __init__(self, func, args, name=\"\"):\n",
    "        threading.Thread.__init__(self) \n",
    "        self.name = name \n",
    "        self.func = func \n",
    "        self.args = args\n",
    "            \n",
    "    def getResult(self):\n",
    "        return self.res\n",
    "    \n",
    "    def run(self):\n",
    "        start = time()\n",
    "        print(\"starting Func: \", self.name)\n",
    "        self.res = self.func(*self.args)\n",
    "        end = time()\n",
    "        print(self.name, \"Func finished and it take time: \", end-start)\n",
    "    \n",
    "def loop(nloop, nsec):\n",
    "\n",
    "    print(\"start loop:\", nloop)\n",
    "    sleep(nsec)\n",
    "    print(\"loop: %s done !\" % (nloop))\n",
    "    \n",
    "def main():\n",
    "    print(\"starting at: \", ctime())\n",
    "    start = time()\n",
    "    threads = []\n",
    "    nloops = range(len(loops))\n",
    "    \n",
    "    for i in nloops:\n",
    "        t = MyThread(loop, (i, loops[i]), loop.__name__)\n",
    "        threads.append(t)\n",
    "    \n",
    "    for i in nloops:\n",
    "        threads[i].start()\n",
    "    \n",
    "    for i in nloops:\n",
    "        threads[i].join()\n",
    "    \n",
    "    end = time()\n",
    "\n",
    "    print(\"All done take time:\", end-start)\n",
    "    print(\"all done at: \", ctime())\n",
    "\n",
    "if __name__==\"__main__\":\n",
    "    main()"
   ]
  },
  {
   "cell_type": "code",
   "execution_count": 163,
   "metadata": {},
   "outputs": [
    {
     "data": {
      "text/plain": [
       "function"
      ]
     },
     "execution_count": 163,
     "metadata": {},
     "output_type": "execute_result"
    }
   ],
   "source": [
    "type(loop)"
   ]
  },
  {
   "cell_type": "markdown",
   "metadata": {},
   "source": [
    "## 单线程和多线程执行对比"
   ]
  },
  {
   "cell_type": "markdown",
   "metadata": {},
   "source": [
    "建立递归求斐波那契、阶乘与累加函数。按\n",
    "照单线程的方式运行这三个函数。之后使用多线程的方式执行同样的任务，用来说明多线程\n",
    "环境的优点。"
   ]
  },
  {
   "cell_type": "code",
   "execution_count": 164,
   "metadata": {},
   "outputs": [
    {
     "name": "stdout",
     "output_type": "stream",
     "text": [
      "> START SINGLE THREAD\n",
      "233\n",
      "fib take time : 5.675452709197998\n",
      "479001600\n",
      "fac take time : 1.2792155742645264\n",
      "78\n",
      "sum take time : 1.2634167671203613\n",
      "> SINGLE THREAD DONE!!\n",
      "\n",
      "> START　MULTIPLE THREADS\n",
      "starting:  fib\n",
      "starting:  fac\n",
      "starting:  sum\n",
      "fac finished and it take time:  1.3006129264831543\n",
      "sum finished and it take time:  1.3162128925323486\n",
      "fib finished and it take time:  5.657253742218018\n",
      "233\n",
      "479001600\n",
      "78\n",
      "> MULTIPLE THREADS DONE!!!\n",
      "\n",
      "*** SINGLE THREAD take time:  8.218085050582886\n",
      "*** MULTIPLE THREADS take time:  5.657253742218018\n"
     ]
    }
   ],
   "source": [
    "import threading\n",
    "from time import sleep, ctime, time\n",
    "\n",
    "loops = [4, 2]\n",
    "\n",
    "class MyThread(threading.Thread):\n",
    "    def __init__(self, func, args, name=\"\"):\n",
    "        threading.Thread.__init__(self) \n",
    "        self.name = name \n",
    "        self.func = func \n",
    "        self.args = args\n",
    "            \n",
    "    def getResult(self):\n",
    "        return self.res\n",
    "    \n",
    "    def run(self):\n",
    "        start = time()\n",
    "        print(\"starting: \", self.name)\n",
    "        self.res = self.func(*self.args)\n",
    "        end = time()\n",
    "        print(self.name, \"finished and it take time: \", end-start)\n",
    "\n",
    "def fib(x:int)->int:\n",
    "    sleep(0.005)\n",
    "    if x<2 : return 1\n",
    "    return (fib(x-2)+(fib(x-1)))\n",
    "\n",
    "def fac(x:int)->int:\n",
    "    sleep(0.1)\n",
    "    if x<2: return 1\n",
    "    return (x* fac(x-1))\n",
    "\n",
    "def sum(x:int)->int:\n",
    "    sleep(0.1)\n",
    "    if x<2 :return 1\n",
    "    return (x + sum(x-1))\n",
    "\n",
    "FUNCS = [fib, fac, sum]\n",
    "N = 12\n",
    "\n",
    "def main():\n",
    "    nfuncs = range(len(FUNCS)) #下标池\n",
    "\n",
    "    print(\"> START SINGLE THREAD\")\n",
    "    S_start = time()\n",
    "    for i in nfuncs:\n",
    "        start = time()\n",
    "        print(FUNCS[i](N))\n",
    "        end = time()\n",
    "        print(FUNCS[i].__name__, \"take time :\", end-start)\n",
    "    S_end = time()\n",
    "    print(\"> SINGLE THREAD DONE!!\\n\")\n",
    "    \n",
    "    \n",
    "    print(\"> START　MULTIPLE THREADS\")\n",
    "    M_start = time()\n",
    "    threads = [] # 线程池\n",
    "    for i in nfuncs:\n",
    "        t = MyThread(FUNCS[i], (N, ), FUNCS[i].__name__)\n",
    "        threads.append(t)\n",
    "    \n",
    "    for i in nfuncs: \n",
    "        threads[i].start()\n",
    "    \n",
    "    for i in nfuncs:\n",
    "        threads[i].join()\n",
    "        print(threads[i].getResult())   \n",
    "    M_end = time()\n",
    "    print(\"> MULTIPLE THREADS DONE!!!\\n\")\n",
    "    \n",
    "\n",
    "    print(\"*** SINGLE THREAD take time: \", S_end-S_start)\n",
    "    print(\"*** MULTIPLE THREADS take time: \", M_end-M_start)        \n",
    "\n",
    "if __name__==\"__main__\":\n",
    "    main()"
   ]
  },
  {
   "cell_type": "markdown",
   "metadata": {},
   "source": [
    "# 网络编程入门\n",
    "摘自 [github](https://github.com/jackfrued/Python-100-Days/blob/master/Day01-15/14.%E7%BD%91%E7%BB%9C%E7%BC%96%E7%A8%8B%E5%85%A5%E9%97%A8%E5%92%8C%E7%BD%91%E7%BB%9C%E5%BA%94%E7%94%A8%E5%BC%80%E5%8F%91.md)"
   ]
  },
  {
   "cell_type": "markdown",
   "metadata": {},
   "source": [
    "## 计算机网络基础\n",
    "\n",
    "计算机网络是独立自主的计算机互联而成的系统的总称，组建计算机网络最主要的目的是实现多台计算机之间的通信和资源共享。今天计算机网络中的设备和计算机网络的用户已经多得不可计数，而计算机网络也可以称得上是一个“复杂巨系统”，对于这样的系统，我们不可能用一两篇文章把它讲清楚，有兴趣的读者可以自行阅读Andrew S.Tanenbaum老师的经典之作《计算机网络》或Kurose和Ross老师合著的《计算机网络:自顶向下方法》来了解计算机网络的相关知识。\n",
    "\n",
    "### 计算机网络发展史\n",
    "\n",
    "1. 1960s - 美国国防部ARPANET项目问世，奠定了分组交换网络的基础。\n",
    "\n",
    "   ![](./res/arpanet.png)\n",
    "\n",
    "2. 1980s - 国际标准化组织（ISO）发布OSI/RM，奠定了网络技术标准化的基础。\n",
    "\n",
    "   ![](./res/osimodel.png)\n",
    "\n",
    "3. 1990s - 英国人[蒂姆·伯纳斯-李](https://zh.wikipedia.org/wiki/%E6%8F%90%E5%A7%86%C2%B7%E6%9F%8F%E5%85%A7%E8%8C%B2-%E6%9D%8E)发明了图形化的浏览器，浏览器的简单易用性使得计算机网络迅速被普及。\n",
    "\n",
    "   在没有浏览器的年代，上网是这样的。\n",
    "\n",
    "   ![](./res/before-browser.jpg)\n",
    "\n",
    "   有了浏览器以后，上网是这样的。\n",
    "\n",
    "   ![](./res/after-browser.jpg)\n",
    "\n",
    "### TCP/IP模型\n",
    "\n",
    "实现网络通信的基础是网络通信协议，这些协议通常是由[互联网工程任务组](https://zh.wikipedia.org/wiki/%E4%BA%92%E8%81%94%E7%BD%91%E5%B7%A5%E7%A8%8B%E4%BB%BB%E5%8A%A1%E7%BB%84) （IETF）制定的。所谓“协议”就是通信计算机双方必须共同遵从的一组约定，例如怎样建立连接、怎样互相识别等，网络协议的三要素是：语法、语义和时序。构成我们今天使用的Internet的基础的是TCP/IP协议族，所谓协议族就是一系列的协议及其构成的通信模型，我们通常也把这套东西称为TCP/IP模型。与国际标准化组织发布的OSI/RM这个七层模型不同，TCP/IP是一个四层模型，也就是说，该模型将我们使用的网络从逻辑上分解为四个层次，自底向上依次是：网络接口层、网络层、传输层和应用层，如下图所示。\n",
    "\n",
    "![](./res/TCP-IP-model.png)\n",
    "\n",
    "IP通常被翻译为网际协议，它服务于网络层，主要实现了寻址和路由的功能。接入网络的每一台主机都需要有自己的IP地址，IP地址就是主机在计算机网络上的身份标识。当然由于IPv4地址的匮乏，我们平常在家里、办公室以及其他可以接入网络的公共区域上网时获得的IP地址并不是全球唯一的IP地址，而是一个[局域网（LAN）](https://zh.wikipedia.org/zh-hans/%E5%B1%80%E5%9F%9F%E7%BD%91)中的内部IP地址，通过[网络地址转换（NAT）服务](https://zh.wikipedia.org/wiki/%E7%BD%91%E7%BB%9C%E5%9C%B0%E5%9D%80%E8%BD%AC%E6%8D%A2)我们也可以实现对网络的访问。计算机网络上有大量的被我们称为“[路由器](https://zh.wikipedia.org/wiki/%E8%B7%AF%E7%94%B1%E5%99%A8)”的网络中继设备，它们会存储转发我们发送到网络上的数据分组，让从源头发出的数据最终能够找到传送到目的地通路，这项功能就是所谓的路由。\n",
    "\n",
    "TCP全称传输控制协议，它是基于IP提供的寻址和路由服务而建立起来的负责实现端到端可靠传输的协议，之所以将TCP称为可靠的传输协议是因为TCP向调用者承诺了三件事情：\n",
    "\n",
    "1. 数据不传丢不传错（利用握手、校验和重传机制可以实现）。\n",
    "2. 流量控制（通过滑动窗口匹配数据发送者和接收者之间的传输速度）。\n",
    "3. 拥塞控制（通过RTT时间以及对滑动窗口的控制缓解网络拥堵）。\n",
    "\n",
    "### 网络应用模式\n",
    "\n",
    "1. C/S模式和B/S模式。这里的C指的是Client（客户端），通常是一个需要安装到某个宿主操作系统上的应用程序；而B指的是Browser（浏览器），它几乎是所有图形化操作系统都默认安装了的一个应用软件；通过C或B都可以实现对S（服务器）的访问。关于二者的比较和讨论在网络上有一大堆的文章，在此我们就不再浪费笔墨了。\n",
    "2. 去中心化的网络应用模式。不管是B/S还是C/S都需要服务器的存在，服务器就是整个应用模式的中心，而去中心化的网络应用通常没有固定的服务器或者固定的客户端，所有应用的使用者既可以作为资源的提供者也可以作为资源的访问者。\n",
    "\n",
    "## 基于HTTP协议的网络资源访问\n",
    "\n",
    "### HTTP（超文本传输协议）\n",
    "\n",
    "HTTP是超文本传输协议（Hyper-Text Transfer Proctol）的简称，维基百科上对HTTP的解释是：超文本传输协议是一种用于分布式、协作式和超媒体信息系统的应用层协议，它是[万维网](https://zh.wikipedia.org/wiki/%E5%85%A8%E7%90%83%E8%B3%87%E8%A8%8A%E7%B6%B2)数据通信的基础，设计HTTP最初的目的是为了提供一种发布和接收[HTML](https://zh.wikipedia.org/wiki/HTML)页面的方法，通过HTTP或者[HTTPS](https://zh.wikipedia.org/wiki/%E8%B6%85%E6%96%87%E6%9C%AC%E4%BC%A0%E8%BE%93%E5%AE%89%E5%85%A8%E5%8D%8F%E8%AE%AE)（超文本传输安全协议）请求的资源由URI（[统一资源标识符](https://zh.wikipedia.org/wiki/%E7%B5%B1%E4%B8%80%E8%B3%87%E6%BA%90%E6%A8%99%E8%AD%98%E7%AC%A6)）来标识。关于HTTP的更多内容，我们推荐阅读阮一峰老师的[《HTTP 协议入门》](http://www.ruanyifeng.com/blog/2016/08/http.html)，简单的说，通过HTTP我们可以获取网络上的（基于字符的）资源，开发中经常会用到的网络API（有的地方也称之为网络数据接口）就是基于HTTP来实现数据传输的。\n",
    "\n",
    "### JSON格式\n",
    "\n",
    "**JSON**（**J**ava**S**cript **O**bject **N**otation）是一种轻量级的数据交换语言，该语言以易于让人阅读的文字（纯文本）为基础，用来传输由属性值或者序列性的值组成的数据对象。尽管JSON是最初只是Javascript中一种创建对象的字面量语法，但它在当下更是一种独立于语言的数据格式，很多编程语言都支持JSON格式数据的生成和解析，Python内置的json模块也提供了这方面的功能。由于JSON是纯文本，它和[XML](https://zh.wikipedia.org/wiki/XML)一样都适用于异构系统之间的数据交换，而相较于XML，JSON显得更加的轻便和优雅。下面是表达同样信息的XML和JSON，而JSON的优势是相当直观的。\n",
    "\n",
    "XML的例子：\n",
    "\n",
    "```XML\n",
    "<?xml version=\"1.0\" encoding=\"UTF-8\"?>\n",
    "<message>\n",
    "\t<from>Alice</from>\n",
    "\t<to>Bob</to>\n",
    "\t<content>Will you marry me?</content>\n",
    "</message>\n",
    "```\n",
    "\n",
    "JSON的例子：\n",
    "\n",
    "```JSON\n",
    "{\n",
    "    \"from\": \"Alice\",\n",
    "    \"to\": \"Bob\",\n",
    "    \"content\": \"Will you marry me?\"\n",
    "}\n",
    "```\n",
    "\n",
    "### requests库\n",
    "\n",
    "requests是一个基于HTTP协议来使用网络的第三库，其[官方网站](http://cn.python-requests.org/zh_CN/latest/)有这样的一句介绍它的话：“Requests是唯一的一个**非转基因**的Python HTTP库，人类可以安全享用。”简单的说，使用requests库可以非常方便的使用HTTP，避免安全缺陷、冗余代码以及“重复发明轮子”（行业黑话，通常用在软件工程领域表示重新创造一个已有的或是早已被优化過的基本方法）。前面的文章中我们已经使用过这个库，下面我们还是通过requests来实现一个访问网络数据接口并从中获取美女图片下载链接然后下载美女图片到本地的例子程序，程序中使用了[天行数据](https://www.tianapi.com/)提供的网络API。\n",
    "\n",
    "我们可以先通过pip安装requests及其依赖库。\n",
    "\n",
    "```Shell\n",
    "pip install requests\n",
    "```\n",
    "\n",
    "如果使用PyCharm作为开发工具，可以直接在代码中书写`import requests`，然后通过代码修复功能来自动下载安装requests。\n",
    "\n",
    "```Python\n",
    "from time import time\n",
    "from threading import Thread\n",
    "\n",
    "import requests\n",
    "\n",
    "\n",
    "# 继承Thread类创建自定义的线程类\n",
    "class DownloadHanlder(Thread):\n",
    "\n",
    "    def __init__(self, url):\n",
    "        super().__init__()\n",
    "        self.url = url\n",
    "\n",
    "    def run(self):\n",
    "        filename = self.url[self.url.rfind('/') + 1:]\n",
    "        resp = requests.get(self.url)\n",
    "        with open('/Users/Hao/' + filename, 'wb') as f:\n",
    "            f.write(resp.content)\n",
    "\n",
    "\n",
    "def main():\n",
    "    # 通过requests模块的get函数获取网络资源\n",
    "    # 下面的代码中使用了天行数据接口提供的网络API\n",
    "    # 要使用该数据接口需要在天行数据的网站上注册\n",
    "    # 然后用自己的Key替换掉下面代码的中APIKey即可\n",
    "    resp = requests.get(\n",
    "        'http://api.tianapi.com/meinv/?key=APIKey&num=10')\n",
    "    # 将服务器返回的JSON格式的数据解析为字典\n",
    "    data_model = resp.json()\n",
    "    for mm_dict in data_model['newslist']:\n",
    "        url = mm_dict['picUrl']\n",
    "        # 通过多线程的方式实现图片下载\n",
    "        DownloadHanlder(url).start()\n",
    "\n",
    "\n",
    "if __name__ == '__main__':\n",
    "    main()\n",
    "```\n",
    "\n",
    "## 基于传输层协议的套接字编程\n",
    "\n",
    "套接字这个词对很多不了解网络编程的人来说显得非常晦涩和陌生，其实说得通俗点，套接字就是一套用[C语言](https://zh.wikipedia.org/wiki/C%E8%AF%AD%E8%A8%80)写成的应用程序开发库，主要用于实现进程间通信和网络编程，在网络应用开发中被广泛使用。在Python中也可以基于套接字来使用传输层提供的传输服务，并基于此开发自己的网络应用。实际开发中使用的套接字可以分为三类：流套接字（TCP套接字）、数据报套接字和原始套接字。\n",
    "\n",
    "### 套接字  - 摘自《python核心编程》\n",
    "套接字是计算机网络数据结构，它体现了上节中所描述的“通信端点”的概念。在任何\n",
    "类型的通信开始之前，网络应用程序必须创建套接字。可以将它们比作电话插孔，没有它将\n",
    "无法进行通信。  \n",
    "\n",
    "套接字的起源可以追溯到20 世纪70 年代，它是加利福尼亚大学的伯克利版本UNIX（称\n",
    "为BSD UNIX）的一部分。因此，有时你可能会听过将套接字称为伯克利套接字或BSD 套接\n",
    "字。套接字最初是为同一主机上的应用程序所创建，使得主机上运行的一个程序（又名一个\n",
    "进程）与另一个运行的程序进行通信。这就是所谓的进程间通信（Inter Process Communication，\n",
    "IPC）。有两种类型的套接字：基于文件的和面向网络的。  \n",
    "\n",
    "UNIX 套接字是我们所讲的套接字的第一个家族，并且拥有一个“家族名字”AF_UNIX\n",
    "（又名AF_LOCAL，在POSIX1.g 标准中指定），它代表地址家族（address family）：UNIX。\n",
    "包括Python 在内的大多数受欢迎的平台都使用术语地址家族及其缩写AF；其他比较旧的系\n",
    "统可能会将地址家族表示成域（domain）或协议家族（protocol family），并使用其缩写PF 而\n",
    "非AF。类似地，AF_LOCAL（在2000～2001 年标准化）将代替AF_UNIX。然而，考虑到\n",
    "后向兼容性，很多系统都同时使用二者，只是对同一个常数使用不同的别名。Python 本身仍\n",
    "然在使用AF_UNIX。  \n",
    "\n",
    "因为两个进程运行在同一台计算机上，所以这些套接字都是基于文件的，这意味着文件\n",
    "系统支持它们的底层基础结构。这是能够说得通的，因为文件系统是一个运行在同一主机上\n",
    "的多个进程之间的共享常量。  \n",
    "\n",
    "第二种类型的套接字是基于网络的，它也有自己的家族名字AF_INET，或者地址家族：\n",
    "因特网。另一个地址家族AF_INET6 用于第6 版因特网协议（IPv6）寻址。此外，还有其他\n",
    "的地址家族，这些要么是专业的、过时的、很少使用的，要么是仍未实现的。在所有的地址\n",
    "家族之中，目前AF_INET 是使用得最广泛的。  \n",
    "\n",
    "Python 2.5 中引入了对特殊类型的Linux 套接字的支持。套接字的AF_NETLINK 家族（无\n",
    "连接[见2.3.3 节]）允许使用标准的BSD 套接字接口进行用户级别和内核级别代码之间的IPC。\n",
    "之前那种解决方案比较麻烦，而这个解决方案可以看作一种比前一种更加优雅且风险更低的\n",
    "解决方案，例如，添加新系统调用、/proc 支持，或者对一个操作系统的“IOCTL”。  \n",
    "\n",
    "针对 Linux 的另一种特性（Python 2.6 中新增）就是支持透明的进程间通信（TIPC）协\n",
    "议。TIPC 允许计算机集群之中的机器相互通信，而无须使用基于IP 的寻址方式。Python 对\n",
    "TIPC 的支持以AF_TIPC 家族的方式呈现。  \n",
    "\n",
    "总的来说，Python 只支持AF_UNIX、AF_NETLINK、AF_TIPC 和AF_INET 家族。\n",
    "\n",
    "### TCP套接字\n",
    "\n",
    "所谓TCP套接字就是使用TCP协议提供的传输服务来实现网络通信的编程接口。在Python中可以通过创建socket对象并指定type属性为SOCK_STREAM来使用TCP套接字。由于一台主机可能拥有多个IP地址，而且很有可能会配置多个不同的服务，所以作为服务器端的程序，需要在创建套接字对象后将其绑定到指定的IP地址和端口上。这里的端口并不是物理设备而是对IP地址的扩展，用于区分不同的服务，例如我们通常将HTTP服务跟80端口绑定，而MySQL数据库服务默认绑定在3306端口，这样当服务器收到用户请求时就可以根据端口号来确定到底用户请求的是HTTP服务器还是数据库服务器提供的服务。端口的取值范围是0~65535，而1024以下的端口我们通常称之为“著名端口”（留给像FTP、HTTP、SMTP等“著名服务”使用的端口，有的地方也称之为“周知端口”），自定义的服务通常不使用这些端口，除非自定义的是HTTP或FTP这样的著名服务。\n",
    "\n",
    "下面的代码实现了一个提供时间日期的服务器。\n",
    "\n",
    "```Python\n",
    "from socket import socket, SOCK_STREAM, AF_INET\n",
    "from datetime import datetime\n",
    "\n",
    "\n",
    "def main():\n",
    "    # 1.创建套接字对象并指定使用哪种传输服务\n",
    "    # family=AF_INET - IPv4地址\n",
    "    # family=AF_INET6 - IPv6地址\n",
    "    # type=SOCK_STREAM - TCP套接字\n",
    "    # type=SOCK_DGRAM - UDP套接字\n",
    "    # type=SOCK_RAW - 原始套接字\n",
    "    server = socket(family=AF_INET, type=SOCK_STREAM)\n",
    "    # 2.绑定IP地址和端口(端口用于区分不同的服务)\n",
    "    # 同一时间在同一个端口上只能绑定一个服务否则报错\n",
    "    server.bind(('127.0.0.1', 6789))\n",
    "    # 3.开启监听 - 监听客户端连接到服务器\n",
    "    # 参数512可以理解为连接队列的大小\n",
    "    server.listen(512)\n",
    "    print('服务器启动开始监听...')\n",
    "    while True:\n",
    "        # 4.通过循环接收客户端的连接并作出相应的处理(提供服务)\n",
    "        # accept方法是一个阻塞方法如果没有客户端连接到服务器代码不会向下执行\n",
    "        # accept方法返回一个元组其中的第一个元素是客户端对象\n",
    "        # 第二个元素是连接到服务器的客户端的地址(由IP和端口两部分构成)\n",
    "        client, addr = server.accept()\n",
    "        print(str(addr) + '连接到了服务器.')\n",
    "        # 5.发送数据\n",
    "        client.send(str(datetime.now()).encode('utf-8'))\n",
    "        # 6.断开连接\n",
    "        client.close()\n",
    "\n",
    "\n",
    "if __name__ == '__main__':\n",
    "    main()\n",
    "```\n",
    "\n",
    "运行服务器程序后我们可以通过Windows系统的telnet来访问该服务器，结果如下图所示。\n",
    "\n",
    "```Shell\n",
    "telnet 127.0.0.1  6789\n",
    "```\n",
    "\n",
    "![](./res/telnet.png)\n",
    "\n",
    "当然我们也可以通过Python的程序来实现TCP客户端的功能，相较于实现服务器程序，实现客户端程序就简单多了，代码如下所示。\n",
    "\n",
    "```Python\n",
    "from socket import socket\n",
    "\n",
    "\n",
    "def main():\n",
    "    # 1.创建套接字对象默认使用IPv4和TCP协议\n",
    "    client = socket()\n",
    "    # 2.连接到服务器(需要指定IP地址和端口)\n",
    "    client.connect(('127.0.0.1', 6789))\n",
    "    # 3.从服务器接收数据\n",
    "    print(client.recv(1024).decode('utf-8'))\n",
    "    client.close()\n",
    "\n",
    "\n",
    "if __name__ == '__main__':\n",
    "    main()\n",
    "```\n",
    "\n",
    "需要注意的是，上面的服务器并没有使用多线程或者异步I/O的处理方式，这也就意味着当服务器与一个客户端处于通信状态时，其他的客户端只能排队等待。很显然，这样的服务器并不能满足我们的需求，我们需要的服务器是能够同时接纳和处理多个用户请求的。下面我们来设计一个使用多线程技术处理多个用户请求的服务器，该服务器会向连接到服务器的客户端发送一张图片。\n",
    "\n",
    "服务器端代码：\n",
    "\n",
    "```Python\n",
    "from socket import socket, SOCK_STREAM, AF_INET\n",
    "from base64 import b64encode\n",
    "from json import dumps\n",
    "from threading import Thread\n",
    "\n",
    "\n",
    "def main():\n",
    "    \n",
    "    # 自定义线程类\n",
    "    class FileTransferHandler(Thread):\n",
    "\n",
    "        def __init__(self, cclient):\n",
    "            super().__init__()\n",
    "            self.cclient = cclient\n",
    "\n",
    "        def run(self):\n",
    "            my_dict = {}\n",
    "            my_dict['filename'] = 'guido.jpg'\n",
    "            # JSON是纯文本不能携带二进制数据\n",
    "            # 所以图片的二进制数据要处理成base64编码\n",
    "            my_dict['filedata'] = data\n",
    "            # 通过dumps函数将字典处理成JSON字符串\n",
    "            json_str = dumps(my_dict)\n",
    "            # 发送JSON字符串\n",
    "            self.cclient.send(json_str.encode('utf-8'))\n",
    "            self.cclient.close()\n",
    "\n",
    "    # 1.创建套接字对象并指定使用哪种传输服务\n",
    "    server = socket()\n",
    "    # 2.绑定IP地址和端口(区分不同的服务)\n",
    "    server.bind(('127.0.0.1', 5566))\n",
    "    # 3.开启监听 - 监听客户端连接到服务器\n",
    "    server.listen(512)\n",
    "    print('服务器启动开始监听...')\n",
    "    with open('guido.jpg', 'rb') as f:\n",
    "        # 将二进制数据处理成base64再解码成字符串\n",
    "        data = b64encode(f.read()).decode('utf-8')\n",
    "    while True:\n",
    "        client, addr = server.accept()\n",
    "        # 启动一个线程来处理客户端的请求\n",
    "        FileTransferHandler(client).start()\n",
    "\n",
    "\n",
    "if __name__ == '__main__':\n",
    "    main()\n",
    "```\n",
    "\n",
    "客户端代码：\n",
    "\n",
    "```Python\n",
    "from socket import socket\n",
    "from json import loads\n",
    "from base64 import b64decode\n",
    "\n",
    "\n",
    "def main():\n",
    "    client = socket()\n",
    "    client.connect(('127.0.0.1', 5566))\n",
    "    # 定义一个保存二进制数据的对象\n",
    "    in_data = bytes()\n",
    "    # 由于不知道服务器发送的数据有多大每次接收1024字节\n",
    "    data = client.recv(1024)\n",
    "    while data:\n",
    "        # 将收到的数据拼接起来\n",
    "        in_data += data\n",
    "        data = client.recv(1024)\n",
    "    # 将收到的二进制数据解码成JSON字符串并转换成字典\n",
    "    # loads函数的作用就是将JSON字符串转成字典对象\n",
    "    my_dict = loads(in_data.decode('utf-8'))\n",
    "    filename = my_dict['filename']\n",
    "    filedata = my_dict['filedata'].encode('utf-8')\n",
    "    with open('/Users/Hao/' + filename, 'wb') as f:\n",
    "        # 将base64格式的数据解码成二进制数据并写入文件\n",
    "        f.write(b64decode(filedata))\n",
    "    print('图片已保存.')\n",
    "\n",
    "\n",
    "if __name__ == '__main__':\n",
    "    main()\n",
    "```\n",
    "\n",
    "在这个案例中，我们使用了JSON作为数据传输的格式（通过JSON格式对传输的数据进行了序列化和反序列化的操作），但是JSON并不能携带二进制数据，因此对图片的二进制数据进行了Base64编码的处理。Base64是一种用64个字符表示所有二进制数据的编码方式，通过将二进制数据每6位一组的方式重新组织，刚好可以使用0~9的数字、大小写字母以及“+”和“/”总共64个字符表示从`000000`到`111111`的64种状态。[维基百科](https://zh.wikipedia.org/wiki/Base64)上有关于Base64编码的详细讲解，不熟悉Base64的读者可以自行阅读。\n",
    "\n",
    "> **说明：** 上面的代码主要为了讲解网络编程的相关内容因此并没有对异常状况进行处理，请读者自行添加异常处理代码来增强程序的健壮性。\n",
    "\n",
    "### UDP套接字\n",
    "\n",
    "传输层除了有可靠的传输协议TCP之外，还有一种非常轻便的传输协议叫做用户数据报协议，简称UDP。TCP和UDP都是提供端到端传输服务的协议，二者的差别就如同打电话和发短信的区别，后者不对传输的可靠性和可达性做出任何承诺从而避免了TCP中握手和重传的开销，所以在强调性能和而不是数据完整性的场景中（例如传输网络音视频数据），UDP可能是更好的选择。可能大家会注意到一个现象，就是在观看网络视频时，有时会出现卡顿，有时会出现花屏，这无非就是部分数据传丢或传错造成的。在Python中也可以使用UDP套接字来创建网络应用，对此我们不进行赘述，有兴趣的读者可以自行研究。\n",
    "\n",
    "## 网络应用开发\n",
    "\n",
    "### 发送电子邮件\n",
    "\n",
    "在即时通信软件如此发达的今天，电子邮件仍然是互联网上使用最为广泛的应用之一，公司向应聘者发出录用通知、网站向用户发送一个激活账号的链接、银行向客户推广它们的理财产品等几乎都是通过电子邮件来完成的，而这些任务应该都是由程序自动完成的。\n",
    "\n",
    "就像我们可以用HTTP（超文本传输协议）来访问一个网站一样，发送邮件要使用SMTP（简单邮件传输协议），SMTP也是一个建立在TCP（传输控制协议）提供的可靠数据传输服务的基础上的应用级协议，它规定了邮件的发送者如何跟发送邮件的服务器进行通信的细节，而Python中的smtplib模块将这些操作简化成了几个简单的函数。\n",
    "\n",
    "下面的代码演示了如何在Python发送邮件。\n",
    "\n",
    "```Python\n",
    "from smtplib import SMTP\n",
    "from email.header import Header\n",
    "from email.mime.text import MIMEText\n",
    "\n",
    "\n",
    "def main():\n",
    "    # 请自行修改下面的邮件发送者和接收者\n",
    "    sender = 'abcdefg@126.com'\n",
    "    receivers = ['uvwxyz@qq.com', 'uvwxyz@126.com']\n",
    "    message = MIMEText('用Python发送邮件的示例代码.', 'plain', 'utf-8')\n",
    "    message['From'] = Header('王大锤', 'utf-8')\n",
    "    message['To'] = Header('骆昊', 'utf-8')\n",
    "    message['Subject'] = Header('示例代码实验邮件', 'utf-8')\n",
    "    smtper = SMTP('smtp.126.com')\n",
    "    # 请自行修改下面的登录口令\n",
    "    smtper.login(sender, 'secretpass')\n",
    "    smtper.sendmail(sender, receivers, message.as_string())\n",
    "    print('邮件发送完成!')\n",
    "\n",
    "\n",
    "if __name__ == '__main__':\n",
    "    main()\n",
    "```\n",
    "\n",
    "如果要发送带有附件的邮件，那么可以按照下面的方式进行操作。\n",
    "\n",
    "```Python\n",
    "from smtplib import SMTP\n",
    "from email.header import Header\n",
    "from email.mime.text import MIMEText\n",
    "from email.mime.image import MIMEImage\n",
    "from email.mime.multipart import MIMEMultipart\n",
    "\n",
    "import urllib\n",
    "\n",
    "\n",
    "def main():\n",
    "    # 创建一个带附件的邮件消息对象\n",
    "    message = MIMEMultipart()\n",
    "    \n",
    "    # 创建文本内容\n",
    "    text_content = MIMEText('附件中有本月数据请查收', 'plain', 'utf-8')\n",
    "    message['Subject'] = Header('本月数据', 'utf-8')\n",
    "    # 将文本内容添加到邮件消息对象中\n",
    "    message.attach(text_content)\n",
    "\n",
    "    # 读取文件并将文件作为附件添加到邮件消息对象中\n",
    "    with open('/Users/Hao/Desktop/hello.txt', 'rb') as f:\n",
    "        txt = MIMEText(f.read(), 'base64', 'utf-8')\n",
    "        txt['Content-Type'] = 'text/plain'\n",
    "        txt['Content-Disposition'] = 'attachment; filename=hello.txt'\n",
    "        message.attach(txt)\n",
    "    # 读取文件并将文件作为附件添加到邮件消息对象中\n",
    "    with open('/Users/Hao/Desktop/汇总数据.xlsx', 'rb') as f:\n",
    "        xls = MIMEText(f.read(), 'base64', 'utf-8')\n",
    "        xls['Content-Type'] = 'application/vnd.ms-excel'\n",
    "        xls['Content-Disposition'] = 'attachment; filename=month-data.xlsx'\n",
    "        message.attach(xls)\n",
    "    \n",
    "    # 创建SMTP对象\n",
    "    smtper = SMTP('smtp.126.com')\n",
    "    # 开启安全连接\n",
    "    # smtper.starttls()\n",
    "    sender = 'abcdefg@126.com'\n",
    "    receivers = ['uvwxyz@qq.com']\n",
    "    # 登录到SMTP服务器\n",
    "    # 请注意此处不是使用密码而是邮件客户端授权码进行登录\n",
    "    # 对此有疑问的读者可以联系自己使用的邮件服务器客服\n",
    "    smtper.login(sender, 'secretpass')\n",
    "    # 发送邮件\n",
    "    smtper.sendmail(sender, receivers, message.as_string())\n",
    "    # 与邮件服务器断开连接\n",
    "    smtper.quit()\n",
    "    print('发送完成!')\n",
    "\n",
    "\n",
    "if __name__ == '__main__':\n",
    "    main()\n",
    "```\n",
    "\n",
    "### 发送短信\n",
    "\n",
    "发送短信也是项目中常见的功能，网站的注册码、验证码、营销信息基本上都是通过短信来发送给用户的。在下面的代码中我们使用了[互亿无线](http://www.ihuyi.com/)短信平台（该平台为注册用户提供了50条免费短信以及常用开发语言发送短信的demo，可以登录该网站并在用户自服务页面中对短信进行配置）提供的API接口实现了发送短信的服务，当然国内的短信平台很多，读者可以根据自己的需要进行选择（通常会考虑费用预算、短信达到率、使用的难易程度等指标），如果需要在商业项目中使用短信服务建议购买短信平台提供的套餐服务。\n",
    "\n",
    "```Python\n",
    "import urllib.parse\n",
    "import http.client\n",
    "import json\n",
    "\n",
    "\n",
    "def main():\n",
    "    host  = \"106.ihuyi.com\"\n",
    "    sms_send_uri = \"/webservice/sms.php?method=Submit\"\n",
    "    # 下面的参数需要填入自己注册的账号和对应的密码\n",
    "    params = urllib.parse.urlencode({'account': '你自己的账号', 'password' : '你自己的密码', 'content': '您的验证码是：147258。请不要把验证码泄露给其他人。', 'mobile': '接收者的手机号', 'format':'json' })\n",
    "    print(params)\n",
    "    headers = {'Content-type': 'application/x-www-form-urlencoded', 'Accept': 'text/plain'}\n",
    "    conn = http.client.HTTPConnection(host, port=80, timeout=30)\n",
    "    conn.request('POST', sms_send_uri, params, headers)\n",
    "    response = conn.getresponse()\n",
    "    response_str = response.read()\n",
    "    jsonstr = response_str.decode('utf-8')\n",
    "    print(json.loads(jsonstr))\n",
    "    conn.close()\n",
    "\n",
    "\n",
    "if __name__ == '__main__':\n",
    "    main()\n",
    "```"
   ]
  }
 ],
 "metadata": {
  "file_extension": ".py",
  "kernelspec": {
   "display_name": "Python 3",
   "language": "python",
   "name": "python3"
  },
  "language_info": {
   "codemirror_mode": {
    "name": "ipython",
    "version": 3
   },
   "file_extension": ".py",
   "mimetype": "text/x-python",
   "name": "python",
   "nbconvert_exporter": "python",
   "pygments_lexer": "ipython3",
   "version": "3.7.3"
  },
  "mimetype": "text/x-python",
  "name": "python",
  "npconvert_exporter": "python",
  "pygments_lexer": "ipython3",
  "toc": {
   "base_numbering": 1,
   "nav_menu": {},
   "number_sections": true,
   "sideBar": true,
   "skip_h1_title": false,
   "title_cell": "Table of Contents",
   "title_sidebar": "Contents",
   "toc_cell": false,
   "toc_position": {
    "height": "calc(100% - 180px)",
    "left": "10px",
    "top": "150px",
    "width": "165px"
   },
   "toc_section_display": true,
   "toc_window_display": true
  },
  "version": 3
 },
 "nbformat": 4,
 "nbformat_minor": 2
}
