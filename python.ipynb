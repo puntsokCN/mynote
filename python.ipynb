{
 "cells": [
  {
   "cell_type": "markdown",
   "metadata": {},
   "source": [
    "# python 简洁之美"
   ]
  },
  {
   "cell_type": "markdown",
   "metadata": {},
   "source": [
    "## 一行代码交换a,b"
   ]
  },
  {
   "cell_type": "code",
   "execution_count": 1,
   "metadata": {},
   "outputs": [
    {
     "data": {
      "text/plain": [
       "(4, 1)"
      ]
     },
     "execution_count": 1,
     "metadata": {},
     "output_type": "execute_result"
    }
   ],
   "source": [
    "a, b = 1, 4\n",
    "\n",
    "a, b = b, a\n",
    "a,b"
   ]
  },
  {
   "cell_type": "markdown",
   "metadata": {},
   "source": [
    "## 一行代码反转列表"
   ]
  },
  {
   "cell_type": "code",
   "execution_count": 2,
   "metadata": {},
   "outputs": [
    {
     "data": {
      "text/plain": [
       "[3, 2, 1]"
      ]
     },
     "execution_count": 2,
     "metadata": {},
     "output_type": "execute_result"
    }
   ],
   "source": [
    "[1,2,3][::-1] "
   ]
  },
  {
   "cell_type": "markdown",
   "metadata": {},
   "source": [
    "## 一行代码合并两个字典"
   ]
  },
  {
   "cell_type": "code",
   "execution_count": 3,
   "metadata": {},
   "outputs": [
    {
     "data": {
      "text/plain": [
       "{'a': 1, 'b': 2, 'c': 3}"
      ]
     },
     "execution_count": 3,
     "metadata": {},
     "output_type": "execute_result"
    }
   ],
   "source": [
    "{**{'a':1,'b':2}, **{'c':3}}"
   ]
  },
  {
   "cell_type": "markdown",
   "metadata": {},
   "source": [
    "## 一行代码列表去重"
   ]
  },
  {
   "cell_type": "code",
   "execution_count": 4,
   "metadata": {},
   "outputs": [
    {
     "data": {
      "text/plain": [
       "{1, 2, 3}"
      ]
     },
     "execution_count": 4,
     "metadata": {},
     "output_type": "execute_result"
    }
   ],
   "source": [
    "set([1,2,2,3,3,3])"
   ]
  },
  {
   "cell_type": "markdown",
   "metadata": {},
   "source": [
    "## 一行代码求多个列表中的最大值"
   ]
  },
  {
   "cell_type": "code",
   "execution_count": 5,
   "metadata": {},
   "outputs": [
    {
     "data": {
      "text/plain": [
       "5"
      ]
     },
     "execution_count": 5,
     "metadata": {},
     "output_type": "execute_result"
    }
   ],
   "source": [
    "max(max([ [1,2,3], [5,1], [4] ], key=lambda v: max(v))) "
   ]
  },
  {
   "cell_type": "markdown",
   "metadata": {},
   "source": [
    "## 一行代码生成逆序序列"
   ]
  },
  {
   "cell_type": "code",
   "execution_count": 6,
   "metadata": {},
   "outputs": [
    {
     "data": {
      "text/plain": [
       "[10, 9, 8, 7, 6, 5, 4, 3, 2, 1, 0]"
      ]
     },
     "execution_count": 6,
     "metadata": {},
     "output_type": "execute_result"
    }
   ],
   "source": [
    "list(range(10,-1,-1))"
   ]
  },
  {
   "cell_type": "markdown",
   "metadata": {},
   "source": [
    "# python概览"
   ]
  },
  {
   "cell_type": "markdown",
   "metadata": {},
   "source": [
    "## 任务"
   ]
  },
  {
   "cell_type": "markdown",
   "metadata": {},
   "source": [
    "假设由于每种原因你现在需要去记录人们的信息。你想写个程序来这些人的详细信息。也就是说你想把这些记录存在数据库中，以便在电脑中永久存储这些信息。  \n",
    "\n",
    "你可以找到现成的数据库管理软件来管理对应的数据库。但是你可以亲自编写这样一个程序，可以完全控制它的运行方式，于是就这样入python的坑........."
   ]
  },
  {
   "cell_type": "markdown",
   "metadata": {},
   "source": [
    "## 第一步 表示记录"
   ]
  },
  {
   "cell_type": "markdown",
   "metadata": {},
   "source": [
    "如果我们想在数据库中存储记录，就要确定以什么样的数据类型来存储。通常使用列表和字典这样的内建对象类型就够用了。"
   ]
  },
  {
   "cell_type": "markdown",
   "metadata": {},
   "source": [
    "### 试用 List"
   ]
  },
  {
   "cell_type": "markdown",
   "metadata": {},
   "source": [
    "#### 新建记录"
   ]
  },
  {
   "cell_type": "code",
   "execution_count": 7,
   "metadata": {},
   "outputs": [],
   "source": [
    "bob = [\"Bob Smith\", 42, 20000, \"software\"]\n",
    "sue = [\"Sue James\", 30, 30000, \"hardware\"]"
   ]
  },
  {
   "cell_type": "markdown",
   "metadata": {},
   "source": [
    "#### 通过对列表的访问，处理可以容易地处理记录"
   ]
  },
  {
   "cell_type": "code",
   "execution_count": 8,
   "metadata": {},
   "outputs": [
    {
     "data": {
      "text/plain": [
       "'Smith'"
      ]
     },
     "execution_count": 8,
     "metadata": {},
     "output_type": "execute_result"
    }
   ],
   "source": [
    "#　Bob　姓啥？\n",
    "bob[0].split()[-1]"
   ]
  },
  {
   "cell_type": "code",
   "execution_count": 9,
   "metadata": {},
   "outputs": [
    {
     "data": {
      "text/plain": [
       "['Sue James', 30, 37500.0, 'hardware']"
      ]
     },
     "execution_count": 9,
     "metadata": {},
     "output_type": "execute_result"
    }
   ],
   "source": [
    "# 给 sue 涨薪 25%\n",
    "sue[2] *= 1.25\n",
    "sue"
   ]
  },
  {
   "cell_type": "markdown",
   "metadata": {},
   "source": [
    "#### 数据库列表"
   ]
  },
  {
   "cell_type": "markdown",
   "metadata": {},
   "source": [
    "为了把 Bob 和 Sue 存储在一起，我们可以简单地把他们放入一个新的列表里，形成一个简单的数据库"
   ]
  },
  {
   "cell_type": "code",
   "execution_count": 10,
   "metadata": {},
   "outputs": [
    {
     "name": "stdout",
     "output_type": "stream",
     "text": [
      "['Bob Smith', 42, 20000, 'software']\n",
      "['Sue James', 30, 37500.0, 'hardware']\n"
     ]
    }
   ],
   "source": [
    "people = [bob, sue]\n",
    "# 查看一个这个数据库的内容\n",
    "for person in people:\n",
    "    print(person)"
   ]
  },
  {
   "cell_type": "markdown",
   "metadata": {},
   "source": [
    "通过操作数据库来处理记录"
   ]
  },
  {
   "cell_type": "code",
   "execution_count": 11,
   "metadata": {},
   "outputs": [
    {
     "name": "stdout",
     "output_type": "stream",
     "text": [
      "Smith\n",
      "James\n"
     ]
    }
   ],
   "source": [
    "# 给每人涨薪 20%\n",
    "for person in people:\n",
    "    print(person[0].split()[-1])  # 打印姓氏\n",
    "    person[2] *= 1.20   # 涨薪水"
   ]
  },
  {
   "cell_type": "code",
   "execution_count": 12,
   "metadata": {},
   "outputs": [
    {
     "name": "stdout",
     "output_type": "stream",
     "text": [
      "24000.0\n",
      "45000.0\n"
     ]
    }
   ],
   "source": [
    "# 检查一下有没有涨薪水\n",
    "for person in people:\n",
    "    print(person[2])"
   ]
  },
  {
   "cell_type": "markdown",
   "metadata": {},
   "source": [
    "#### 使用python迭代工具从记录中获取各种值。例如获取列表解析、map和生成器表达式"
   ]
  },
  {
   "cell_type": "code",
   "execution_count": 13,
   "metadata": {},
   "outputs": [
    {
     "data": {
      "text/plain": [
       "[24000.0, 45000.0]"
      ]
     },
     "execution_count": 13,
     "metadata": {},
     "output_type": "execute_result"
    }
   ],
   "source": [
    "# 获取员工的薪水列表\n",
    "# 列表解析\n",
    "pays = [person[2] for person in people]\n",
    "pays"
   ]
  },
  {
   "cell_type": "code",
   "execution_count": 14,
   "metadata": {},
   "outputs": [
    {
     "data": {
      "text/plain": [
       "[24000.0, 45000.0]"
      ]
     },
     "execution_count": 14,
     "metadata": {},
     "output_type": "execute_result"
    }
   ],
   "source": [
    "# map\n",
    "pays = map((lambda x: x[2]), people)\n",
    "list(pays)"
   ]
  },
  {
   "cell_type": "code",
   "execution_count": 15,
   "metadata": {},
   "outputs": [
    {
     "data": {
      "text/plain": [
       "69000.0"
      ]
     },
     "execution_count": 15,
     "metadata": {},
     "output_type": "execute_result"
    }
   ],
   "source": [
    "# # 查看公司应付员工薪水总额\n",
    "# 生成器表达式， sum为内建函数\n",
    "sum(person[2] for person in people)"
   ]
  },
  {
   "cell_type": "markdown",
   "metadata": {},
   "source": [
    "#### Field标签"
   ]
  },
  {
   "cell_type": "markdown",
   "metadata": {},
   "source": [
    "通过对列表的位置来访问字段导致我们一直需要记住列表每个位置的含义，这样编码麻烦而且代码可读性也差，最好把字段名和字段的值关联起来，也就是咱们给列表的每个位置起个名字。"
   ]
  },
  {
   "cell_type": "code",
   "execution_count": 16,
   "metadata": {},
   "outputs": [],
   "source": [
    "NAME, AGE, PAY, JOB = range(4)\n",
    "kobe = [\"Kobe Bryant\", 60, 60000, \"spokesperson\"]"
   ]
  },
  {
   "cell_type": "code",
   "execution_count": 17,
   "metadata": {},
   "outputs": [
    {
     "data": {
      "text/plain": [
       "'Kobe Bryant'"
      ]
     },
     "execution_count": 17,
     "metadata": {},
     "output_type": "execute_result"
    }
   ],
   "source": [
    "# 查看姓名\n",
    "kobe[NAME]"
   ]
  },
  {
   "cell_type": "code",
   "execution_count": 18,
   "metadata": {},
   "outputs": [
    {
     "data": {
      "text/plain": [
       "(3, 'spokesperson')"
      ]
     },
     "execution_count": 18,
     "metadata": {},
     "output_type": "execute_result"
    }
   ],
   "source": [
    "# 查看职位\n",
    "JOB, kobe[JOB]  "
   ]
  },
  {
   "cell_type": "markdown",
   "metadata": {},
   "source": [
    "这样兄弟萌就解决了可读性问题，但是我们发现数据记录和字段名并非是关联在一起的，这样随着时间的前进，后来的编码人员对数据结构进行变化时，如果忘了对字段变量做相应的维护的话，它们将会失去同步。  \n",
    "\n",
    "而且字段名是独立的变量，没有从记录到其字段名的直接映射。  \n",
    "\n",
    "我们可以尝试利用元组的列表来解决这个问题，其中每个元组保存字段名和值，更加理想的是，使用列表的列表允许进行更新的，（元组是不可变的）"
   ]
  },
  {
   "cell_type": "code",
   "execution_count": 19,
   "metadata": {},
   "outputs": [],
   "source": [
    "bob = [['name', \"Bob Smith\"], [\"age\", 42], [\"pay\", 30000]]\n",
    "sue = [['name', \"Sue James\"], [\"age\", 46], [\"pay\", 40000]]\n",
    "people = [bob, sue]"
   ]
  },
  {
   "cell_type": "markdown",
   "metadata": {},
   "source": [
    "但是这样我们依然需要通过列表的index值来获取数据。"
   ]
  },
  {
   "cell_type": "code",
   "execution_count": 20,
   "metadata": {},
   "outputs": [
    {
     "data": {
      "text/plain": [
       "['Bob Smith', 'Sue James']"
      ]
     },
     "execution_count": 20,
     "metadata": {},
     "output_type": "execute_result"
    }
   ],
   "source": [
    "# 收集人员姓名\n",
    "[person[0][1] for person in people]"
   ]
  },
  {
   "cell_type": "markdown",
   "metadata": {},
   "source": [
    "实际上仅仅是增加了一层额外的位置索引。更好的办法是，可以在循环中检查字段名字来找到我们想要的属性"
   ]
  },
  {
   "cell_type": "code",
   "execution_count": 21,
   "metadata": {},
   "outputs": [
    {
     "name": "stdout",
     "output_type": "stream",
     "text": [
      "Bob Smith\n",
      "Sue James\n"
     ]
    }
   ],
   "source": [
    "for person in people:\n",
    "    for (name, value) in person:\n",
    "        if name == \"name\" :\n",
    "            print(value)"
   ]
  },
  {
   "cell_type": "markdown",
   "metadata": {},
   "source": [
    "我们可以抽取其中的逻辑写个函数接口来做项工作，以后调用函数进行复用就可以了"
   ]
  },
  {
   "cell_type": "code",
   "execution_count": 22,
   "metadata": {},
   "outputs": [],
   "source": [
    "def field(record, label):\n",
    "    \"\"\"\n",
    "    record: 记录变量名\n",
    "    label： 字段名\n",
    "    \"\"\"\n",
    "    for(fname, fvalue) in record:\n",
    "        if fname == label:  # 根据名字来寻找字段名\n",
    "            return fvalue"
   ]
  },
  {
   "cell_type": "code",
   "execution_count": 23,
   "metadata": {},
   "outputs": [
    {
     "data": {
      "text/plain": [
       "'Bob Smith'"
      ]
     },
     "execution_count": 23,
     "metadata": {},
     "output_type": "execute_result"
    }
   ],
   "source": [
    "# 获取姓名\n",
    "field(bob, \"name\")"
   ]
  },
  {
   "cell_type": "code",
   "execution_count": 24,
   "metadata": {},
   "outputs": [
    {
     "name": "stdout",
     "output_type": "stream",
     "text": [
      "42\n",
      "46\n"
     ]
    }
   ],
   "source": [
    "# 打印所有年龄\n",
    "for rec in people:\n",
    "    print(field(rec, \"age\"))   #简化了代码，提升了可读性"
   ]
  },
  {
   "cell_type": "markdown",
   "metadata": {},
   "source": [
    "如果继续探索下去，最终会实现一套将字段名映射到字段值的完善的记录接口函数。"
   ]
  },
  {
   "cell_type": "markdown",
   "metadata": {},
   "source": [
    "#### 持久存储问题"
   ]
  },
  {
   "cell_type": "markdown",
   "metadata": {},
   "source": [
    "列表的确可以用作我们的人员数据库，而且的确它也满足一些小程序的需要。但是他是在内存中，一旦python的进程退出，这些数据就会从内存中消失。"
   ]
  },
  {
   "cell_type": "markdown",
   "metadata": {},
   "source": [
    "### 试用字典"
   ]
  },
  {
   "cell_type": "markdown",
   "metadata": {},
   "source": [
    "#### 新建字典数据表示"
   ]
  },
  {
   "cell_type": "markdown",
   "metadata": {},
   "source": [
    "虽然列表的记录表示方式能够使用，但是我们知道内建的字典对象在关联属性的名字和值方面会更高效和方便"
   ]
  },
  {
   "cell_type": "code",
   "execution_count": 25,
   "metadata": {},
   "outputs": [],
   "source": [
    "bob = {\"name\":\"Bob Smith\", \"age\":42, \"pay\":30000, \"job\":\"dev\"}\n",
    "sue = {\"name\":\"sue James\", \"age\":46, \"pay\":40000, \"job\":\"mng\"}"
   ]
  },
  {
   "cell_type": "code",
   "execution_count": 26,
   "metadata": {},
   "outputs": [
    {
     "data": {
      "text/plain": [
       "'Bob Smith'"
      ]
     },
     "execution_count": 26,
     "metadata": {},
     "output_type": "execute_result"
    }
   ],
   "source": [
    "# 相比list我们不再需要记住index值偏移量对应的含义\n",
    "bob[\"name\"]"
   ]
  },
  {
   "cell_type": "code",
   "execution_count": 27,
   "metadata": {},
   "outputs": [
    {
     "name": "stdout",
     "output_type": "stream",
     "text": [
      "40000\n",
      "44000.0\n"
     ]
    }
   ],
   "source": [
    "# 涨薪  \n",
    "print(sue[\"pay\"])\n",
    "sue[\"pay\"] *= 1.10\n",
    "print(sue[\"pay\"])\n",
    "\n",
    "# 代码可读性也大大地好\n",
    "# 字段名和值之间的映射关系也稳定，也不用担心它们之间会失联"
   ]
  },
  {
   "cell_type": "markdown",
   "metadata": {},
   "source": [
    "#### 其他建立字典的方法"
   ]
  },
  {
   "cell_type": "markdown",
   "metadata": {},
   "source": [
    "可以使用关键词参数和类型构造函数，主要所有的键是字符串"
   ]
  },
  {
   "cell_type": "code",
   "execution_count": 28,
   "metadata": {},
   "outputs": [
    {
     "data": {
      "text/plain": [
       "{'name': 'Bob Smith', 'age': 42, 'pay': 30000, 'job': 'dev'}"
      ]
     },
     "execution_count": 28,
     "metadata": {},
     "output_type": "execute_result"
    }
   ],
   "source": [
    "bob = dict(name=\"Bob Smith\", age=42, pay=30000, job=\"dev\")\n",
    "sue = dict(name=\"Sue Jones\", age=45, pay=40000, job=\"hdw\")\n",
    "bob"
   ]
  },
  {
   "cell_type": "markdown",
   "metadata": {},
   "source": [
    "或者一次一个字段地填写（字典的键是伪随机排列的呦）"
   ]
  },
  {
   "cell_type": "code",
   "execution_count": 29,
   "metadata": {},
   "outputs": [],
   "source": [
    "wade = {}"
   ]
  },
  {
   "cell_type": "code",
   "execution_count": 30,
   "metadata": {},
   "outputs": [
    {
     "data": {
      "text/plain": [
       "{'name': 'D.Wade'}"
      ]
     },
     "execution_count": 30,
     "metadata": {},
     "output_type": "execute_result"
    }
   ],
   "source": [
    "wade[\"name\"] = \"D.Wade\"\n",
    "wade"
   ]
  },
  {
   "cell_type": "code",
   "execution_count": 31,
   "metadata": {},
   "outputs": [
    {
     "data": {
      "text/plain": [
       "{'name': 'D.Wade', 'age': '40'}"
      ]
     },
     "execution_count": 31,
     "metadata": {},
     "output_type": "execute_result"
    }
   ],
   "source": [
    "wade[\"age\"] = \"40\"\n",
    "wade"
   ]
  },
  {
   "cell_type": "markdown",
   "metadata": {},
   "source": [
    "或者用zip函数将 名/值 两个列表链在一起"
   ]
  },
  {
   "cell_type": "code",
   "execution_count": 32,
   "metadata": {},
   "outputs": [
    {
     "data": {
      "text/plain": [
       "[('name', 'L.J'),\n",
       " ('age', '35'),\n",
       " ('pay', '35000000$'),\n",
       " ('job', 'basketball player')]"
      ]
     },
     "execution_count": 32,
     "metadata": {},
     "output_type": "execute_result"
    }
   ],
   "source": [
    "keys = [\"name\", \"age\", \"pay\", \"job\"]\n",
    "values = [\"L.J\", \"35\", \"35000000$\", \"basketball player\"] \n",
    "\n",
    "# 1\n",
    "list(zip(keys, values))"
   ]
  },
  {
   "cell_type": "code",
   "execution_count": 33,
   "metadata": {},
   "outputs": [
    {
     "data": {
      "text/plain": [
       "{'name': 'L.J', 'age': '35', 'pay': '35000000$', 'job': 'basketball player'}"
      ]
     },
     "execution_count": 33,
     "metadata": {},
     "output_type": "execute_result"
    }
   ],
   "source": [
    "# 2\n",
    "dict(zip(keys, values))"
   ]
  },
  {
   "cell_type": "markdown",
   "metadata": {},
   "source": [
    "甚至可以通过一个键序列和所有键的可选初始值来创造字典（便于初始化空字典）"
   ]
  },
  {
   "cell_type": "code",
   "execution_count": 34,
   "metadata": {},
   "outputs": [
    {
     "data": {
      "text/plain": [
       "{'job': '?', 'age': '?', 'name': '?'}"
      ]
     },
     "execution_count": 34,
     "metadata": {},
     "output_type": "execute_result"
    }
   ],
   "source": [
    "# 先把结构创建出来，然后可以在慢慢填入\n",
    "fields = {\"name\", \"age\", \"job\"}\n",
    "record = dict.fromkeys(fields, \"?\")\n",
    "record"
   ]
  },
  {
   "cell_type": "markdown",
   "metadata": {},
   "source": [
    "#### 字典列表数据库"
   ]
  },
  {
   "cell_type": "markdown",
   "metadata": {},
   "source": [
    "不管怎样实现字典，仍然需要把基于字典的数据记录会聚在一起，形成数据库。我们依然使用列表"
   ]
  },
  {
   "cell_type": "code",
   "execution_count": 35,
   "metadata": {},
   "outputs": [
    {
     "data": {
      "text/plain": [
       "{'name': 'Bob Smith', 'age': 42, 'pay': 30000, 'job': 'dev'}"
      ]
     },
     "execution_count": 35,
     "metadata": {},
     "output_type": "execute_result"
    }
   ],
   "source": [
    "bob"
   ]
  },
  {
   "cell_type": "code",
   "execution_count": 36,
   "metadata": {},
   "outputs": [
    {
     "data": {
      "text/plain": [
       "{'name': 'Sue Jones', 'age': 45, 'pay': 40000, 'job': 'hdw'}"
      ]
     },
     "execution_count": 36,
     "metadata": {},
     "output_type": "execute_result"
    }
   ],
   "source": [
    "sue"
   ]
  },
  {
   "cell_type": "code",
   "execution_count": 37,
   "metadata": {},
   "outputs": [
    {
     "name": "stdout",
     "output_type": "stream",
     "text": [
      "Bob Smith 30000\n",
      "Sue Jones 40000\n"
     ]
    }
   ],
   "source": [
    "people = [bob, sue]\n",
    "for person in people:\n",
    "    print(person[\"name\"], person[\"pay\"])"
   ]
  },
  {
   "cell_type": "markdown",
   "metadata": {},
   "source": [
    "对数据库可以使用迭代工具"
   ]
  },
  {
   "cell_type": "code",
   "execution_count": 38,
   "metadata": {},
   "outputs": [
    {
     "data": {
      "text/plain": [
       "['Bob Smith', 'Sue Jones']"
      ]
     },
     "execution_count": 38,
     "metadata": {},
     "output_type": "execute_result"
    }
   ],
   "source": [
    "# 人员有哪些\n",
    "names = [person[\"name\"] for person in people]\n",
    "names"
   ]
  },
  {
   "cell_type": "code",
   "execution_count": 39,
   "metadata": {},
   "outputs": [
    {
     "data": {
      "text/plain": [
       "['Bob Smith', 'Sue Jones']"
      ]
     },
     "execution_count": 39,
     "metadata": {},
     "output_type": "execute_result"
    }
   ],
   "source": [
    "# map\n",
    "list(map((lambda x: x[\"name\"]), people))"
   ]
  },
  {
   "cell_type": "code",
   "execution_count": 40,
   "metadata": {},
   "outputs": [
    {
     "data": {
      "text/plain": [
       "70000"
      ]
     },
     "execution_count": 40,
     "metadata": {},
     "output_type": "execute_result"
    }
   ],
   "source": [
    "# 总共应付人员薪水\n",
    "sum(person[\"pay\"] for person in people)"
   ]
  },
  {
   "cell_type": "code",
   "execution_count": 41,
   "metadata": {},
   "outputs": [],
   "source": [
    "db = {}                 # 数据库\n",
    "db[\"bob\"] = bob         # 引用字典的字典\n",
    "db[\"sue\"] = sue"
   ]
  },
  {
   "cell_type": "markdown",
   "metadata": {},
   "source": [
    "由于字典是python对象，所以数据库中的记录可以用python语法进行增删改查"
   ]
  },
  {
   "cell_type": "code",
   "execution_count": 42,
   "metadata": {},
   "outputs": [],
   "source": [
    "for person in people:\n",
    "    person[\"pay\"] *= 1.10  # 为所有人员加薪"
   ]
  },
  {
   "cell_type": "markdown",
   "metadata": {},
   "source": [
    "#### 嵌套结构"
   ]
  },
  {
   "cell_type": "code",
   "execution_count": 43,
   "metadata": {},
   "outputs": [
    {
     "name": "stdout",
     "output_type": "stream",
     "text": [
      "Smith\n",
      "Jones\n"
     ]
    }
   ],
   "source": [
    "# 现在抽取姓氏时\n",
    "for person in people:\n",
    "    print(person[\"name\"].split()[-1])"
   ]
  },
  {
   "cell_type": "markdown",
   "metadata": {},
   "source": [
    "通过再进一步结构化我们的记录，可以避免上述列子中这样的抽取姓氏的代码"
   ]
  },
  {
   "cell_type": "code",
   "execution_count": 44,
   "metadata": {},
   "outputs": [],
   "source": [
    "# 将字典、列表、元组嵌套在另一个字典中\n",
    "bob2 = {\"name\":{\"first\":\"bob\", \"last\":\"Smith\"},\n",
    "        \"age\":42,\n",
    "        \"job\":[\"software\", \"dancer\"],\n",
    "        \"pay\":(30000, 20000),\n",
    "       }"
   ]
  },
  {
   "cell_type": "code",
   "execution_count": 45,
   "metadata": {},
   "outputs": [
    {
     "data": {
      "text/plain": [
       "{'first': 'bob', 'last': 'Smith'}"
      ]
     },
     "execution_count": 45,
     "metadata": {},
     "output_type": "execute_result"
    }
   ],
   "source": [
    "# 获取全名\n",
    "bob2[\"name\"]"
   ]
  },
  {
   "cell_type": "code",
   "execution_count": 46,
   "metadata": {},
   "outputs": [
    {
     "data": {
      "text/plain": [
       "'Smith'"
      ]
     },
     "execution_count": 46,
     "metadata": {},
     "output_type": "execute_result"
    }
   ],
   "source": [
    "# 获取bob的姓\n",
    "bob2[\"name\"][\"last\"]"
   ]
  },
  {
   "cell_type": "code",
   "execution_count": 47,
   "metadata": {},
   "outputs": [
    {
     "name": "stdout",
     "output_type": "stream",
     "text": [
      "software\n",
      "dancer\n"
     ]
    }
   ],
   "source": [
    "# bob 的所有工作\n",
    "for job in bob2[\"job\"] : print(job) "
   ]
  },
  {
   "cell_type": "code",
   "execution_count": 48,
   "metadata": {},
   "outputs": [],
   "source": [
    "# bob 又增加了一个工作\n",
    "bob2[\"job\"].append(\"lol player\")"
   ]
  },
  {
   "cell_type": "code",
   "execution_count": 49,
   "metadata": {},
   "outputs": [
    {
     "data": {
      "text/plain": [
       "['software', 'dancer', 'lol player']"
      ]
     },
     "execution_count": 49,
     "metadata": {},
     "output_type": "execute_result"
    }
   ],
   "source": [
    "bob2[\"job\"]"
   ]
  },
  {
   "cell_type": "markdown",
   "metadata": {},
   "source": [
    "#### 字典的字典"
   ]
  },
  {
   "cell_type": "markdown",
   "metadata": {},
   "source": [
    "我们对基于字典的人员数据库做最后一次改进，可以从字典中多挖掘一些字典的好处。  \n",
    "\n",
    "我们使用字典表示数据库本身，"
   ]
  },
  {
   "cell_type": "code",
   "execution_count": 50,
   "metadata": {},
   "outputs": [],
   "source": [
    "bob = dict(name=\"Bob Smith\", age=42, pay=30000, job=\"dev\")\n",
    "sue = dict(name=\"Sue Jones\", age=45, pay=40000, job=\"hdw\")"
   ]
  },
  {
   "cell_type": "code",
   "execution_count": 51,
   "metadata": {},
   "outputs": [],
   "source": [
    "db = {} # 建立一个数据库"
   ]
  },
  {
   "cell_type": "code",
   "execution_count": 52,
   "metadata": {},
   "outputs": [],
   "source": [
    "# 引用字典的字典\n",
    "db[\"bob\"] = bob \n",
    "db[\"sue\"] = sue"
   ]
  },
  {
   "cell_type": "code",
   "execution_count": 53,
   "metadata": {},
   "outputs": [
    {
     "data": {
      "text/plain": [
       "'Bob Smith'"
      ]
     },
     "execution_count": 53,
     "metadata": {},
     "output_type": "execute_result"
    }
   ],
   "source": [
    "db[\"bob\"][\"name\"]"
   ]
  },
  {
   "cell_type": "code",
   "execution_count": 54,
   "metadata": {},
   "outputs": [
    {
     "data": {
      "text/plain": [
       "44000.0"
      ]
     },
     "execution_count": 54,
     "metadata": {},
     "output_type": "execute_result"
    }
   ],
   "source": [
    "db[\"sue\"][\"pay\"] * 1.1  # 涨薪"
   ]
  },
  {
   "cell_type": "code",
   "execution_count": 55,
   "metadata": {},
   "outputs": [
    {
     "data": {
      "text/plain": [
       "{'bob': {'name': 'Bob Smith', 'age': 42, 'pay': 30000, 'job': 'dev'},\n",
       " 'sue': {'name': 'Sue Jones', 'age': 45, 'pay': 40000, 'job': 'hdw'}}"
      ]
     },
     "execution_count": 55,
     "metadata": {},
     "output_type": "execute_result"
    }
   ],
   "source": [
    "# 这样的结构可以直接访问一条记录，而不必循环中寻找到它。\n",
    "db #查看数据库"
   ]
  },
  {
   "cell_type": "code",
   "execution_count": 56,
   "metadata": {},
   "outputs": [
    {
     "name": "stdout",
     "output_type": "stream",
     "text": [
      "{'bob': {'age': 42, 'job': 'dev', 'name': 'Bob Smith', 'pay': 30000},\n",
      " 'sue': {'age': 45, 'job': 'hdw', 'name': 'Sue Jones', 'pay': 40000}}\n"
     ]
    }
   ],
   "source": [
    "# python的pprint可以让输出更易于阅读\n",
    "import pprint\n",
    "pprint.pprint(db)"
   ]
  },
  {
   "cell_type": "markdown",
   "metadata": {},
   "source": [
    "如果仍然需要逐条记录地访问数据库，可以使用for循环和字典的迭代器"
   ]
  },
  {
   "cell_type": "code",
   "execution_count": 57,
   "metadata": {},
   "outputs": [
    {
     "name": "stdout",
     "output_type": "stream",
     "text": [
      "['Bob Smith', 'Sue Jones'] ['Bob Smith', 'Sue Jones']\n"
     ]
    }
   ],
   "source": [
    "# 迭代起\n",
    "x = [db[key][\"name\"] for key in db]\n",
    "y = [rec[\"name\"] for rec in db.values()]\n",
    "print(x, y)"
   ]
  },
  {
   "cell_type": "markdown",
   "metadata": {},
   "source": [
    "#### 数据库增删改查"
   ]
  },
  {
   "cell_type": "code",
   "execution_count": 58,
   "metadata": {},
   "outputs": [
    {
     "data": {
      "text/plain": [
       "2"
      ]
     },
     "execution_count": 58,
     "metadata": {},
     "output_type": "execute_result"
    }
   ],
   "source": [
    "#　数据库的记录总数\n",
    "len(db)"
   ]
  },
  {
   "cell_type": "code",
   "execution_count": 59,
   "metadata": {},
   "outputs": [
    {
     "name": "stdout",
     "output_type": "stream",
     "text": [
      "{'bob': {'age': 42, 'job': 'dev', 'name': 'Bob Smith', 'pay': 30000},\n",
      " 'sue': {'age': 45, 'job': 'hdw', 'name': 'Sue Jones', 'pay': 40000},\n",
      " 'tom': {'age': 50, 'job': None, 'name': 'Tom', 'pay': 0}}\n"
     ]
    }
   ],
   "source": [
    "# 增 - 只要把新的记录赋给一个新的键即可\n",
    "db[\"tom\"] = dict(name=\"Tom\", age=50, job=None, pay=0)\n",
    "pprint.pprint(db)"
   ]
  },
  {
   "cell_type": "code",
   "execution_count": 60,
   "metadata": {},
   "outputs": [
    {
     "data": {
      "text/plain": [
       "['bob', 'sue', 'tom']"
      ]
     },
     "execution_count": 60,
     "metadata": {},
     "output_type": "execute_result"
    }
   ],
   "source": [
    "# 查看数据库有哪些人员记录\n",
    "list(db.keys())"
   ]
  },
  {
   "cell_type": "code",
   "execution_count": 61,
   "metadata": {},
   "outputs": [
    {
     "data": {
      "text/plain": [
       "['Sue Jones', 'Tom']"
      ]
     },
     "execution_count": 61,
     "metadata": {},
     "output_type": "execute_result"
    }
   ],
   "source": [
    "# 类似 SQL 的条件查询\n",
    "[rec[\"name\"] for rec in db.values() if rec[\"age\"] >= 45] "
   ]
  },
  {
   "cell_type": "markdown",
   "metadata": {},
   "source": [
    "#### 持久存储问题"
   ]
  },
  {
   "cell_type": "markdown",
   "metadata": {},
   "source": [
    "虽然我们的数据库仍然是内存的临时对象，当python进程死亡时，这些数据也随之消失，但是这种字典的结构与永久性对象的系统结构非常切合--shelve(英文语法上应该是shelf，但是python模块命名和术语用的shelve)"
   ]
  },
  {
   "cell_type": "markdown",
   "metadata": {},
   "source": [
    "## 第二步  持久化存储记录"
   ]
  },
  {
   "cell_type": "markdown",
   "metadata": {},
   "source": [
    "## 第二步 ...."
   ]
  },
  {
   "cell_type": "code",
   "execution_count": null,
   "metadata": {},
   "outputs": [],
   "source": []
  },
  {
   "cell_type": "markdown",
   "metadata": {},
   "source": [
    "## 使用pickle将记录保存更新进一个普通文件"
   ]
  },
  {
   "cell_type": "code",
   "execution_count": 62,
   "metadata": {},
   "outputs": [],
   "source": [
    "# 保存\n",
    "import pickle\n",
    "with open(\"people_pickle\", \"wb\") as dbfile:  # 使用 3. \n",
    "    pickle.dump(db, dbfile)                # db 可以单独的以初始化模块文件来组织"
   ]
  },
  {
   "cell_type": "code",
   "execution_count": 63,
   "metadata": {},
   "outputs": [
    {
     "name": "stdout",
     "output_type": "stream",
     "text": [
      "{'bob': {'age': 42, 'job': 'dev', 'name': 'Bob Smith', 'pay': 30000},\n",
      " 'sue': {'age': 45, 'job': 'hdw', 'name': 'Sue Jones', 'pay': 40000},\n",
      " 'tom': {'age': 50, 'job': None, 'name': 'Tom', 'pay': 0}}\n"
     ]
    }
   ],
   "source": [
    "# 读取\n",
    "with open(\"people_pickle\", \"rb\") as dbfile:  # 使用 3. \n",
    "     db_ = pickle.load(dbfile)                \n",
    "     pprint.pprint(db_)"
   ]
  },
  {
   "cell_type": "markdown",
   "metadata": {},
   "source": [
    "## 当处理非常大的数据时，上述方法会变得很慢，因为更新一条数据就要重新读出和写入整个数据库，我们可以通过存储数据库中的一条记录到一个普通的文件的方式来改进"
   ]
  },
  {
   "cell_type": "code",
   "execution_count": 64,
   "metadata": {},
   "outputs": [],
   "source": [
    "# 1  将每条记录存到对应的文件中\n",
    "for (key, record) in [(\"bob\", bob), (\"sue\", sue)]:\n",
    "    with open(key+\".pkl\", \"wb\") as recfile:\n",
    "        pickle.dump(record, recfile)"
   ]
  },
  {
   "cell_type": "code",
   "execution_count": 65,
   "metadata": {},
   "outputs": [
    {
     "name": "stdout",
     "output_type": "stream",
     "text": [
      "bob.pkl =>\n",
      " {'name': 'Bob Smith', 'age': 42, 'pay': 30000, 'job': 'dev'}\n",
      "sue.pkl =>\n",
      " {'name': 'Sue Jones', 'age': 45, 'pay': 40000, 'job': 'hdw'}\n",
      "sue.pkl['name'] =>\n",
      " Sue Jones\n"
     ]
    }
   ],
   "source": [
    "# 2  使用glob模块获取整个数据库。它根据文件拓展名来获取这个目录下所有该拓展名的文件。如果需要载入单个记录，可以打开对应的文件并使用pickle反序列化。为了得到一条记录，我们只需要载入一个记录而不需要整个数据库\n",
    "import glob\n",
    "\n",
    "# 查看整个数据库\n",
    "for filename in glob.glob(\"*.pkl\"):    \n",
    "    with open(filename, \"rb\") as recfile:\n",
    "        record = pickle.load(recfile)\n",
    "        print(filename, \"=>\\n\",record)\n",
    "\n",
    "#　查看单个记录\n",
    "suefile = open(\"sue.pkl\", \"rb\")\n",
    "print(\"sue.pkl['name']\", \"=>\\n\", pickle.load(suefile)[\"name\"])\n",
    "suefile.close()"
   ]
  },
  {
   "cell_type": "code",
   "execution_count": 66,
   "metadata": {},
   "outputs": [
    {
     "name": "stdout",
     "output_type": "stream",
     "text": [
      "sue.pkl['pay'] =>\n",
      " 44000.0\n"
     ]
    }
   ],
   "source": [
    "# 3  当更新数据库，从对应文件抓取一条记录，在内存中进行修改，然后重新写入它的pickle文件，不用为了更新某段记录而对整个数据库进行操作\n",
    "\n",
    "suefile = open(\"sue.pkl\", \"rb\")\n",
    "sue = pickle.load(suefile)\n",
    "suefile.close()\n",
    "\n",
    "sue[\"pay\"] *= 1.10  # 给sue涨薪10%\n",
    "suefile = open(\"sue.pkl\", \"wb\")\n",
    "pickle.dump(sue, suefile)\n",
    "suefile.close()\n",
    "\n",
    "# 查看该记录是否更新成功\n",
    "suefile = open(\"sue.pkl\", \"rb\")\n",
    "print(\"sue.pkl['pay']\", \"=>\\n\", pickle.load(suefile)[\"pay\"])\n",
    "suefile.close()"
   ]
  },
  {
   "cell_type": "markdown",
   "metadata": {},
   "source": [
    "上述方法数据库的中的key变为了实际的文件名。也就是说文件系统成为了高层字典，通过文件名可以直接访问每条记录"
   ]
  },
  {
   "cell_type": "markdown",
   "metadata": {},
   "source": [
    "## shelves \n",
    "自动地将对象pickle进和pickle出健访问文件系统。它们很像必须打开着的字典，存储持久化对象的字典 "
   ]
  },
  {
   "cell_type": "code",
   "execution_count": 67,
   "metadata": {},
   "outputs": [],
   "source": [
    "# 创建数据库\n",
    "import shelve\n",
    "db = shelve.open(\"people-shelve\") \n",
    "db[\"bob\"] = bob\n",
    "db[\"sue\"] = sue\n",
    "db.close()"
   ]
  },
  {
   "cell_type": "code",
   "execution_count": 68,
   "metadata": {},
   "outputs": [
    {
     "name": "stdout",
     "output_type": "stream",
     "text": [
      "bob =>\n",
      " {'name': 'Bob Smith', 'age': 42, 'pay': 30000, 'job': 'dev'}\n",
      "sue =>\n",
      " {'name': 'Sue Jones', 'age': 45, 'pay': 44000.0, 'job': 'hdw'}\n",
      "tom =>\n",
      " {'name': 'Tom', 'age': 50, 'job': None, 'pay': 0}\n"
     ]
    }
   ],
   "source": [
    "# 访问数据库, 依旧是字典的字典\n",
    "db = shelve.open(\"people-shelve\")\n",
    "for key in db:\n",
    "    print(key, \"=>\\n\", db[key])"
   ]
  },
  {
   "cell_type": "code",
   "execution_count": 69,
   "metadata": {},
   "outputs": [],
   "source": [
    "# 更新\n",
    "tom= dict(name=\"Tom\", age=50, job=None, pay=0)\n",
    "\n",
    "db = shelve.open(\"people-shelve\")\n",
    "sue = db[\"sue\"]\n",
    "sue[\"pay\"] *= 1.1\n",
    "# 手动写回是缺省需求，可以在open中定义关闭shelve时写回，但是会消耗内存使得关闭变慢\n",
    "# 缺省是需要时创建，否则以可读可写方式打开 \n",
    "db[\"sue\"] = sue   \n",
    "db[\"tom\"] = tom\n",
    "db.close() # 关闭shelve、关闭缓存\n",
    "\n",
    "# 可以将数据库操作单独制作成脚本文件，通过运行相应程序 自动对本地数据库操作并将变化状态持久化地保存在文件中，"
   ]
  },
  {
   "cell_type": "markdown",
   "metadata": {},
   "source": [
    "## OOP"
   ]
  },
  {
   "cell_type": "code",
   "execution_count": 70,
   "metadata": {},
   "outputs": [],
   "source": [
    "# 实例化类的方式来实现记录数据库\n",
    "class Person:\n",
    "    def __init__(self, name, age, pay=0, job=None):\n",
    "        self.name = name\n",
    "        self.age = age\n",
    "        self.pay = pay\n",
    "        self.job = job"
   ]
  },
  {
   "cell_type": "code",
   "execution_count": 71,
   "metadata": {},
   "outputs": [
    {
     "data": {
      "text/plain": [
       "'Smith'"
      ]
     },
     "execution_count": 71,
     "metadata": {},
     "output_type": "execute_result"
    }
   ],
   "source": [
    "bob = Person(\"Bob Smith\", 42, 30000, \"software\")\n",
    "sue = Person(\"Sue Jones\", 45, 35000, \"hartware\")\n",
    "bob.name.split()[-1] # 获取姓氏"
   ]
  },
  {
   "cell_type": "code",
   "execution_count": 72,
   "metadata": {},
   "outputs": [
    {
     "data": {
      "text/plain": [
       "38500.0"
      ]
     },
     "execution_count": 72,
     "metadata": {},
     "output_type": "execute_result"
    }
   ],
   "source": [
    "# 涨薪\n",
    "sue.pay *= 1.1\n",
    "sue.pay"
   ]
  },
  {
   "cell_type": "code",
   "execution_count": 73,
   "metadata": {},
   "outputs": [
    {
     "name": "stdout",
     "output_type": "stream",
     "text": [
      "Bob Smith 30000\n",
      "Sue Jones 35000\n"
     ]
    }
   ],
   "source": [
    "# 将类的实例放入列表和字典，构成一个整体\n",
    "bob = Person(\"Bob Smith\", 42, 30000, \"software\")\n",
    "sue = Person(\"Sue Jones\", 45, 35000, \"hartware\")\n",
    "\n",
    "people = [bob, sue]  # 构成一个数据库列表\n",
    "for person in people:\n",
    "    print(person.name, person.pay)"
   ]
  },
  {
   "cell_type": "code",
   "execution_count": 74,
   "metadata": {},
   "outputs": [
    {
     "data": {
      "text/plain": [
       "[('Bob Smith', 42, 30000, 'software'), ('Sue Jones', 45, 35000, 'hartware')]"
      ]
     },
     "execution_count": 74,
     "metadata": {},
     "output_type": "execute_result"
    }
   ],
   "source": [
    "x = [(person.name, person.age, person.pay,  person.job) for person in people]\n",
    "x"
   ]
  },
  {
   "cell_type": "code",
   "execution_count": 75,
   "metadata": {},
   "outputs": [
    {
     "data": {
      "text/plain": [
       "['Sue Jones']"
      ]
     },
     "execution_count": 75,
     "metadata": {},
     "output_type": "execute_result"
    }
   ],
   "source": [
    "# SQL 风格查询\n",
    "[rec.name for rec in people if rec.age >= 45]"
   ]
  },
  {
   "cell_type": "code",
   "execution_count": 76,
   "metadata": {},
   "outputs": [],
   "source": [
    "#  为类添加行为\n",
    "class Person:\n",
    "    def __init__(self, name, age, pay=0, job=None):\n",
    "        self.name = name\n",
    "        self.age = age\n",
    "        self.pay = pay\n",
    "        self.job = job\n",
    "    \n",
    "    def get_LastName(self):\n",
    "        return self.name.split()[-1]\n",
    "\n",
    "    def giveRaise(self, percent=0.1):\n",
    "        self.pay *= (1.0 + percent)"
   ]
  },
  {
   "cell_type": "code",
   "execution_count": 77,
   "metadata": {},
   "outputs": [
    {
     "data": {
      "text/plain": [
       "'Smith'"
      ]
     },
     "execution_count": 77,
     "metadata": {},
     "output_type": "execute_result"
    }
   ],
   "source": [
    "bob = Person(\"Bob Smith\", 42, 30000, \"software\")\n",
    "sue = Person(\"Sue Jones\", 45, 35000, \"hartware\")\n",
    "\n",
    "bob.get_LastName()"
   ]
  },
  {
   "cell_type": "code",
   "execution_count": 78,
   "metadata": {},
   "outputs": [
    {
     "name": "stdout",
     "output_type": "stream",
     "text": [
      "35000\n",
      "38500.0\n"
     ]
    }
   ],
   "source": [
    "print(sue.pay)\n",
    "sue.giveRaise()\n",
    "print(sue.pay)"
   ]
  },
  {
   "cell_type": "code",
   "execution_count": 79,
   "metadata": {},
   "outputs": [],
   "source": [
    "# 继承  通过人员类型编写子类\n",
    "class Manager(Person):\n",
    "    \n",
    "    # 比如管理层除了正常涨薪还有 额外百分比的奖金的话\n",
    "    # 重写该功能\n",
    "    def giveRaise(self, percent=0.1, bonus=0.1) :\n",
    "        self.pay *= (1.0 + percent +bonus)"
   ]
  },
  {
   "cell_type": "code",
   "execution_count": 80,
   "metadata": {},
   "outputs": [
    {
     "data": {
      "text/plain": [
       "'Doe'"
      ]
     },
     "execution_count": 80,
     "metadata": {},
     "output_type": "execute_result"
    }
   ],
   "source": [
    "tom = Manager(name=\"Tom Doe\", age=50, pay=50000)\n",
    "tom.get_LastName() # 父类的功能"
   ]
  },
  {
   "cell_type": "code",
   "execution_count": 81,
   "metadata": {},
   "outputs": [
    {
     "data": {
      "text/plain": [
       "65000.0"
      ]
     },
     "execution_count": 81,
     "metadata": {},
     "output_type": "execute_result"
    }
   ],
   "source": [
    "tom.giveRaise(bonus=.20) # 自定义的涨薪功能\n",
    "tom.pay"
   ]
  },
  {
   "cell_type": "markdown",
   "metadata": {},
   "source": [
    "## 重构"
   ]
  },
  {
   "cell_type": "code",
   "execution_count": 82,
   "metadata": {},
   "outputs": [],
   "source": [
    "# 增强方法\n",
    "class Manager(Person):\n",
    "    \n",
    "    def giveRaise(self, percent=0.1, bonus=0.1) :\n",
    "        Person.giveRaise(self, percent+bonus)\n",
    "# 1.调用父类的方法显式地传入self参数\n",
    "# 2. 虽然重新定义了该方法，但我们调用的是通用的方法，不但可以降低冗余（业务逻辑只出现一次）\n",
    "# 3.实践中易于启动父类的构造器"
   ]
  },
  {
   "cell_type": "code",
   "execution_count": 83,
   "metadata": {},
   "outputs": [],
   "source": [
    "# 格式化显示\n",
    "class Person:\n",
    "    def __init__(self, name, age, pay=0, job=None):\n",
    "        self.name = name\n",
    "        self.age = age\n",
    "        self.pay = pay\n",
    "        self.job = job\n",
    "    # 操作符重载\n",
    "    def __str__(self):\n",
    "        # 自定义返回值,对当对象需要作为整体打印时，比实例缺省的显示好得多\n",
    "        return \"<%s => %s: %s, %s>\" % (self.__class__.__name__, self.name, self.job, self.pay)\n",
    "\n",
    "    def get_LastName(self):\n",
    "        return self.name.split()[-1]\n",
    "    \n",
    "    # 可以编写 __add__ 使得 + 表达式自动调用 giveraise方法，代价是代码可读性变差，不知到具体你 + 了啥？\n",
    "    def giveRaise(self, percent=0.1):\n",
    "        self.pay *= (1.0 + percent)\n",
    "\n",
    "\n",
    "class Manager(Person):\n",
    "    \n",
    "    def __init__(self, name, age, pay):\n",
    "        Person.__init__(self, name, age, pay=0, job=\"Manager\")\n",
    "\n",
    "    def giveRaise(self, percent=0.1, bonus=0.1) :\n",
    "        Person.giveRaise(self, percent+bonus)"
   ]
  },
  {
   "cell_type": "code",
   "execution_count": 84,
   "metadata": {},
   "outputs": [
    {
     "name": "stdout",
     "output_type": "stream",
     "text": [
      "<Person => Bob Smith: None, 0.0>\n",
      "<Person => Sue Jones: Hardware, 44000.0>\n",
      "<Manager => Tom Doe: Manager, 0.0>\n"
     ]
    }
   ],
   "source": [
    "bob = Person(\"Bob Smith\", 44)\n",
    "sue = Person(\"Sue Jones\", 47, 40000, \"Hardware\")\n",
    "tom = Manager(name=\"Tom Doe\", age=50, pay=50000)\n",
    "for obj in (bob, sue, tom):\n",
    "    obj.giveRaise(.10)\n",
    "    print(obj)"
   ]
  },
  {
   "cell_type": "code",
   "execution_count": 85,
   "metadata": {},
   "outputs": [],
   "source": [
    "# 增加持久化\n",
    "bob = Person(\"Bob Smith\", 44)\n",
    "sue = Person(\"Sue Jones\", 47, 40000, \"Hardware\")\n",
    "tom = Manager(name=\"Tom Doe\", age=50, pay=50000)\n",
    "\n",
    "# 创建了类实例的shelve、然后赋给新建的shelve文件的键\n",
    "db = shelve.open(\"class-shelve\")\n",
    "db[\"bob\"] = bob\n",
    "db[\"sue\"] = sue\n",
    "db[\"tom\"] = tom\n",
    "db.close()"
   ]
  },
  {
   "cell_type": "code",
   "execution_count": 86,
   "metadata": {},
   "outputs": [
    {
     "name": "stdout",
     "output_type": "stream",
     "text": [
      "bob  =>\n",
      "  Bob Smith 0\n",
      "sue  =>\n",
      "  Sue Jones 40000\n",
      "tom  =>\n",
      "  Tom Doe 0\n"
     ]
    }
   ],
   "source": [
    "# 检验数据库\n",
    "db = shelve.open(\"class-shelve\")\n",
    "for key in db:\n",
    "    print(key, \" =>\\n \", db[key].name, db[key].pay)"
   ]
  },
  {
   "cell_type": "code",
   "execution_count": 87,
   "metadata": {},
   "outputs": [
    {
     "name": "stdout",
     "output_type": "stream",
     "text": [
      "Smith\n"
     ]
    }
   ],
   "source": [
    "bob = db[\"bob\"]\n",
    "print(bob.get_LastName())  # 不需要导入类相关类，会自动定位相关类"
   ]
  },
  {
   "cell_type": "code",
   "execution_count": null,
   "metadata": {},
   "outputs": [],
   "source": []
  }
 ],
 "metadata": {
  "file_extension": ".py",
  "kernelspec": {
   "display_name": "Python 3",
   "language": "python",
   "name": "python3"
  },
  "language_info": {
   "codemirror_mode": {
    "name": "ipython",
    "version": 3
   },
   "file_extension": ".py",
   "mimetype": "text/x-python",
   "name": "python",
   "nbconvert_exporter": "python",
   "pygments_lexer": "ipython3",
   "version": "3.7.3"
  },
  "mimetype": "text/x-python",
  "name": "python",
  "npconvert_exporter": "python",
  "pygments_lexer": "ipython3",
  "toc": {
   "base_numbering": 1,
   "nav_menu": {},
   "number_sections": true,
   "sideBar": true,
   "skip_h1_title": false,
   "title_cell": "Table of Contents",
   "title_sidebar": "Contents",
   "toc_cell": false,
   "toc_position": {
    "height": "calc(100% - 180px)",
    "left": "10px",
    "top": "150px",
    "width": "165px"
   },
   "toc_section_display": true,
   "toc_window_display": true
  },
  "version": 3
 },
 "nbformat": 4,
 "nbformat_minor": 2
}
